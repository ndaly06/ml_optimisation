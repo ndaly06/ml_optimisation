{
 "cells": [
  {
   "cell_type": "code",
   "execution_count": 1,
   "metadata": {},
   "outputs": [],
   "source": [
    "# imports the necessary packages\n",
    "import io\n",
    "import pandas as pd\n",
    "import pickle\n",
    "from PyPDF2 import PdfFileReader\n",
    "from tika import parser"
   ]
  },
  {
   "cell_type": "code",
   "execution_count": 2,
   "metadata": {},
   "outputs": [
    {
     "data": {
      "text/html": [
       "<div>\n",
       "<style scoped>\n",
       "    .dataframe tbody tr th:only-of-type {\n",
       "        vertical-align: middle;\n",
       "    }\n",
       "\n",
       "    .dataframe tbody tr th {\n",
       "        vertical-align: top;\n",
       "    }\n",
       "\n",
       "    .dataframe thead th {\n",
       "        text-align: right;\n",
       "    }\n",
       "</style>\n",
       "<table border=\"1\" class=\"dataframe\">\n",
       "  <thead>\n",
       "    <tr style=\"text-align: right;\">\n",
       "      <th></th>\n",
       "      <th>paper_title</th>\n",
       "      <th>paper_url</th>\n",
       "    </tr>\n",
       "  </thead>\n",
       "  <tbody>\n",
       "    <tr>\n",
       "      <th>0</th>\n",
       "      <td>Detecting Oriented Text in Natural Images by L...</td>\n",
       "      <td>https://arxiv.org/pdf/1703.06520v3.pdf</td>\n",
       "    </tr>\n",
       "    <tr>\n",
       "      <th>1</th>\n",
       "      <td>Neural Semantic Encoders</td>\n",
       "      <td>https://arxiv.org/pdf/1607.04315v3.pdf</td>\n",
       "    </tr>\n",
       "    <tr>\n",
       "      <th>2</th>\n",
       "      <td>Pythia v0.1: the Winning Entry to the VQA Chal...</td>\n",
       "      <td>https://arxiv.org/pdf/1807.09956v2.pdf</td>\n",
       "    </tr>\n",
       "    <tr>\n",
       "      <th>3</th>\n",
       "      <td>Large Scale GAN Training for High Fidelity Nat...</td>\n",
       "      <td>https://arxiv.org/pdf/1809.11096v2.pdf</td>\n",
       "    </tr>\n",
       "    <tr>\n",
       "      <th>4</th>\n",
       "      <td>Margin-based Parallel Corpus Mining with Multi...</td>\n",
       "      <td>https://arxiv.org/pdf/1811.01136v1.pdf</td>\n",
       "    </tr>\n",
       "  </tbody>\n",
       "</table>\n",
       "</div>"
      ],
      "text/plain": [
       "                                         paper_title  \\\n",
       "0  Detecting Oriented Text in Natural Images by L...   \n",
       "1                           Neural Semantic Encoders   \n",
       "2  Pythia v0.1: the Winning Entry to the VQA Chal...   \n",
       "3  Large Scale GAN Training for High Fidelity Nat...   \n",
       "4  Margin-based Parallel Corpus Mining with Multi...   \n",
       "\n",
       "                                paper_url  \n",
       "0  https://arxiv.org/pdf/1703.06520v3.pdf  \n",
       "1  https://arxiv.org/pdf/1607.04315v3.pdf  \n",
       "2  https://arxiv.org/pdf/1807.09956v2.pdf  \n",
       "3  https://arxiv.org/pdf/1809.11096v2.pdf  \n",
       "4  https://arxiv.org/pdf/1811.01136v1.pdf  "
      ]
     },
     "execution_count": 2,
     "metadata": {},
     "output_type": "execute_result"
    }
   ],
   "source": [
    "# reads in the paper_urls file as a pandas dataframe\n",
    "paper_urls = pd.read_csv('/Users/nialdaly/Documents/ml_optimisation/data/pw_code_paper_urls.csv', index_col=False)\n",
    "\n",
    "paper_urls.head()"
   ]
  },
  {
   "cell_type": "code",
   "execution_count": 3,
   "metadata": {},
   "outputs": [
    {
     "data": {
      "text/plain": [
       "'https://arxiv.org/pdf/1703.06520v3.pdf'"
      ]
     },
     "execution_count": 3,
     "metadata": {},
     "output_type": "execute_result"
    }
   ],
   "source": [
    "# selects the url from the first paper\n",
    "paper_urls.iloc[0][1]"
   ]
  },
  {
   "cell_type": "code",
   "execution_count": 6,
   "metadata": {},
   "outputs": [
    {
     "name": "stderr",
     "output_type": "stream",
     "text": [
      "2019-05-07 09:09:11,199 [MainThread  ] [INFO ]  Retrieving https://arxiv.org/pdf/1703.06520v3.pdf to /var/folders/1x/nph4r0452v1dk6t51bknf9080000gn/T/https-arxiv-org-pdf-1703-06520v3-pdf.\n"
     ]
    }
   ],
   "source": [
    "# # initializes an empty paper_content dictionary\n",
    "paper_content = {}\n",
    "\n",
    "# iterates through each url in the paper_urls dataframe\n",
    "for i in range(1):\n",
    "    \n",
    "    # parses the paper from the url\n",
    "    paper = parser.from_file(paper_urls.iloc[i][1])\n",
    "    \n",
    "    # extracts the content from the paper\n",
    "    text = paper['content']\n",
    "    \n",
    "    # splits the text by whitespace and creates a list\n",
    "    split_text = text.split(' ')\n",
    "    \n",
    "    # list comprehension that strips the \\n from the split_text list\n",
    "    split_text = [i.strip() for i in split_text]\n",
    "    \n",
    "    # assigns each paper text to the paper_content dict\n",
    "    paper_content[paper_urls.iloc[i][0]] = split_text"
   ]
  },
  {
   "cell_type": "code",
   "execution_count": 7,
   "metadata": {},
   "outputs": [
    {
     "data": {
      "text/html": [
       "<div>\n",
       "<style scoped>\n",
       "    .dataframe tbody tr th:only-of-type {\n",
       "        vertical-align: middle;\n",
       "    }\n",
       "\n",
       "    .dataframe tbody tr th {\n",
       "        vertical-align: top;\n",
       "    }\n",
       "\n",
       "    .dataframe thead th {\n",
       "        text-align: right;\n",
       "    }\n",
       "</style>\n",
       "<table border=\"1\" class=\"dataframe\">\n",
       "  <thead>\n",
       "    <tr style=\"text-align: right;\">\n",
       "      <th></th>\n",
       "      <th>paper_title</th>\n",
       "      <th>paper_content</th>\n",
       "    </tr>\n",
       "  </thead>\n",
       "  <tbody>\n",
       "    <tr>\n",
       "      <th>0</th>\n",
       "      <td>Detecting Oriented Text in Natural Images by L...</td>\n",
       "      <td>[Detecting, Oriented, Text, in, Natural, Image...</td>\n",
       "    </tr>\n",
       "  </tbody>\n",
       "</table>\n",
       "</div>"
      ],
      "text/plain": [
       "                                         paper_title  \\\n",
       "0  Detecting Oriented Text in Natural Images by L...   \n",
       "\n",
       "                                       paper_content  \n",
       "0  [Detecting, Oriented, Text, in, Natural, Image...  "
      ]
     },
     "execution_count": 7,
     "metadata": {},
     "output_type": "execute_result"
    }
   ],
   "source": [
    "# creates the paper_data dataframe from the paper_content dict\n",
    "paper_data = pd.DataFrame(list(paper_content.items()), columns=['paper_title', 'paper_content'])\n",
    "\n",
    "paper_data.head()"
   ]
  },
  {
   "cell_type": "code",
   "execution_count": 8,
   "metadata": {},
   "outputs": [],
   "source": [
    "# exports the paper_data to csv\n",
    "paper_data.to_csv('/Users/nialdaly/Documents/ml_optimisation/data/pw_code_papers_text.csv', index=False)"
   ]
  }
 ],
 "metadata": {
  "kernelspec": {
   "display_name": "Python 3",
   "language": "python",
   "name": "python3"
  },
  "language_info": {
   "codemirror_mode": {
    "name": "ipython",
    "version": 3
   },
   "file_extension": ".py",
   "mimetype": "text/x-python",
   "name": "python",
   "nbconvert_exporter": "python",
   "pygments_lexer": "ipython3",
   "version": "3.6.4"
  }
 },
 "nbformat": 4,
 "nbformat_minor": 2
}
