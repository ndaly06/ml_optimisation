{
 "cells": [
  {
   "cell_type": "code",
   "execution_count": 24,
   "metadata": {},
   "outputs": [],
   "source": [
    "# imports the necessary packages\n",
    "import io\n",
    "import pandas as pd\n",
    "import pickle\n",
    "from PyPDF2 import PdfFileReader\n",
    "from tika import parser\n",
    "import time"
   ]
  },
  {
   "cell_type": "code",
   "execution_count": 25,
   "metadata": {},
   "outputs": [
    {
     "data": {
      "text/html": [
       "<div>\n",
       "<style scoped>\n",
       "    .dataframe tbody tr th:only-of-type {\n",
       "        vertical-align: middle;\n",
       "    }\n",
       "\n",
       "    .dataframe tbody tr th {\n",
       "        vertical-align: top;\n",
       "    }\n",
       "\n",
       "    .dataframe thead th {\n",
       "        text-align: right;\n",
       "    }\n",
       "</style>\n",
       "<table border=\"1\" class=\"dataframe\">\n",
       "  <thead>\n",
       "    <tr style=\"text-align: right;\">\n",
       "      <th></th>\n",
       "      <th>paper_title</th>\n",
       "      <th>paper_url</th>\n",
       "    </tr>\n",
       "  </thead>\n",
       "  <tbody>\n",
       "    <tr>\n",
       "      <th>0</th>\n",
       "      <td>Detecting Oriented Text in Natural Images by L...</td>\n",
       "      <td>https://arxiv.org/pdf/1703.06520v3.pdf</td>\n",
       "    </tr>\n",
       "    <tr>\n",
       "      <th>1</th>\n",
       "      <td>Neural Semantic Encoders</td>\n",
       "      <td>https://arxiv.org/pdf/1607.04315v3.pdf</td>\n",
       "    </tr>\n",
       "    <tr>\n",
       "      <th>2</th>\n",
       "      <td>Pythia v0.1: the Winning Entry to the VQA Chal...</td>\n",
       "      <td>https://arxiv.org/pdf/1807.09956v2.pdf</td>\n",
       "    </tr>\n",
       "    <tr>\n",
       "      <th>3</th>\n",
       "      <td>Large Scale GAN Training for High Fidelity Nat...</td>\n",
       "      <td>https://arxiv.org/pdf/1809.11096v2.pdf</td>\n",
       "    </tr>\n",
       "    <tr>\n",
       "      <th>4</th>\n",
       "      <td>Margin-based Parallel Corpus Mining with Multi...</td>\n",
       "      <td>https://arxiv.org/pdf/1811.01136v1.pdf</td>\n",
       "    </tr>\n",
       "  </tbody>\n",
       "</table>\n",
       "</div>"
      ],
      "text/plain": [
       "                                         paper_title  \\\n",
       "0  Detecting Oriented Text in Natural Images by L...   \n",
       "1                           Neural Semantic Encoders   \n",
       "2  Pythia v0.1: the Winning Entry to the VQA Chal...   \n",
       "3  Large Scale GAN Training for High Fidelity Nat...   \n",
       "4  Margin-based Parallel Corpus Mining with Multi...   \n",
       "\n",
       "                                paper_url  \n",
       "0  https://arxiv.org/pdf/1703.06520v3.pdf  \n",
       "1  https://arxiv.org/pdf/1607.04315v3.pdf  \n",
       "2  https://arxiv.org/pdf/1807.09956v2.pdf  \n",
       "3  https://arxiv.org/pdf/1809.11096v2.pdf  \n",
       "4  https://arxiv.org/pdf/1811.01136v1.pdf  "
      ]
     },
     "execution_count": 25,
     "metadata": {},
     "output_type": "execute_result"
    }
   ],
   "source": [
    "# reads in the paper_urls file as a pandas dataframe\n",
    "paper_urls = pd.read_csv('/Users/nialdaly/Documents/ml_optimisation/data/pw_code_paper_urls.csv', index_col=False)\n",
    "\n",
    "paper_urls.head()"
   ]
  },
  {
   "cell_type": "code",
   "execution_count": 26,
   "metadata": {},
   "outputs": [
    {
     "data": {
      "text/plain": [
       "'https://arxiv.org/pdf/1703.06520v3.pdf'"
      ]
     },
     "execution_count": 26,
     "metadata": {},
     "output_type": "execute_result"
    }
   ],
   "source": [
    "# selects the url from the first paper\n",
    "paper_urls.iloc[0][1]"
   ]
  },
  {
   "cell_type": "code",
   "execution_count": 27,
   "metadata": {},
   "outputs": [
    {
     "data": {
      "text/plain": [
       "1314"
      ]
     },
     "execution_count": 27,
     "metadata": {},
     "output_type": "execute_result"
    }
   ],
   "source": [
    "len(paper_urls)"
   ]
  },
  {
   "cell_type": "code",
   "execution_count": 26,
   "metadata": {},
   "outputs": [
    {
     "data": {
      "text/plain": [
       "'https://openaccess.thecvf.com/content_ECCV_2018/papers/Tobias_Fischer_RT-GENE_Real-Time_Eye_ECCV_2018_paper.pdf'"
      ]
     },
     "execution_count": 26,
     "metadata": {},
     "output_type": "execute_result"
    }
   ],
   "source": [
    "#\n",
    "x = paper_urls.iloc[85][1]"
   ]
  },
  {
   "cell_type": "code",
   "execution_count": 32,
   "metadata": {},
   "outputs": [
    {
     "data": {
      "text/html": [
       "<div>\n",
       "<style scoped>\n",
       "    .dataframe tbody tr th:only-of-type {\n",
       "        vertical-align: middle;\n",
       "    }\n",
       "\n",
       "    .dataframe tbody tr th {\n",
       "        vertical-align: top;\n",
       "    }\n",
       "\n",
       "    .dataframe thead th {\n",
       "        text-align: right;\n",
       "    }\n",
       "</style>\n",
       "<table border=\"1\" class=\"dataframe\">\n",
       "  <thead>\n",
       "    <tr style=\"text-align: right;\">\n",
       "      <th></th>\n",
       "      <th>paper_title</th>\n",
       "      <th>paper_url</th>\n",
       "    </tr>\n",
       "  </thead>\n",
       "  <tbody>\n",
       "    <tr>\n",
       "      <th>0</th>\n",
       "      <td>Detecting Oriented Text in Natural Images by L...</td>\n",
       "      <td>https://arxiv.org/pdf/1703.06520v3.pdf</td>\n",
       "    </tr>\n",
       "    <tr>\n",
       "      <th>1</th>\n",
       "      <td>Neural Semantic Encoders</td>\n",
       "      <td>https://arxiv.org/pdf/1607.04315v3.pdf</td>\n",
       "    </tr>\n",
       "    <tr>\n",
       "      <th>2</th>\n",
       "      <td>Pythia v0.1: the Winning Entry to the VQA Chal...</td>\n",
       "      <td>https://arxiv.org/pdf/1807.09956v2.pdf</td>\n",
       "    </tr>\n",
       "    <tr>\n",
       "      <th>3</th>\n",
       "      <td>Large Scale GAN Training for High Fidelity Nat...</td>\n",
       "      <td>https://arxiv.org/pdf/1809.11096v2.pdf</td>\n",
       "    </tr>\n",
       "    <tr>\n",
       "      <th>4</th>\n",
       "      <td>Margin-based Parallel Corpus Mining with Multi...</td>\n",
       "      <td>https://arxiv.org/pdf/1811.01136v1.pdf</td>\n",
       "    </tr>\n",
       "  </tbody>\n",
       "</table>\n",
       "</div>"
      ],
      "text/plain": [
       "                                         paper_title  \\\n",
       "0  Detecting Oriented Text in Natural Images by L...   \n",
       "1                           Neural Semantic Encoders   \n",
       "2  Pythia v0.1: the Winning Entry to the VQA Chal...   \n",
       "3  Large Scale GAN Training for High Fidelity Nat...   \n",
       "4  Margin-based Parallel Corpus Mining with Multi...   \n",
       "\n",
       "                                paper_url  \n",
       "0  https://arxiv.org/pdf/1703.06520v3.pdf  \n",
       "1  https://arxiv.org/pdf/1607.04315v3.pdf  \n",
       "2  https://arxiv.org/pdf/1807.09956v2.pdf  \n",
       "3  https://arxiv.org/pdf/1809.11096v2.pdf  \n",
       "4  https://arxiv.org/pdf/1811.01136v1.pdf  "
      ]
     },
     "execution_count": 32,
     "metadata": {},
     "output_type": "execute_result"
    }
   ],
   "source": [
    "paper_urls.drop(85, inplace=True)\n",
    "\n",
    "paper_urls.head()"
   ]
  },
  {
   "cell_type": "code",
   "execution_count": 17,
   "metadata": {},
   "outputs": [
    {
     "data": {
      "text/plain": [
       "'https://openaccess.thecvf.com/content_ECCV_2018/papers/Wei_Liu_Learning_Efficient_Single-stage_ECCV_2018_paper.pdf'"
      ]
     },
     "execution_count": 17,
     "metadata": {},
     "output_type": "execute_result"
    }
   ],
   "source": [
    "paper_urls.iloc[128][1]"
   ]
  },
  {
   "cell_type": "code",
   "execution_count": 40,
   "metadata": {},
   "outputs": [
    {
     "data": {
      "text/plain": [
       "1313"
      ]
     },
     "execution_count": 40,
     "metadata": {},
     "output_type": "execute_result"
    }
   ],
   "source": [
    "len(paper_urls)"
   ]
  },
  {
   "cell_type": "code",
   "execution_count": null,
   "metadata": {},
   "outputs": [],
   "source": [
    "# text_extract function\n",
    "def text_extract(url):\n",
    "    \n",
    "    paper = parser.from_file(url)\n",
    "    time.sleep(3)\n",
    "    text = paper['content']\n",
    "    text_split = text.split(' ')\n",
    "    text_split = [t.strip() for t in text_split]\n",
    "\n",
    "# end of text_extract function"
   ]
  },
  {
   "cell_type": "code",
   "execution_count": 28,
   "metadata": {},
   "outputs": [
    {
     "name": "stderr",
     "output_type": "stream",
     "text": [
      "2019-05-13 17:38:55,116 [MainThread  ] [INFO ]  Retrieving https://arxiv.org/pdf/1703.06520v3.pdf to /var/folders/1x/nph4r0452v1dk6t51bknf9080000gn/T/https-arxiv-org-pdf-1703-06520v3-pdf.\n"
     ]
    },
    {
     "name": "stdout",
     "output_type": "stream",
     "text": [
      "0\n"
     ]
    },
    {
     "ename": "KeyboardInterrupt",
     "evalue": "",
     "output_type": "error",
     "traceback": [
      "\u001b[0;31m---------------------------------------------------------------------------\u001b[0m",
      "\u001b[0;31mKeyboardInterrupt\u001b[0m                         Traceback (most recent call last)",
      "\u001b[0;32m<ipython-input-28-c383d9816cc2>\u001b[0m in \u001b[0;36m<module>\u001b[0;34m()\u001b[0m\n\u001b[1;32m      9\u001b[0m \u001b[0;34m\u001b[0m\u001b[0m\n\u001b[1;32m     10\u001b[0m     \u001b[0;31m# parses the paper from the url\u001b[0m\u001b[0;34m\u001b[0m\u001b[0;34m\u001b[0m\u001b[0m\n\u001b[0;32m---> 11\u001b[0;31m     \u001b[0mpaper\u001b[0m \u001b[0;34m=\u001b[0m \u001b[0mparser\u001b[0m\u001b[0;34m.\u001b[0m\u001b[0mfrom_file\u001b[0m\u001b[0;34m(\u001b[0m\u001b[0mpaper_urls\u001b[0m\u001b[0;34m.\u001b[0m\u001b[0miloc\u001b[0m\u001b[0;34m[\u001b[0m\u001b[0mi\u001b[0m\u001b[0;34m]\u001b[0m\u001b[0;34m[\u001b[0m\u001b[0;36m1\u001b[0m\u001b[0;34m]\u001b[0m\u001b[0;34m)\u001b[0m\u001b[0;34m\u001b[0m\u001b[0m\n\u001b[0m\u001b[1;32m     12\u001b[0m \u001b[0;34m\u001b[0m\u001b[0m\n\u001b[1;32m     13\u001b[0m     \u001b[0;31m# delays the script by 3 seconds\u001b[0m\u001b[0;34m\u001b[0m\u001b[0;34m\u001b[0m\u001b[0m\n",
      "\u001b[0;32m/Library/Frameworks/Python.framework/Versions/3.6/lib/python3.6/site-packages/tika/parser.py\u001b[0m in \u001b[0;36mfrom_file\u001b[0;34m(filename, serverEndpoint, xmlContent, headers, config_path)\u001b[0m\n\u001b[1;32m     34\u001b[0m     '''\n\u001b[1;32m     35\u001b[0m     \u001b[0;32mif\u001b[0m \u001b[0;32mnot\u001b[0m \u001b[0mxmlContent\u001b[0m\u001b[0;34m:\u001b[0m\u001b[0;34m\u001b[0m\u001b[0m\n\u001b[0;32m---> 36\u001b[0;31m         \u001b[0mjsonOutput\u001b[0m \u001b[0;34m=\u001b[0m \u001b[0mparse1\u001b[0m\u001b[0;34m(\u001b[0m\u001b[0;34m'all'\u001b[0m\u001b[0;34m,\u001b[0m \u001b[0mfilename\u001b[0m\u001b[0;34m,\u001b[0m \u001b[0mserverEndpoint\u001b[0m\u001b[0;34m,\u001b[0m \u001b[0mheaders\u001b[0m\u001b[0;34m=\u001b[0m\u001b[0mheaders\u001b[0m\u001b[0;34m,\u001b[0m \u001b[0mconfig_path\u001b[0m\u001b[0;34m=\u001b[0m\u001b[0mconfig_path\u001b[0m\u001b[0;34m)\u001b[0m\u001b[0;34m\u001b[0m\u001b[0m\n\u001b[0m\u001b[1;32m     37\u001b[0m     \u001b[0;32melse\u001b[0m\u001b[0;34m:\u001b[0m\u001b[0;34m\u001b[0m\u001b[0m\n\u001b[1;32m     38\u001b[0m         jsonOutput = parse1('all', filename, serverEndpoint, services={'meta': '/meta', 'text': '/tika', 'all': '/rmeta/xml'},\n",
      "\u001b[0;32m/Library/Frameworks/Python.framework/Versions/3.6/lib/python3.6/site-packages/tika/tika.py\u001b[0m in \u001b[0;36mparse1\u001b[0;34m(option, urlOrPath, serverEndpoint, verbose, tikaServerJar, responseMimeType, services, rawResponse, headers, config_path)\u001b[0m\n\u001b[1;32m    318\u001b[0m     \u001b[0mheaders\u001b[0m \u001b[0;34m=\u001b[0m \u001b[0mheaders\u001b[0m \u001b[0;32mor\u001b[0m \u001b[0;34m{\u001b[0m\u001b[0;34m}\u001b[0m\u001b[0;34m\u001b[0m\u001b[0m\n\u001b[1;32m    319\u001b[0m \u001b[0;34m\u001b[0m\u001b[0m\n\u001b[0;32m--> 320\u001b[0;31m     \u001b[0mpath\u001b[0m\u001b[0;34m,\u001b[0m \u001b[0mfile_type\u001b[0m \u001b[0;34m=\u001b[0m \u001b[0mgetRemoteFile\u001b[0m\u001b[0;34m(\u001b[0m\u001b[0murlOrPath\u001b[0m\u001b[0;34m,\u001b[0m \u001b[0mTikaFilesPath\u001b[0m\u001b[0;34m)\u001b[0m\u001b[0;34m\u001b[0m\u001b[0m\n\u001b[0m\u001b[1;32m    321\u001b[0m     \u001b[0mheaders\u001b[0m\u001b[0;34m.\u001b[0m\u001b[0mupdate\u001b[0m\u001b[0;34m(\u001b[0m\u001b[0;34m{\u001b[0m\u001b[0;34m'Accept'\u001b[0m\u001b[0;34m:\u001b[0m \u001b[0mresponseMimeType\u001b[0m\u001b[0;34m,\u001b[0m \u001b[0;34m'Content-Disposition'\u001b[0m\u001b[0;34m:\u001b[0m \u001b[0mmake_content_disposition_header\u001b[0m\u001b[0;34m(\u001b[0m\u001b[0mpath\u001b[0m\u001b[0;34m)\u001b[0m\u001b[0;34m}\u001b[0m\u001b[0;34m)\u001b[0m\u001b[0;34m\u001b[0m\u001b[0m\n\u001b[1;32m    322\u001b[0m \u001b[0;34m\u001b[0m\u001b[0m\n",
      "\u001b[0;32m/Library/Frameworks/Python.framework/Versions/3.6/lib/python3.6/site-packages/tika/tika.py\u001b[0m in \u001b[0;36mgetRemoteFile\u001b[0;34m(urlOrPath, destPath)\u001b[0m\n\u001b[1;32m    688\u001b[0m         \u001b[0mlog\u001b[0m\u001b[0;34m.\u001b[0m\u001b[0minfo\u001b[0m\u001b[0;34m(\u001b[0m\u001b[0;34m'Retrieving %s to %s.'\u001b[0m \u001b[0;34m%\u001b[0m \u001b[0;34m(\u001b[0m\u001b[0murlOrPath\u001b[0m\u001b[0;34m,\u001b[0m \u001b[0mdestPath\u001b[0m\u001b[0;34m)\u001b[0m\u001b[0;34m)\u001b[0m\u001b[0;34m\u001b[0m\u001b[0m\n\u001b[1;32m    689\u001b[0m         \u001b[0;32mtry\u001b[0m\u001b[0;34m:\u001b[0m\u001b[0;34m\u001b[0m\u001b[0m\n\u001b[0;32m--> 690\u001b[0;31m             \u001b[0murlretrieve\u001b[0m\u001b[0;34m(\u001b[0m\u001b[0murlOrPath\u001b[0m\u001b[0;34m,\u001b[0m \u001b[0mdestPath\u001b[0m\u001b[0;34m)\u001b[0m\u001b[0;34m\u001b[0m\u001b[0m\n\u001b[0m\u001b[1;32m    691\u001b[0m         \u001b[0;32mexcept\u001b[0m \u001b[0mIOError\u001b[0m\u001b[0;34m:\u001b[0m\u001b[0;34m\u001b[0m\u001b[0m\n\u001b[1;32m    692\u001b[0m             \u001b[0;31m# monkey patch fix for SSL/Windows per Tika-Python #54\u001b[0m\u001b[0;34m\u001b[0m\u001b[0;34m\u001b[0m\u001b[0m\n",
      "\u001b[0;32m/Library/Frameworks/Python.framework/Versions/3.6/lib/python3.6/urllib/request.py\u001b[0m in \u001b[0;36murlretrieve\u001b[0;34m(url, filename, reporthook, data)\u001b[0m\n\u001b[1;32m    275\u001b[0m \u001b[0;34m\u001b[0m\u001b[0m\n\u001b[1;32m    276\u001b[0m             \u001b[0;32mwhile\u001b[0m \u001b[0;32mTrue\u001b[0m\u001b[0;34m:\u001b[0m\u001b[0;34m\u001b[0m\u001b[0m\n\u001b[0;32m--> 277\u001b[0;31m                 \u001b[0mblock\u001b[0m \u001b[0;34m=\u001b[0m \u001b[0mfp\u001b[0m\u001b[0;34m.\u001b[0m\u001b[0mread\u001b[0m\u001b[0;34m(\u001b[0m\u001b[0mbs\u001b[0m\u001b[0;34m)\u001b[0m\u001b[0;34m\u001b[0m\u001b[0m\n\u001b[0m\u001b[1;32m    278\u001b[0m                 \u001b[0;32mif\u001b[0m \u001b[0;32mnot\u001b[0m \u001b[0mblock\u001b[0m\u001b[0;34m:\u001b[0m\u001b[0;34m\u001b[0m\u001b[0m\n\u001b[1;32m    279\u001b[0m                     \u001b[0;32mbreak\u001b[0m\u001b[0;34m\u001b[0m\u001b[0m\n",
      "\u001b[0;32m/Library/Frameworks/Python.framework/Versions/3.6/lib/python3.6/http/client.py\u001b[0m in \u001b[0;36mread\u001b[0;34m(self, amt)\u001b[0m\n\u001b[1;32m    447\u001b[0m             \u001b[0;31m# Amount is given, implement using readinto\u001b[0m\u001b[0;34m\u001b[0m\u001b[0;34m\u001b[0m\u001b[0m\n\u001b[1;32m    448\u001b[0m             \u001b[0mb\u001b[0m \u001b[0;34m=\u001b[0m \u001b[0mbytearray\u001b[0m\u001b[0;34m(\u001b[0m\u001b[0mamt\u001b[0m\u001b[0;34m)\u001b[0m\u001b[0;34m\u001b[0m\u001b[0m\n\u001b[0;32m--> 449\u001b[0;31m             \u001b[0mn\u001b[0m \u001b[0;34m=\u001b[0m \u001b[0mself\u001b[0m\u001b[0;34m.\u001b[0m\u001b[0mreadinto\u001b[0m\u001b[0;34m(\u001b[0m\u001b[0mb\u001b[0m\u001b[0;34m)\u001b[0m\u001b[0;34m\u001b[0m\u001b[0m\n\u001b[0m\u001b[1;32m    450\u001b[0m             \u001b[0;32mreturn\u001b[0m \u001b[0mmemoryview\u001b[0m\u001b[0;34m(\u001b[0m\u001b[0mb\u001b[0m\u001b[0;34m)\u001b[0m\u001b[0;34m[\u001b[0m\u001b[0;34m:\u001b[0m\u001b[0mn\u001b[0m\u001b[0;34m]\u001b[0m\u001b[0;34m.\u001b[0m\u001b[0mtobytes\u001b[0m\u001b[0;34m(\u001b[0m\u001b[0;34m)\u001b[0m\u001b[0;34m\u001b[0m\u001b[0m\n\u001b[1;32m    451\u001b[0m         \u001b[0;32melse\u001b[0m\u001b[0;34m:\u001b[0m\u001b[0;34m\u001b[0m\u001b[0m\n",
      "\u001b[0;32m/Library/Frameworks/Python.framework/Versions/3.6/lib/python3.6/http/client.py\u001b[0m in \u001b[0;36mreadinto\u001b[0;34m(self, b)\u001b[0m\n\u001b[1;32m    491\u001b[0m         \u001b[0;31m# connection, and the user is reading more bytes than will be provided\u001b[0m\u001b[0;34m\u001b[0m\u001b[0;34m\u001b[0m\u001b[0m\n\u001b[1;32m    492\u001b[0m         \u001b[0;31m# (for example, reading in 1k chunks)\u001b[0m\u001b[0;34m\u001b[0m\u001b[0;34m\u001b[0m\u001b[0m\n\u001b[0;32m--> 493\u001b[0;31m         \u001b[0mn\u001b[0m \u001b[0;34m=\u001b[0m \u001b[0mself\u001b[0m\u001b[0;34m.\u001b[0m\u001b[0mfp\u001b[0m\u001b[0;34m.\u001b[0m\u001b[0mreadinto\u001b[0m\u001b[0;34m(\u001b[0m\u001b[0mb\u001b[0m\u001b[0;34m)\u001b[0m\u001b[0;34m\u001b[0m\u001b[0m\n\u001b[0m\u001b[1;32m    494\u001b[0m         \u001b[0;32mif\u001b[0m \u001b[0;32mnot\u001b[0m \u001b[0mn\u001b[0m \u001b[0;32mand\u001b[0m \u001b[0mb\u001b[0m\u001b[0;34m:\u001b[0m\u001b[0;34m\u001b[0m\u001b[0m\n\u001b[1;32m    495\u001b[0m             \u001b[0;31m# Ideally, we would raise IncompleteRead if the content-length\u001b[0m\u001b[0;34m\u001b[0m\u001b[0;34m\u001b[0m\u001b[0m\n",
      "\u001b[0;32m/Library/Frameworks/Python.framework/Versions/3.6/lib/python3.6/socket.py\u001b[0m in \u001b[0;36mreadinto\u001b[0;34m(self, b)\u001b[0m\n\u001b[1;32m    584\u001b[0m         \u001b[0;32mwhile\u001b[0m \u001b[0;32mTrue\u001b[0m\u001b[0;34m:\u001b[0m\u001b[0;34m\u001b[0m\u001b[0m\n\u001b[1;32m    585\u001b[0m             \u001b[0;32mtry\u001b[0m\u001b[0;34m:\u001b[0m\u001b[0;34m\u001b[0m\u001b[0m\n\u001b[0;32m--> 586\u001b[0;31m                 \u001b[0;32mreturn\u001b[0m \u001b[0mself\u001b[0m\u001b[0;34m.\u001b[0m\u001b[0m_sock\u001b[0m\u001b[0;34m.\u001b[0m\u001b[0mrecv_into\u001b[0m\u001b[0;34m(\u001b[0m\u001b[0mb\u001b[0m\u001b[0;34m)\u001b[0m\u001b[0;34m\u001b[0m\u001b[0m\n\u001b[0m\u001b[1;32m    587\u001b[0m             \u001b[0;32mexcept\u001b[0m \u001b[0mtimeout\u001b[0m\u001b[0;34m:\u001b[0m\u001b[0;34m\u001b[0m\u001b[0m\n\u001b[1;32m    588\u001b[0m                 \u001b[0mself\u001b[0m\u001b[0;34m.\u001b[0m\u001b[0m_timeout_occurred\u001b[0m \u001b[0;34m=\u001b[0m \u001b[0;32mTrue\u001b[0m\u001b[0;34m\u001b[0m\u001b[0m\n",
      "\u001b[0;32m/Library/Frameworks/Python.framework/Versions/3.6/lib/python3.6/ssl.py\u001b[0m in \u001b[0;36mrecv_into\u001b[0;34m(self, buffer, nbytes, flags)\u001b[0m\n\u001b[1;32m   1007\u001b[0m                   \u001b[0;34m\"non-zero flags not allowed in calls to recv_into() on %s\"\u001b[0m \u001b[0;34m%\u001b[0m\u001b[0;34m\u001b[0m\u001b[0m\n\u001b[1;32m   1008\u001b[0m                   self.__class__)\n\u001b[0;32m-> 1009\u001b[0;31m             \u001b[0;32mreturn\u001b[0m \u001b[0mself\u001b[0m\u001b[0;34m.\u001b[0m\u001b[0mread\u001b[0m\u001b[0;34m(\u001b[0m\u001b[0mnbytes\u001b[0m\u001b[0;34m,\u001b[0m \u001b[0mbuffer\u001b[0m\u001b[0;34m)\u001b[0m\u001b[0;34m\u001b[0m\u001b[0m\n\u001b[0m\u001b[1;32m   1010\u001b[0m         \u001b[0;32melse\u001b[0m\u001b[0;34m:\u001b[0m\u001b[0;34m\u001b[0m\u001b[0m\n\u001b[1;32m   1011\u001b[0m             \u001b[0;32mreturn\u001b[0m \u001b[0msocket\u001b[0m\u001b[0;34m.\u001b[0m\u001b[0mrecv_into\u001b[0m\u001b[0;34m(\u001b[0m\u001b[0mself\u001b[0m\u001b[0;34m,\u001b[0m \u001b[0mbuffer\u001b[0m\u001b[0;34m,\u001b[0m \u001b[0mnbytes\u001b[0m\u001b[0;34m,\u001b[0m \u001b[0mflags\u001b[0m\u001b[0;34m)\u001b[0m\u001b[0;34m\u001b[0m\u001b[0m\n",
      "\u001b[0;32m/Library/Frameworks/Python.framework/Versions/3.6/lib/python3.6/ssl.py\u001b[0m in \u001b[0;36mread\u001b[0;34m(self, len, buffer)\u001b[0m\n\u001b[1;32m    869\u001b[0m             \u001b[0;32mraise\u001b[0m \u001b[0mValueError\u001b[0m\u001b[0;34m(\u001b[0m\u001b[0;34m\"Read on closed or unwrapped SSL socket.\"\u001b[0m\u001b[0;34m)\u001b[0m\u001b[0;34m\u001b[0m\u001b[0m\n\u001b[1;32m    870\u001b[0m         \u001b[0;32mtry\u001b[0m\u001b[0;34m:\u001b[0m\u001b[0;34m\u001b[0m\u001b[0m\n\u001b[0;32m--> 871\u001b[0;31m             \u001b[0;32mreturn\u001b[0m \u001b[0mself\u001b[0m\u001b[0;34m.\u001b[0m\u001b[0m_sslobj\u001b[0m\u001b[0;34m.\u001b[0m\u001b[0mread\u001b[0m\u001b[0;34m(\u001b[0m\u001b[0mlen\u001b[0m\u001b[0;34m,\u001b[0m \u001b[0mbuffer\u001b[0m\u001b[0;34m)\u001b[0m\u001b[0;34m\u001b[0m\u001b[0m\n\u001b[0m\u001b[1;32m    872\u001b[0m         \u001b[0;32mexcept\u001b[0m \u001b[0mSSLError\u001b[0m \u001b[0;32mas\u001b[0m \u001b[0mx\u001b[0m\u001b[0;34m:\u001b[0m\u001b[0;34m\u001b[0m\u001b[0m\n\u001b[1;32m    873\u001b[0m             \u001b[0;32mif\u001b[0m \u001b[0mx\u001b[0m\u001b[0;34m.\u001b[0m\u001b[0margs\u001b[0m\u001b[0;34m[\u001b[0m\u001b[0;36m0\u001b[0m\u001b[0;34m]\u001b[0m \u001b[0;34m==\u001b[0m \u001b[0mSSL_ERROR_EOF\u001b[0m \u001b[0;32mand\u001b[0m \u001b[0mself\u001b[0m\u001b[0;34m.\u001b[0m\u001b[0msuppress_ragged_eofs\u001b[0m\u001b[0;34m:\u001b[0m\u001b[0;34m\u001b[0m\u001b[0m\n",
      "\u001b[0;32m/Library/Frameworks/Python.framework/Versions/3.6/lib/python3.6/ssl.py\u001b[0m in \u001b[0;36mread\u001b[0;34m(self, len, buffer)\u001b[0m\n\u001b[1;32m    629\u001b[0m         \"\"\"\n\u001b[1;32m    630\u001b[0m         \u001b[0;32mif\u001b[0m \u001b[0mbuffer\u001b[0m \u001b[0;32mis\u001b[0m \u001b[0;32mnot\u001b[0m \u001b[0;32mNone\u001b[0m\u001b[0;34m:\u001b[0m\u001b[0;34m\u001b[0m\u001b[0m\n\u001b[0;32m--> 631\u001b[0;31m             \u001b[0mv\u001b[0m \u001b[0;34m=\u001b[0m \u001b[0mself\u001b[0m\u001b[0;34m.\u001b[0m\u001b[0m_sslobj\u001b[0m\u001b[0;34m.\u001b[0m\u001b[0mread\u001b[0m\u001b[0;34m(\u001b[0m\u001b[0mlen\u001b[0m\u001b[0;34m,\u001b[0m \u001b[0mbuffer\u001b[0m\u001b[0;34m)\u001b[0m\u001b[0;34m\u001b[0m\u001b[0m\n\u001b[0m\u001b[1;32m    632\u001b[0m         \u001b[0;32melse\u001b[0m\u001b[0;34m:\u001b[0m\u001b[0;34m\u001b[0m\u001b[0m\n\u001b[1;32m    633\u001b[0m             \u001b[0mv\u001b[0m \u001b[0;34m=\u001b[0m \u001b[0mself\u001b[0m\u001b[0;34m.\u001b[0m\u001b[0m_sslobj\u001b[0m\u001b[0;34m.\u001b[0m\u001b[0mread\u001b[0m\u001b[0;34m(\u001b[0m\u001b[0mlen\u001b[0m\u001b[0;34m)\u001b[0m\u001b[0;34m\u001b[0m\u001b[0m\n",
      "\u001b[0;31mKeyboardInterrupt\u001b[0m: "
     ]
    }
   ],
   "source": [
    "# initializes an empty paper_content dictionary\n",
    "paper_content = {}\n",
    "\n",
    "# iterates through each url in the paper_urls dataframe\n",
    "for i in range(len(paper_urls)):\n",
    "    \n",
    "    # prints the count\n",
    "    print(i)\n",
    "    \n",
    "    # parses the paper from the url\n",
    "    paper = parser.from_file(paper_urls.iloc[i][1])\n",
    "    \n",
    "    # delays the script by 3 seconds\n",
    "#     time.sleep(3)\n",
    "    \n",
    "    # extracts the content from the paper\n",
    "    text = paper['content']\n",
    "    \n",
    "    # splits the text by whitespace and creates a list\n",
    "    split_text = text.split(' ')\n",
    "    \n",
    "    # list comprehension that strips the \\n from the split_text list\n",
    "    split_text = [i.strip() for i in split_text]\n",
    "    \n",
    "    # assigns each paper text to the paper_content dict\n",
    "    paper_content[paper_urls.iloc[i][0]] = split_text"
   ]
  },
  {
   "cell_type": "code",
   "execution_count": null,
   "metadata": {},
   "outputs": [],
   "source": []
  },
  {
   "cell_type": "code",
   "execution_count": null,
   "metadata": {},
   "outputs": [],
   "source": []
  },
  {
   "cell_type": "code",
   "execution_count": null,
   "metadata": {},
   "outputs": [],
   "source": [
    "# initializes an empty paper_content dictionary\n",
    "paper_content = {}\n",
    "\n",
    "# iterates through each url in the paper_urls dataframe\n",
    "for i in range(300):\n",
    "    \n",
    "    # prints the count\n",
    "    print(i)\n",
    "    \n",
    "    # parses the paper from the url\n",
    "    paper = parser.from_file(paper_urls.iloc[i][1])\n",
    "    \n",
    "    # delays the script by 3 seconds\n",
    "#     time.sleep(3)\n",
    "    \n",
    "    # extracts the content from the paper\n",
    "    text = paper['content']\n",
    "    \n",
    "    # splits the text by whitespace and creates a list\n",
    "    split_text = text.split(' ')\n",
    "    \n",
    "    # list comprehension that strips the \\n from the split_text list\n",
    "    split_text = [i.strip() for i in split_text]\n",
    "    \n",
    "    # assigns each paper text to the paper_content dict\n",
    "    paper_content[paper_urls.iloc[i][0]] = split_text"
   ]
  },
  {
   "cell_type": "code",
   "execution_count": 29,
   "metadata": {
    "scrolled": true
   },
   "outputs": [
    {
     "name": "stderr",
     "output_type": "stream",
     "text": [
      "2019-05-13 17:39:26,892 [MainThread  ] [INFO ]  Retrieving https://arxiv.org/pdf/1703.06520v3.pdf to /var/folders/1x/nph4r0452v1dk6t51bknf9080000gn/T/https-arxiv-org-pdf-1703-06520v3-pdf.\n"
     ]
    },
    {
     "name": "stdout",
     "output_type": "stream",
     "text": [
      "0\n"
     ]
    },
    {
     "name": "stderr",
     "output_type": "stream",
     "text": [
      "2019-05-13 17:39:45,493 [MainThread  ] [INFO ]  Retrieving https://arxiv.org/pdf/1607.04315v3.pdf to /var/folders/1x/nph4r0452v1dk6t51bknf9080000gn/T/https-arxiv-org-pdf-1607-04315v3-pdf.\n"
     ]
    },
    {
     "name": "stdout",
     "output_type": "stream",
     "text": [
      "1\n"
     ]
    },
    {
     "name": "stderr",
     "output_type": "stream",
     "text": [
      "2019-05-13 17:39:47,796 [MainThread  ] [INFO ]  Retrieving https://arxiv.org/pdf/1807.09956v2.pdf to /var/folders/1x/nph4r0452v1dk6t51bknf9080000gn/T/https-arxiv-org-pdf-1807-09956v2-pdf.\n"
     ]
    },
    {
     "name": "stdout",
     "output_type": "stream",
     "text": [
      "2\n"
     ]
    },
    {
     "name": "stderr",
     "output_type": "stream",
     "text": [
      "2019-05-13 17:39:49,456 [MainThread  ] [INFO ]  Retrieving https://arxiv.org/pdf/1809.11096v2.pdf to /var/folders/1x/nph4r0452v1dk6t51bknf9080000gn/T/https-arxiv-org-pdf-1809-11096v2-pdf.\n"
     ]
    },
    {
     "name": "stdout",
     "output_type": "stream",
     "text": [
      "3\n"
     ]
    },
    {
     "name": "stderr",
     "output_type": "stream",
     "text": [
      "2019-05-13 17:40:10,549 [MainThread  ] [INFO ]  Retrieving https://arxiv.org/pdf/1811.01136v1.pdf to /var/folders/1x/nph4r0452v1dk6t51bknf9080000gn/T/https-arxiv-org-pdf-1811-01136v1-pdf.\n"
     ]
    },
    {
     "name": "stdout",
     "output_type": "stream",
     "text": [
      "4\n"
     ]
    },
    {
     "name": "stderr",
     "output_type": "stream",
     "text": [
      "2019-05-13 17:40:12,494 [MainThread  ] [INFO ]  Retrieving https://arxiv.org/pdf/1806.02817v1.pdf to /var/folders/1x/nph4r0452v1dk6t51bknf9080000gn/T/https-arxiv-org-pdf-1806-02817v1-pdf.\n"
     ]
    },
    {
     "name": "stdout",
     "output_type": "stream",
     "text": [
      "5\n"
     ]
    },
    {
     "name": "stderr",
     "output_type": "stream",
     "text": [
      "2019-05-13 17:40:17,760 [MainThread  ] [INFO ]  Retrieving https://arxiv.org/pdf/1804.09530v1.pdf to /var/folders/1x/nph4r0452v1dk6t51bknf9080000gn/T/https-arxiv-org-pdf-1804-09530v1-pdf.\n"
     ]
    },
    {
     "name": "stdout",
     "output_type": "stream",
     "text": [
      "6\n"
     ]
    },
    {
     "name": "stderr",
     "output_type": "stream",
     "text": [
      "2019-05-13 17:40:20,125 [MainThread  ] [INFO ]  Retrieving https://arxiv.org/pdf/1809.00219v2.pdf to /var/folders/1x/nph4r0452v1dk6t51bknf9080000gn/T/https-arxiv-org-pdf-1809-00219v2-pdf.\n"
     ]
    },
    {
     "name": "stdout",
     "output_type": "stream",
     "text": [
      "7\n"
     ]
    },
    {
     "name": "stderr",
     "output_type": "stream",
     "text": [
      "2019-05-13 17:40:29,901 [MainThread  ] [INFO ]  Retrieving https://arxiv.org/pdf/1809.08370v1.pdf to /var/folders/1x/nph4r0452v1dk6t51bknf9080000gn/T/https-arxiv-org-pdf-1809-08370v1-pdf.\n"
     ]
    },
    {
     "name": "stdout",
     "output_type": "stream",
     "text": [
      "8\n"
     ]
    },
    {
     "name": "stderr",
     "output_type": "stream",
     "text": [
      "2019-05-13 17:40:33,028 [MainThread  ] [INFO ]  Retrieving https://arxiv.org/pdf/1804.08460v1.pdf to /var/folders/1x/nph4r0452v1dk6t51bknf9080000gn/T/https-arxiv-org-pdf-1804-08460v1-pdf.\n"
     ]
    },
    {
     "name": "stdout",
     "output_type": "stream",
     "text": [
      "9\n"
     ]
    },
    {
     "name": "stderr",
     "output_type": "stream",
     "text": [
      "2019-05-13 17:40:35,028 [MainThread  ] [INFO ]  Retrieving https://arxiv.org/pdf/1704.06803v1.pdf to /var/folders/1x/nph4r0452v1dk6t51bknf9080000gn/T/https-arxiv-org-pdf-1704-06803v1-pdf.\n"
     ]
    },
    {
     "name": "stdout",
     "output_type": "stream",
     "text": [
      "10\n"
     ]
    },
    {
     "name": "stderr",
     "output_type": "stream",
     "text": [
      "2019-05-13 17:40:49,938 [MainThread  ] [INFO ]  Retrieving https://arxiv.org/pdf/1805.09501v3.pdf to /var/folders/1x/nph4r0452v1dk6t51bknf9080000gn/T/https-arxiv-org-pdf-1805-09501v3-pdf.\n"
     ]
    },
    {
     "name": "stdout",
     "output_type": "stream",
     "text": [
      "11\n"
     ]
    },
    {
     "name": "stderr",
     "output_type": "stream",
     "text": [
      "2019-05-13 17:40:53,762 [MainThread  ] [INFO ]  Retrieving https://arxiv.org/pdf/1707.01083v2.pdf to /var/folders/1x/nph4r0452v1dk6t51bknf9080000gn/T/https-arxiv-org-pdf-1707-01083v2-pdf.\n"
     ]
    },
    {
     "name": "stdout",
     "output_type": "stream",
     "text": [
      "12\n"
     ]
    },
    {
     "name": "stderr",
     "output_type": "stream",
     "text": [
      "2019-05-13 17:40:55,816 [MainThread  ] [INFO ]  Retrieving https://arxiv.org/pdf/1501.05790v1.pdf to /var/folders/1x/nph4r0452v1dk6t51bknf9080000gn/T/https-arxiv-org-pdf-1501-05790v1-pdf.\n"
     ]
    },
    {
     "name": "stdout",
     "output_type": "stream",
     "text": [
      "13\n"
     ]
    },
    {
     "name": "stderr",
     "output_type": "stream",
     "text": [
      "2019-05-13 17:40:58,375 [MainThread  ] [INFO ]  Retrieving https://arxiv.org/pdf/1804.08199v3.pdf to /var/folders/1x/nph4r0452v1dk6t51bknf9080000gn/T/https-arxiv-org-pdf-1804-08199v3-pdf.\n"
     ]
    },
    {
     "name": "stdout",
     "output_type": "stream",
     "text": [
      "14\n"
     ]
    },
    {
     "name": "stderr",
     "output_type": "stream",
     "text": [
      "2019-05-13 17:41:01,104 [MainThread  ] [INFO ]  Retrieving https://arxiv.org/pdf/1802.02611v3.pdf to /var/folders/1x/nph4r0452v1dk6t51bknf9080000gn/T/https-arxiv-org-pdf-1802-02611v3-pdf.\n"
     ]
    },
    {
     "name": "stdout",
     "output_type": "stream",
     "text": [
      "15\n"
     ]
    },
    {
     "name": "stderr",
     "output_type": "stream",
     "text": [
      "2019-05-13 17:41:09,392 [MainThread  ] [INFO ]  Retrieving https://arxiv.org/pdf/1605.06885v1.pdf to /var/folders/1x/nph4r0452v1dk6t51bknf9080000gn/T/https-arxiv-org-pdf-1605-06885v1-pdf.\n"
     ]
    },
    {
     "name": "stdout",
     "output_type": "stream",
     "text": [
      "16\n"
     ]
    },
    {
     "name": "stderr",
     "output_type": "stream",
     "text": [
      "2019-05-13 17:41:13,668 [MainThread  ] [INFO ]  Retrieving https://arxiv.org/pdf/1504.05070v2.pdf to /var/folders/1x/nph4r0452v1dk6t51bknf9080000gn/T/https-arxiv-org-pdf-1504-05070v2-pdf.\n"
     ]
    },
    {
     "name": "stdout",
     "output_type": "stream",
     "text": [
      "17\n"
     ]
    },
    {
     "name": "stderr",
     "output_type": "stream",
     "text": [
      "2019-05-13 17:41:20,334 [MainThread  ] [INFO ]  Retrieving https://arxiv.org/pdf/1807.03039v2.pdf to /var/folders/1x/nph4r0452v1dk6t51bknf9080000gn/T/https-arxiv-org-pdf-1807-03039v2-pdf.\n"
     ]
    },
    {
     "name": "stdout",
     "output_type": "stream",
     "text": [
      "18\n"
     ]
    },
    {
     "name": "stderr",
     "output_type": "stream",
     "text": [
      "2019-05-13 17:41:47,526 [MainThread  ] [INFO ]  Retrieving https://arxiv.org/pdf/1506.06158v1.pdf to /var/folders/1x/nph4r0452v1dk6t51bknf9080000gn/T/https-arxiv-org-pdf-1506-06158v1-pdf.\n"
     ]
    },
    {
     "name": "stdout",
     "output_type": "stream",
     "text": [
      "19\n"
     ]
    },
    {
     "name": "stderr",
     "output_type": "stream",
     "text": [
      "2019-05-13 17:41:50,617 [MainThread  ] [INFO ]  Retrieving https://arxiv.org/pdf/1511.02683v4.pdf to /var/folders/1x/nph4r0452v1dk6t51bknf9080000gn/T/https-arxiv-org-pdf-1511-02683v4-pdf.\n"
     ]
    },
    {
     "name": "stdout",
     "output_type": "stream",
     "text": [
      "20\n"
     ]
    },
    {
     "name": "stderr",
     "output_type": "stream",
     "text": [
      "2019-05-13 17:41:54,319 [MainThread  ] [INFO ]  Retrieving https://arxiv.org/pdf/1811.12546v1.pdf to /var/folders/1x/nph4r0452v1dk6t51bknf9080000gn/T/https-arxiv-org-pdf-1811-12546v1-pdf.\n"
     ]
    },
    {
     "name": "stdout",
     "output_type": "stream",
     "text": [
      "21\n"
     ]
    },
    {
     "name": "stderr",
     "output_type": "stream",
     "text": [
      "2019-05-13 17:42:00,551 [MainThread  ] [INFO ]  Retrieving https://arxiv.org/pdf/1607.03474v5.pdf to /var/folders/1x/nph4r0452v1dk6t51bknf9080000gn/T/https-arxiv-org-pdf-1607-03474v5-pdf.\n"
     ]
    },
    {
     "name": "stdout",
     "output_type": "stream",
     "text": [
      "22\n"
     ]
    },
    {
     "name": "stderr",
     "output_type": "stream",
     "text": [
      "2019-05-13 17:42:03,232 [MainThread  ] [INFO ]  Retrieving https://arxiv.org/pdf/1509.06664v4.pdf to /var/folders/1x/nph4r0452v1dk6t51bknf9080000gn/T/https-arxiv-org-pdf-1509-06664v4-pdf.\n"
     ]
    },
    {
     "name": "stdout",
     "output_type": "stream",
     "text": [
      "23\n"
     ]
    },
    {
     "name": "stderr",
     "output_type": "stream",
     "text": [
      "2019-05-13 17:42:07,718 [MainThread  ] [INFO ]  Retrieving https://arxiv.org/pdf/1810.09177v3.pdf to /var/folders/1x/nph4r0452v1dk6t51bknf9080000gn/T/https-arxiv-org-pdf-1810-09177v3-pdf.\n"
     ]
    },
    {
     "name": "stdout",
     "output_type": "stream",
     "text": [
      "24\n"
     ]
    },
    {
     "name": "stderr",
     "output_type": "stream",
     "text": [
      "2019-05-13 17:42:09,655 [MainThread  ] [INFO ]  Retrieving https://arxiv.org/pdf/1810.12936v1.pdf to /var/folders/1x/nph4r0452v1dk6t51bknf9080000gn/T/https-arxiv-org-pdf-1810-12936v1-pdf.\n"
     ]
    },
    {
     "name": "stdout",
     "output_type": "stream",
     "text": [
      "25\n"
     ]
    },
    {
     "name": "stderr",
     "output_type": "stream",
     "text": [
      "2019-05-13 17:42:15,180 [MainThread  ] [INFO ]  Retrieving https://sigir.org/wp-content/uploads/2019/01/p040.pdf to /var/folders/1x/nph4r0452v1dk6t51bknf9080000gn/T/https-sigir-org-wp-content-uploads-2019-01-p040-pdf.\n"
     ]
    },
    {
     "name": "stdout",
     "output_type": "stream",
     "text": [
      "26\n"
     ]
    },
    {
     "name": "stderr",
     "output_type": "stream",
     "text": [
      "2019-05-13 17:42:16,173 [MainThread  ] [INFO ]  Retrieving https://arxiv.org/pdf/1508.05326v1.pdf to /var/folders/1x/nph4r0452v1dk6t51bknf9080000gn/T/https-arxiv-org-pdf-1508-05326v1-pdf.\n"
     ]
    },
    {
     "name": "stdout",
     "output_type": "stream",
     "text": [
      "27\n"
     ]
    },
    {
     "name": "stderr",
     "output_type": "stream",
     "text": [
      "2019-05-13 17:42:18,313 [MainThread  ] [INFO ]  Retrieving https://arxiv.org/pdf/1407.4023v2.pdf to /var/folders/1x/nph4r0452v1dk6t51bknf9080000gn/T/https-arxiv-org-pdf-1407-4023v2-pdf.\n"
     ]
    },
    {
     "name": "stdout",
     "output_type": "stream",
     "text": [
      "28\n"
     ]
    },
    {
     "name": "stderr",
     "output_type": "stream",
     "text": [
      "2019-05-13 17:42:25,336 [MainThread  ] [INFO ]  Retrieving https://arxiv.org/pdf/1611.00851v1.pdf to /var/folders/1x/nph4r0452v1dk6t51bknf9080000gn/T/https-arxiv-org-pdf-1611-00851v1-pdf.\n"
     ]
    },
    {
     "name": "stdout",
     "output_type": "stream",
     "text": [
      "29\n"
     ]
    },
    {
     "name": "stderr",
     "output_type": "stream",
     "text": [
      "2019-05-13 17:42:40,697 [MainThread  ] [INFO ]  Retrieving https://arxiv.org/pdf/1809.10341v2.pdf to /var/folders/1x/nph4r0452v1dk6t51bknf9080000gn/T/https-arxiv-org-pdf-1809-10341v2-pdf.\n"
     ]
    },
    {
     "name": "stdout",
     "output_type": "stream",
     "text": [
      "30\n"
     ]
    },
    {
     "name": "stderr",
     "output_type": "stream",
     "text": [
      "2019-05-13 17:42:53,931 [MainThread  ] [INFO ]  Retrieving https://arxiv.org/pdf/1809.10735v1.pdf to /var/folders/1x/nph4r0452v1dk6t51bknf9080000gn/T/https-arxiv-org-pdf-1809-10735v1-pdf.\n"
     ]
    },
    {
     "name": "stdout",
     "output_type": "stream",
     "text": [
      "31\n"
     ]
    },
    {
     "name": "stderr",
     "output_type": "stream",
     "text": [
      "2019-05-13 17:42:56,369 [MainThread  ] [INFO ]  Retrieving https://arxiv.org/pdf/1609.01704v7.pdf to /var/folders/1x/nph4r0452v1dk6t51bknf9080000gn/T/https-arxiv-org-pdf-1609-01704v7-pdf.\n"
     ]
    },
    {
     "name": "stdout",
     "output_type": "stream",
     "text": [
      "32\n"
     ]
    },
    {
     "name": "stderr",
     "output_type": "stream",
     "text": [
      "2019-05-13 17:43:01,747 [MainThread  ] [INFO ]  Retrieving https://arxiv.org/pdf/1702.08502v3.pdf to /var/folders/1x/nph4r0452v1dk6t51bknf9080000gn/T/https-arxiv-org-pdf-1702-08502v3-pdf.\n"
     ]
    },
    {
     "name": "stdout",
     "output_type": "stream",
     "text": [
      "33\n"
     ]
    },
    {
     "name": "stderr",
     "output_type": "stream",
     "text": [
      "2019-05-13 17:43:18,744 [MainThread  ] [INFO ]  Retrieving https://arxiv.org/pdf/1507.05348v1.pdf to /var/folders/1x/nph4r0452v1dk6t51bknf9080000gn/T/https-arxiv-org-pdf-1507-05348v1-pdf.\n"
     ]
    },
    {
     "name": "stdout",
     "output_type": "stream",
     "text": [
      "34\n"
     ]
    },
    {
     "name": "stderr",
     "output_type": "stream",
     "text": [
      "2019-05-13 17:43:21,088 [MainThread  ] [INFO ]  Retrieving https://aclweb.org/anthology/P16-1001 to /var/folders/1x/nph4r0452v1dk6t51bknf9080000gn/T/https-aclweb-org-anthology-p16-1001.\n"
     ]
    },
    {
     "name": "stdout",
     "output_type": "stream",
     "text": [
      "35\n"
     ]
    },
    {
     "name": "stderr",
     "output_type": "stream",
     "text": [
      "2019-05-13 17:43:22,520 [MainThread  ] [INFO ]  Retrieving https://arxiv.org/pdf/1611.06639v1.pdf to /var/folders/1x/nph4r0452v1dk6t51bknf9080000gn/T/https-arxiv-org-pdf-1611-06639v1-pdf.\n"
     ]
    },
    {
     "name": "stdout",
     "output_type": "stream",
     "text": [
      "36\n"
     ]
    },
    {
     "name": "stderr",
     "output_type": "stream",
     "text": [
      "2019-05-13 17:43:24,861 [MainThread  ] [INFO ]  Retrieving https://arxiv.org/pdf/1507.00814v3.pdf to /var/folders/1x/nph4r0452v1dk6t51bknf9080000gn/T/https-arxiv-org-pdf-1507-00814v3-pdf.\n"
     ]
    },
    {
     "name": "stdout",
     "output_type": "stream",
     "text": [
      "37\n"
     ]
    },
    {
     "name": "stderr",
     "output_type": "stream",
     "text": [
      "2019-05-13 17:43:28,642 [MainThread  ] [INFO ]  Retrieving https://arxiv.org/pdf/1902.09212v1.pdf to /var/folders/1x/nph4r0452v1dk6t51bknf9080000gn/T/https-arxiv-org-pdf-1902-09212v1-pdf.\n"
     ]
    },
    {
     "name": "stdout",
     "output_type": "stream",
     "text": [
      "38\n"
     ]
    },
    {
     "name": "stderr",
     "output_type": "stream",
     "text": [
      "2019-05-13 17:43:34,907 [MainThread  ] [INFO ]  Retrieving https://papers.nips.cc/paper/5419-local-decorrelation-for-improved-pedestrian-detection.pdf to /var/folders/1x/nph4r0452v1dk6t51bknf9080000gn/T/https-papers-nips-cc-paper-5419-local-decorrelation-for-improved-pedestrian-detection-pdf.\n"
     ]
    },
    {
     "name": "stdout",
     "output_type": "stream",
     "text": [
      "39\n"
     ]
    },
    {
     "name": "stderr",
     "output_type": "stream",
     "text": [
      "2019-05-13 17:43:37,636 [MainThread  ] [INFO ]  Retrieving https://arxiv.org/pdf/1609.05473v6.pdf to /var/folders/1x/nph4r0452v1dk6t51bknf9080000gn/T/https-arxiv-org-pdf-1609-05473v6-pdf.\n"
     ]
    },
    {
     "name": "stdout",
     "output_type": "stream",
     "text": [
      "40\n"
     ]
    },
    {
     "name": "stderr",
     "output_type": "stream",
     "text": [
      "2019-05-13 17:43:40,554 [MainThread  ] [INFO ]  Retrieving https://arxiv.org/pdf/1812.11703v1.pdf to /var/folders/1x/nph4r0452v1dk6t51bknf9080000gn/T/https-arxiv-org-pdf-1812-11703v1-pdf.\n"
     ]
    },
    {
     "name": "stdout",
     "output_type": "stream",
     "text": [
      "41\n"
     ]
    },
    {
     "name": "stderr",
     "output_type": "stream",
     "text": [
      "2019-05-13 17:43:46,017 [MainThread  ] [INFO ]  Retrieving https://arxiv.org/pdf/1811.12608v1.pdf to /var/folders/1x/nph4r0452v1dk6t51bknf9080000gn/T/https-arxiv-org-pdf-1811-12608v1-pdf.\n"
     ]
    },
    {
     "name": "stdout",
     "output_type": "stream",
     "text": [
      "42\n"
     ]
    },
    {
     "name": "stderr",
     "output_type": "stream",
     "text": [
      "2019-05-13 17:43:54,549 [MainThread  ] [INFO ]  Retrieving https://arxiv.org/pdf/1407.3867v1.pdf to /var/folders/1x/nph4r0452v1dk6t51bknf9080000gn/T/https-arxiv-org-pdf-1407-3867v1-pdf.\n"
     ]
    },
    {
     "name": "stdout",
     "output_type": "stream",
     "text": [
      "43\n"
     ]
    },
    {
     "name": "stderr",
     "output_type": "stream",
     "text": [
      "2019-05-13 17:44:01,673 [MainThread  ] [INFO ]  Retrieving https://arxiv.org/pdf/1604.03540v1.pdf to /var/folders/1x/nph4r0452v1dk6t51bknf9080000gn/T/https-arxiv-org-pdf-1604-03540v1-pdf.\n"
     ]
    },
    {
     "name": "stdout",
     "output_type": "stream",
     "text": [
      "44\n"
     ]
    },
    {
     "name": "stderr",
     "output_type": "stream",
     "text": [
      "2019-05-13 17:44:05,325 [MainThread  ] [INFO ]  Retrieving https://arxiv.org/pdf/1706.02761v3.pdf to /var/folders/1x/nph4r0452v1dk6t51bknf9080000gn/T/https-arxiv-org-pdf-1706-02761v3-pdf.\n"
     ]
    },
    {
     "name": "stdout",
     "output_type": "stream",
     "text": [
      "45\n"
     ]
    },
    {
     "name": "stderr",
     "output_type": "stream",
     "text": [
      "2019-05-13 17:44:07,758 [MainThread  ] [INFO ]  Retrieving https://arxiv.org/pdf/1805.09843v1.pdf to /var/folders/1x/nph4r0452v1dk6t51bknf9080000gn/T/https-arxiv-org-pdf-1805-09843v1-pdf.\n"
     ]
    },
    {
     "name": "stdout",
     "output_type": "stream",
     "text": [
      "46\n"
     ]
    },
    {
     "name": "stderr",
     "output_type": "stream",
     "text": [
      "2019-05-13 17:44:10,795 [MainThread  ] [INFO ]  Retrieving https://arxiv.org/pdf/1704.06125v1.pdf to /var/folders/1x/nph4r0452v1dk6t51bknf9080000gn/T/https-arxiv-org-pdf-1704-06125v1-pdf.\n"
     ]
    },
    {
     "name": "stdout",
     "output_type": "stream",
     "text": [
      "47\n"
     ]
    },
    {
     "name": "stderr",
     "output_type": "stream",
     "text": [
      "2019-05-13 17:44:12,859 [MainThread  ] [INFO ]  Retrieving https://arxiv.org/pdf/1709.01442v1.pdf to /var/folders/1x/nph4r0452v1dk6t51bknf9080000gn/T/https-arxiv-org-pdf-1709-01442v1-pdf.\n"
     ]
    },
    {
     "name": "stdout",
     "output_type": "stream",
     "text": [
      "48\n"
     ]
    },
    {
     "name": "stderr",
     "output_type": "stream",
     "text": [
      "2019-05-13 17:44:21,986 [MainThread  ] [INFO ]  Retrieving https://arxiv.org/pdf/1611.01576v2.pdf to /var/folders/1x/nph4r0452v1dk6t51bknf9080000gn/T/https-arxiv-org-pdf-1611-01576v2-pdf.\n"
     ]
    },
    {
     "name": "stdout",
     "output_type": "stream",
     "text": [
      "49\n"
     ]
    },
    {
     "name": "stderr",
     "output_type": "stream",
     "text": [
      "2019-05-13 17:44:24,361 [MainThread  ] [INFO ]  Retrieving https://arxiv.org/pdf/1406.1078v3.pdf to /var/folders/1x/nph4r0452v1dk6t51bknf9080000gn/T/https-arxiv-org-pdf-1406-1078v3-pdf.\n"
     ]
    },
    {
     "name": "stdout",
     "output_type": "stream",
     "text": [
      "50\n"
     ]
    },
    {
     "name": "stderr",
     "output_type": "stream",
     "text": [
      "2019-05-13 17:44:27,612 [MainThread  ] [INFO ]  Retrieving https://arxiv.org/pdf/1802.08352v2.pdf to /var/folders/1x/nph4r0452v1dk6t51bknf9080000gn/T/https-arxiv-org-pdf-1802-08352v2-pdf.\n"
     ]
    },
    {
     "name": "stdout",
     "output_type": "stream",
     "text": [
      "51\n"
     ]
    },
    {
     "name": "stderr",
     "output_type": "stream",
     "text": [
      "2019-05-13 17:44:29,961 [MainThread  ] [INFO ]  Retrieving https://arxiv.org/pdf/1608.08526v2.pdf to /var/folders/1x/nph4r0452v1dk6t51bknf9080000gn/T/https-arxiv-org-pdf-1608-08526v2-pdf.\n"
     ]
    },
    {
     "name": "stdout",
     "output_type": "stream",
     "text": [
      "52\n"
     ]
    },
    {
     "name": "stderr",
     "output_type": "stream",
     "text": [
      "2019-05-13 17:44:46,988 [MainThread  ] [INFO ]  Retrieving https://arxiv.org/pdf/1603.05474v4.pdf to /var/folders/1x/nph4r0452v1dk6t51bknf9080000gn/T/https-arxiv-org-pdf-1603-05474v4-pdf.\n"
     ]
    },
    {
     "name": "stdout",
     "output_type": "stream",
     "text": [
      "53\n"
     ]
    },
    {
     "name": "stderr",
     "output_type": "stream",
     "text": [
      "2019-05-13 17:44:51,178 [MainThread  ] [INFO ]  Retrieving https://arxiv.org/pdf/1711.04956v5.pdf to /var/folders/1x/nph4r0452v1dk6t51bknf9080000gn/T/https-arxiv-org-pdf-1711-04956v5-pdf.\n"
     ]
    },
    {
     "name": "stdout",
     "output_type": "stream",
     "text": [
      "54\n"
     ]
    },
    {
     "name": "stderr",
     "output_type": "stream",
     "text": [
      "2019-05-13 17:44:52,997 [MainThread  ] [INFO ]  Retrieving https://arxiv.org/pdf/1811.08513v1.pdf to /var/folders/1x/nph4r0452v1dk6t51bknf9080000gn/T/https-arxiv-org-pdf-1811-08513v1-pdf.\n"
     ]
    },
    {
     "name": "stdout",
     "output_type": "stream",
     "text": [
      "55\n"
     ]
    },
    {
     "name": "stderr",
     "output_type": "stream",
     "text": [
      "2019-05-13 17:44:56,248 [MainThread  ] [INFO ]  Retrieving https://arxiv.org/pdf/1606.01868v2.pdf to /var/folders/1x/nph4r0452v1dk6t51bknf9080000gn/T/https-arxiv-org-pdf-1606-01868v2-pdf.\n"
     ]
    },
    {
     "name": "stdout",
     "output_type": "stream",
     "text": [
      "56\n"
     ]
    },
    {
     "name": "stderr",
     "output_type": "stream",
     "text": [
      "2019-05-13 17:45:02,360 [MainThread  ] [INFO ]  Retrieving https://openreview.net/pdf?id=rk8wKk-R- to /var/folders/1x/nph4r0452v1dk6t51bknf9080000gn/T/https-openreview-net-pdf-id-rk8wkk-r.\n"
     ]
    },
    {
     "name": "stdout",
     "output_type": "stream",
     "text": [
      "57\n"
     ]
    },
    {
     "name": "stderr",
     "output_type": "stream",
     "text": [
      "2019-05-13 17:45:03,989 [MainThread  ] [INFO ]  Retrieving https://arxiv.org/pdf/1610.05256v2.pdf to /var/folders/1x/nph4r0452v1dk6t51bknf9080000gn/T/https-arxiv-org-pdf-1610-05256v2-pdf.\n"
     ]
    },
    {
     "name": "stdout",
     "output_type": "stream",
     "text": [
      "58\n"
     ]
    },
    {
     "name": "stderr",
     "output_type": "stream",
     "text": [
      "2019-05-13 17:45:05,853 [MainThread  ] [INFO ]  Retrieving https://arxiv.org/pdf/1806.05626v2.pdf to /var/folders/1x/nph4r0452v1dk6t51bknf9080000gn/T/https-arxiv-org-pdf-1806-05626v2-pdf.\n"
     ]
    },
    {
     "name": "stdout",
     "output_type": "stream",
     "text": [
      "59\n"
     ]
    },
    {
     "name": "stderr",
     "output_type": "stream",
     "text": [
      "2019-05-13 17:45:07,621 [MainThread  ] [INFO ]  Retrieving https://aclweb.org/anthology/D18-1136 to /var/folders/1x/nph4r0452v1dk6t51bknf9080000gn/T/https-aclweb-org-anthology-d18-1136.\n"
     ]
    },
    {
     "name": "stdout",
     "output_type": "stream",
     "text": [
      "60\n"
     ]
    },
    {
     "name": "stderr",
     "output_type": "stream",
     "text": [
      "2019-05-13 17:45:09,604 [MainThread  ] [INFO ]  Retrieving https://arxiv.org/pdf/1611.05774v2.pdf to /var/folders/1x/nph4r0452v1dk6t51bknf9080000gn/T/https-arxiv-org-pdf-1611-05774v2-pdf.\n"
     ]
    },
    {
     "name": "stdout",
     "output_type": "stream",
     "text": [
      "61\n"
     ]
    },
    {
     "name": "stderr",
     "output_type": "stream",
     "text": [
      "2019-05-13 17:45:11,935 [MainThread  ] [INFO ]  Retrieving https://arxiv.org/pdf/1803.00387v1.pdf to /var/folders/1x/nph4r0452v1dk6t51bknf9080000gn/T/https-arxiv-org-pdf-1803-00387v1-pdf.\n"
     ]
    },
    {
     "name": "stdout",
     "output_type": "stream",
     "text": [
      "62\n"
     ]
    },
    {
     "name": "stderr",
     "output_type": "stream",
     "text": [
      "2019-05-13 17:45:18,759 [MainThread  ] [INFO ]  Retrieving https://arxiv.org/pdf/1709.01507v3.pdf to /var/folders/1x/nph4r0452v1dk6t51bknf9080000gn/T/https-arxiv-org-pdf-1709-01507v3-pdf.\n"
     ]
    },
    {
     "name": "stdout",
     "output_type": "stream",
     "text": [
      "63\n"
     ]
    },
    {
     "name": "stderr",
     "output_type": "stream",
     "text": [
      "2019-05-13 17:45:24,897 [MainThread  ] [INFO ]  Retrieving https://arxiv.org/pdf/1704.03414v1.pdf to /var/folders/1x/nph4r0452v1dk6t51bknf9080000gn/T/https-arxiv-org-pdf-1704-03414v1-pdf.\n"
     ]
    },
    {
     "name": "stdout",
     "output_type": "stream",
     "text": [
      "64\n"
     ]
    },
    {
     "name": "stderr",
     "output_type": "stream",
     "text": [
      "2019-05-13 17:45:29,622 [MainThread  ] [INFO ]  Retrieving https://arxiv.org/pdf/1606.07536v2.pdf to /var/folders/1x/nph4r0452v1dk6t51bknf9080000gn/T/https-arxiv-org-pdf-1606-07536v2-pdf.\n"
     ]
    },
    {
     "name": "stdout",
     "output_type": "stream",
     "text": [
      "65\n"
     ]
    },
    {
     "name": "stderr",
     "output_type": "stream",
     "text": [
      "2019-05-13 17:45:38,527 [MainThread  ] [INFO ]  Retrieving https://arxiv.org/pdf/1811.05181v1.pdf to /var/folders/1x/nph4r0452v1dk6t51bknf9080000gn/T/https-arxiv-org-pdf-1811-05181v1-pdf.\n"
     ]
    },
    {
     "name": "stdout",
     "output_type": "stream",
     "text": [
      "66\n"
     ]
    },
    {
     "name": "stderr",
     "output_type": "stream",
     "text": [
      "2019-05-13 17:45:41,289 [MainThread  ] [INFO ]  Retrieving https://aclweb.org/anthology/C18-1146 to /var/folders/1x/nph4r0452v1dk6t51bknf9080000gn/T/https-aclweb-org-anthology-c18-1146.\n"
     ]
    },
    {
     "name": "stdout",
     "output_type": "stream",
     "text": [
      "67\n"
     ]
    },
    {
     "name": "stderr",
     "output_type": "stream",
     "text": [
      "2019-05-13 17:45:44,316 [MainThread  ] [INFO ]  Retrieving https://arxiv.org/pdf/1604.05529v3.pdf to /var/folders/1x/nph4r0452v1dk6t51bknf9080000gn/T/https-arxiv-org-pdf-1604-05529v3-pdf.\n"
     ]
    },
    {
     "name": "stdout",
     "output_type": "stream",
     "text": [
      "68\n"
     ]
    },
    {
     "name": "stderr",
     "output_type": "stream",
     "text": [
      "2019-05-13 17:45:47,442 [MainThread  ] [INFO ]  Retrieving https://arxiv.org/pdf/1611.08258v1.pdf to /var/folders/1x/nph4r0452v1dk6t51bknf9080000gn/T/https-arxiv-org-pdf-1611-08258v1-pdf.\n"
     ]
    },
    {
     "name": "stdout",
     "output_type": "stream",
     "text": [
      "69\n"
     ]
    },
    {
     "name": "stderr",
     "output_type": "stream",
     "text": [
      "2019-05-13 17:45:53,312 [MainThread  ] [INFO ]  Retrieving https://arxiv.org/pdf/1511.06434v2.pdf to /var/folders/1x/nph4r0452v1dk6t51bknf9080000gn/T/https-arxiv-org-pdf-1511-06434v2-pdf.\n"
     ]
    },
    {
     "name": "stdout",
     "output_type": "stream",
     "text": [
      "70\n"
     ]
    },
    {
     "name": "stderr",
     "output_type": "stream",
     "text": [
      "2019-05-13 17:46:08,479 [MainThread  ] [INFO ]  Retrieving https://arxiv.org/pdf/1608.06993v5.pdf to /var/folders/1x/nph4r0452v1dk6t51bknf9080000gn/T/https-arxiv-org-pdf-1608-06993v5-pdf.\n"
     ]
    },
    {
     "name": "stdout",
     "output_type": "stream",
     "text": [
      "71\n"
     ]
    },
    {
     "name": "stderr",
     "output_type": "stream",
     "text": [
      "2019-05-13 17:46:11,684 [MainThread  ] [INFO ]  Retrieving https://arxiv.org/pdf/1904.01355v3.pdf to /var/folders/1x/nph4r0452v1dk6t51bknf9080000gn/T/https-arxiv-org-pdf-1904-01355v3-pdf.\n"
     ]
    },
    {
     "name": "stdout",
     "output_type": "stream",
     "text": [
      "72\n"
     ]
    },
    {
     "name": "stderr",
     "output_type": "stream",
     "text": [
      "2019-05-13 17:46:19,060 [MainThread  ] [INFO ]  Retrieving https://arxiv.org/pdf/1505.04597v1.pdf to /var/folders/1x/nph4r0452v1dk6t51bknf9080000gn/T/https-arxiv-org-pdf-1505-04597v1-pdf.\n"
     ]
    },
    {
     "name": "stdout",
     "output_type": "stream",
     "text": [
      "73\n"
     ]
    },
    {
     "name": "stderr",
     "output_type": "stream",
     "text": [
      "2019-05-13 17:46:23,040 [MainThread  ] [INFO ]  Retrieving https://arxiv.org/pdf/1904.06472v1.pdf to /var/folders/1x/nph4r0452v1dk6t51bknf9080000gn/T/https-arxiv-org-pdf-1904-06472v1-pdf.\n"
     ]
    },
    {
     "name": "stdout",
     "output_type": "stream",
     "text": [
      "74\n"
     ]
    },
    {
     "name": "stderr",
     "output_type": "stream",
     "text": [
      "2019-05-13 17:46:25,521 [MainThread  ] [INFO ]  Retrieving https://aclweb.org/anthology/C18-1230 to /var/folders/1x/nph4r0452v1dk6t51bknf9080000gn/T/https-aclweb-org-anthology-c18-1230.\n"
     ]
    },
    {
     "name": "stdout",
     "output_type": "stream",
     "text": [
      "75\n"
     ]
    },
    {
     "name": "stderr",
     "output_type": "stream",
     "text": [
      "2019-05-13 17:46:28,540 [MainThread  ] [INFO ]  Retrieving https://arxiv.org/pdf/1804.06208v2.pdf to /var/folders/1x/nph4r0452v1dk6t51bknf9080000gn/T/https-arxiv-org-pdf-1804-06208v2-pdf.\n"
     ]
    },
    {
     "name": "stdout",
     "output_type": "stream",
     "text": [
      "76\n"
     ]
    },
    {
     "name": "stderr",
     "output_type": "stream",
     "text": [
      "2019-05-13 17:46:35,681 [MainThread  ] [INFO ]  Retrieving https://arxiv.org/pdf/1611.09978v1.pdf to /var/folders/1x/nph4r0452v1dk6t51bknf9080000gn/T/https-arxiv-org-pdf-1611-09978v1-pdf.\n"
     ]
    },
    {
     "name": "stdout",
     "output_type": "stream",
     "text": [
      "77\n"
     ]
    },
    {
     "name": "stderr",
     "output_type": "stream",
     "text": [
      "2019-05-13 17:46:41,168 [MainThread  ] [INFO ]  Retrieving https://arxiv.org/pdf/1707.00798v2.pdf to /var/folders/1x/nph4r0452v1dk6t51bknf9080000gn/T/https-arxiv-org-pdf-1707-00798v2-pdf.\n"
     ]
    },
    {
     "name": "stdout",
     "output_type": "stream",
     "text": [
      "78\n"
     ]
    },
    {
     "name": "stderr",
     "output_type": "stream",
     "text": [
      "2019-05-13 17:46:48,276 [MainThread  ] [INFO ]  Retrieving https://arxiv.org/pdf/1611.01724v2.pdf to /var/folders/1x/nph4r0452v1dk6t51bknf9080000gn/T/https-arxiv-org-pdf-1611-01724v2-pdf.\n"
     ]
    },
    {
     "name": "stdout",
     "output_type": "stream",
     "text": [
      "79\n"
     ]
    },
    {
     "name": "stderr",
     "output_type": "stream",
     "text": [
      "2019-05-13 17:46:51,095 [MainThread  ] [INFO ]  Retrieving https://arxiv.org/pdf/1803.02627v1.pdf to /var/folders/1x/nph4r0452v1dk6t51bknf9080000gn/T/https-arxiv-org-pdf-1803-02627v1-pdf.\n"
     ]
    },
    {
     "name": "stdout",
     "output_type": "stream",
     "text": [
      "80\n"
     ]
    },
    {
     "name": "stderr",
     "output_type": "stream",
     "text": [
      "2019-05-13 17:46:52,897 [MainThread  ] [INFO ]  Retrieving https://arxiv.org/pdf/1506.07503v1.pdf to /var/folders/1x/nph4r0452v1dk6t51bknf9080000gn/T/https-arxiv-org-pdf-1506-07503v1-pdf.\n"
     ]
    },
    {
     "name": "stdout",
     "output_type": "stream",
     "text": [
      "81\n"
     ]
    },
    {
     "name": "stderr",
     "output_type": "stream",
     "text": [
      "2019-05-13 17:46:58,752 [MainThread  ] [INFO ]  Retrieving https://aclweb.org/anthology/N16-1099 to /var/folders/1x/nph4r0452v1dk6t51bknf9080000gn/T/https-aclweb-org-anthology-n16-1099.\n"
     ]
    },
    {
     "name": "stdout",
     "output_type": "stream",
     "text": [
      "82\n"
     ]
    },
    {
     "name": "stderr",
     "output_type": "stream",
     "text": [
      "2019-05-13 17:47:00,751 [MainThread  ] [INFO ]  Retrieving https://arxiv.org/pdf/1611.01673v3.pdf to /var/folders/1x/nph4r0452v1dk6t51bknf9080000gn/T/https-arxiv-org-pdf-1611-01673v3-pdf.\n"
     ]
    },
    {
     "name": "stdout",
     "output_type": "stream",
     "text": [
      "83\n"
     ]
    },
    {
     "name": "stderr",
     "output_type": "stream",
     "text": [
      "2019-05-13 17:47:10,091 [MainThread  ] [INFO ]  Retrieving https://arxiv.org/pdf/1809.10853v3.pdf to /var/folders/1x/nph4r0452v1dk6t51bknf9080000gn/T/https-arxiv-org-pdf-1809-10853v3-pdf.\n"
     ]
    },
    {
     "name": "stdout",
     "output_type": "stream",
     "text": [
      "84\n"
     ]
    },
    {
     "name": "stderr",
     "output_type": "stream",
     "text": [
      "2019-05-13 17:47:13,597 [MainThread  ] [INFO ]  Retrieving https://openaccess.thecvf.com/content_ECCV_2018/papers/Tobias_Fischer_RT-GENE_Real-Time_Eye_ECCV_2018_paper.pdf to /var/folders/1x/nph4r0452v1dk6t51bknf9080000gn/T/https-openaccess-thecvf-com-content_eccv_2018-papers-tobias_fischer_rt-gene_real-time_eye_eccv_2018_paper-pdf.\n"
     ]
    },
    {
     "name": "stdout",
     "output_type": "stream",
     "text": [
      "85\n"
     ]
    },
    {
     "name": "stderr",
     "output_type": "stream",
     "text": [
      "2019-05-13 17:49:44,073 [MainThread  ] [INFO ]  Retrieving https://arxiv.org/pdf/1808.08762v1.pdf to /var/folders/1x/nph4r0452v1dk6t51bknf9080000gn/T/https-arxiv-org-pdf-1808-08762v1-pdf.\n"
     ]
    },
    {
     "name": "stdout",
     "output_type": "stream",
     "text": [
      "86\n"
     ]
    },
    {
     "name": "stderr",
     "output_type": "stream",
     "text": [
      "2019-05-13 17:49:46,160 [MainThread  ] [INFO ]  Retrieving https://arxiv.org/pdf/1708.00107v2.pdf to /var/folders/1x/nph4r0452v1dk6t51bknf9080000gn/T/https-arxiv-org-pdf-1708-00107v2-pdf.\n"
     ]
    },
    {
     "name": "stdout",
     "output_type": "stream",
     "text": [
      "87\n"
     ]
    },
    {
     "name": "stderr",
     "output_type": "stream",
     "text": [
      "2019-05-13 17:49:48,261 [MainThread  ] [INFO ]  Retrieving https://arxiv.org/pdf/1511.06709v4.pdf to /var/folders/1x/nph4r0452v1dk6t51bknf9080000gn/T/https-arxiv-org-pdf-1511-06709v4-pdf.\n"
     ]
    },
    {
     "name": "stdout",
     "output_type": "stream",
     "text": [
      "88\n"
     ]
    },
    {
     "name": "stderr",
     "output_type": "stream",
     "text": [
      "2019-05-13 17:49:49,777 [MainThread  ] [INFO ]  Retrieving https://arxiv.org/pdf/1610.03771v1.pdf to /var/folders/1x/nph4r0452v1dk6t51bknf9080000gn/T/https-arxiv-org-pdf-1610-03771v1-pdf.\n"
     ]
    },
    {
     "name": "stdout",
     "output_type": "stream",
     "text": [
      "89\n"
     ]
    },
    {
     "name": "stderr",
     "output_type": "stream",
     "text": [
      "2019-05-13 17:49:52,243 [MainThread  ] [INFO ]  Retrieving https://arxiv.org/pdf/1806.06193v1.pdf to /var/folders/1x/nph4r0452v1dk6t51bknf9080000gn/T/https-arxiv-org-pdf-1806-06193v1-pdf.\n"
     ]
    },
    {
     "name": "stdout",
     "output_type": "stream",
     "text": [
      "90\n"
     ]
    },
    {
     "name": "stderr",
     "output_type": "stream",
     "text": [
      "2019-05-13 17:49:57,659 [MainThread  ] [INFO ]  Retrieving https://arxiv.org/pdf/1605.07146v4.pdf to /var/folders/1x/nph4r0452v1dk6t51bknf9080000gn/T/https-arxiv-org-pdf-1605-07146v4-pdf.\n"
     ]
    },
    {
     "name": "stdout",
     "output_type": "stream",
     "text": [
      "91\n"
     ]
    },
    {
     "name": "stderr",
     "output_type": "stream",
     "text": [
      "2019-05-13 17:50:00,773 [MainThread  ] [INFO ]  Retrieving https://arxiv.org/pdf/1602.01783v2.pdf to /var/folders/1x/nph4r0452v1dk6t51bknf9080000gn/T/https-arxiv-org-pdf-1602-01783v2-pdf.\n"
     ]
    },
    {
     "name": "stdout",
     "output_type": "stream",
     "text": [
      "92\n"
     ]
    },
    {
     "name": "stderr",
     "output_type": "stream",
     "text": [
      "2019-05-13 17:50:06,521 [MainThread  ] [INFO ]  Retrieving https://arxiv.org/pdf/1709.05188v6.pdf to /var/folders/1x/nph4r0452v1dk6t51bknf9080000gn/T/https-arxiv-org-pdf-1709-05188v6-pdf.\n"
     ]
    },
    {
     "name": "stdout",
     "output_type": "stream",
     "text": [
      "93\n"
     ]
    },
    {
     "name": "stderr",
     "output_type": "stream",
     "text": [
      "2019-05-13 17:50:22,783 [MainThread  ] [INFO ]  Retrieving https://arxiv.org/pdf/1805.01086v1.pdf to /var/folders/1x/nph4r0452v1dk6t51bknf9080000gn/T/https-arxiv-org-pdf-1805-01086v1-pdf.\n"
     ]
    },
    {
     "name": "stdout",
     "output_type": "stream",
     "text": [
      "94\n"
     ]
    },
    {
     "name": "stderr",
     "output_type": "stream",
     "text": [
      "2019-05-13 17:50:25,148 [MainThread  ] [INFO ]  Retrieving https://aclweb.org/anthology/D15-1141 to /var/folders/1x/nph4r0452v1dk6t51bknf9080000gn/T/https-aclweb-org-anthology-d15-1141.\n"
     ]
    },
    {
     "name": "stdout",
     "output_type": "stream",
     "text": [
      "95\n"
     ]
    },
    {
     "name": "stderr",
     "output_type": "stream",
     "text": [
      "2019-05-13 17:50:30,121 [MainThread  ] [INFO ]  Retrieving https://papers.nips.cc/paper/5647-binaryconnect-training-deep-neural-networks-with-binary-weights-during-propagations.pdf to /var/folders/1x/nph4r0452v1dk6t51bknf9080000gn/T/https-papers-nips-cc-paper-5647-binaryconnect-training-deep-neural-networks-with-binary-weights-during-propagations-pdf.\n"
     ]
    },
    {
     "name": "stdout",
     "output_type": "stream",
     "text": [
      "96\n"
     ]
    },
    {
     "name": "stderr",
     "output_type": "stream",
     "text": [
      "2019-05-13 17:50:32,730 [MainThread  ] [INFO ]  Retrieving https://arxiv.org/pdf/1505.05899v1.pdf to /var/folders/1x/nph4r0452v1dk6t51bknf9080000gn/T/https-arxiv-org-pdf-1505-05899v1-pdf.\n"
     ]
    },
    {
     "name": "stdout",
     "output_type": "stream",
     "text": [
      "97\n"
     ]
    },
    {
     "name": "stderr",
     "output_type": "stream",
     "text": [
      "2019-05-13 17:50:34,433 [MainThread  ] [INFO ]  Retrieving https://arxiv.org/pdf/1606.00776v2.pdf to /var/folders/1x/nph4r0452v1dk6t51bknf9080000gn/T/https-arxiv-org-pdf-1606-00776v2-pdf.\n"
     ]
    },
    {
     "name": "stdout",
     "output_type": "stream",
     "text": [
      "98\n"
     ]
    },
    {
     "name": "stderr",
     "output_type": "stream",
     "text": [
      "2019-05-13 17:50:38,271 [MainThread  ] [INFO ]  Retrieving https://arxiv.org/pdf/1904.11491.pdf to /var/folders/1x/nph4r0452v1dk6t51bknf9080000gn/T/https-arxiv-org-pdf-1904-11491-pdf.\n"
     ]
    },
    {
     "name": "stdout",
     "output_type": "stream",
     "text": [
      "99\n"
     ]
    },
    {
     "name": "stderr",
     "output_type": "stream",
     "text": [
      "2019-05-13 17:50:42,116 [MainThread  ] [INFO ]  Retrieving https://arxiv.org/pdf/1701.07717v5.pdf to /var/folders/1x/nph4r0452v1dk6t51bknf9080000gn/T/https-arxiv-org-pdf-1701-07717v5-pdf.\n"
     ]
    },
    {
     "name": "stdout",
     "output_type": "stream",
     "text": [
      "100\n"
     ]
    },
    {
     "name": "stderr",
     "output_type": "stream",
     "text": [
      "2019-05-13 17:50:45,942 [MainThread  ] [INFO ]  Retrieving https://www.macs.hw.ac.uk/InteractionLab/E2E/final_papers/E2E-Zhang.pdf to /var/folders/1x/nph4r0452v1dk6t51bknf9080000gn/T/https-www-macs-hw-ac-uk-interactionlab-e2e-final_papers-e2e-zhang-pdf.\n",
      "2019-05-13 17:50:46,086 [MainThread  ] [INFO ]  Retrieving https://arxiv.org/pdf/1511.04491v2.pdf to /var/folders/1x/nph4r0452v1dk6t51bknf9080000gn/T/https-arxiv-org-pdf-1511-04491v2-pdf.\n"
     ]
    },
    {
     "name": "stdout",
     "output_type": "stream",
     "text": [
      "101\n",
      "102\n"
     ]
    },
    {
     "name": "stderr",
     "output_type": "stream",
     "text": [
      "2019-05-13 17:51:08,666 [MainThread  ] [INFO ]  Retrieving https://arxiv.org/pdf/1707.09465v5.pdf to /var/folders/1x/nph4r0452v1dk6t51bknf9080000gn/T/https-arxiv-org-pdf-1707-09465v5-pdf.\n"
     ]
    },
    {
     "name": "stdout",
     "output_type": "stream",
     "text": [
      "103\n"
     ]
    },
    {
     "name": "stderr",
     "output_type": "stream",
     "text": [
      "2019-05-13 17:51:20,067 [MainThread  ] [INFO ]  Retrieving https://arxiv.org/pdf/1701.06264v6.pdf to /var/folders/1x/nph4r0452v1dk6t51bknf9080000gn/T/https-arxiv-org-pdf-1701-06264v6-pdf.\n"
     ]
    },
    {
     "name": "stdout",
     "output_type": "stream",
     "text": [
      "104\n"
     ]
    },
    {
     "name": "stderr",
     "output_type": "stream",
     "text": [
      "2019-05-13 17:51:35,308 [MainThread  ] [INFO ]  Retrieving https://arxiv.org/pdf/1511.06390v2.pdf to /var/folders/1x/nph4r0452v1dk6t51bknf9080000gn/T/https-arxiv-org-pdf-1511-06390v2-pdf.\n"
     ]
    },
    {
     "name": "stdout",
     "output_type": "stream",
     "text": [
      "105\n"
     ]
    },
    {
     "name": "stderr",
     "output_type": "stream",
     "text": [
      "2019-05-13 17:51:52,843 [MainThread  ] [INFO ]  Retrieving https://arxiv.org/pdf/1902.07153v1.pdf to /var/folders/1x/nph4r0452v1dk6t51bknf9080000gn/T/https-arxiv-org-pdf-1902-07153v1-pdf.\n"
     ]
    },
    {
     "name": "stdout",
     "output_type": "stream",
     "text": [
      "106\n"
     ]
    },
    {
     "name": "stderr",
     "output_type": "stream",
     "text": [
      "2019-05-13 17:51:56,990 [MainThread  ] [INFO ]  Retrieving https://arxiv.org/pdf/1704.00028v3.pdf to /var/folders/1x/nph4r0452v1dk6t51bknf9080000gn/T/https-arxiv-org-pdf-1704-00028v3-pdf.\n"
     ]
    },
    {
     "name": "stdout",
     "output_type": "stream",
     "text": [
      "107\n"
     ]
    },
    {
     "name": "stderr",
     "output_type": "stream",
     "text": [
      "2019-05-13 17:52:10,480 [MainThread  ] [INFO ]  Retrieving https://arxiv.org/pdf/1806.07297v1.pdf to /var/folders/1x/nph4r0452v1dk6t51bknf9080000gn/T/https-arxiv-org-pdf-1806-07297v1-pdf.\n"
     ]
    },
    {
     "name": "stdout",
     "output_type": "stream",
     "text": [
      "108\n"
     ]
    },
    {
     "name": "stderr",
     "output_type": "stream",
     "text": [
      "2019-05-13 17:52:12,933 [MainThread  ] [INFO ]  Retrieving https://arxiv.org/pdf/1804.07461v3.pdf to /var/folders/1x/nph4r0452v1dk6t51bknf9080000gn/T/https-arxiv-org-pdf-1804-07461v3-pdf.\n"
     ]
    },
    {
     "name": "stdout",
     "output_type": "stream",
     "text": [
      "109\n"
     ]
    },
    {
     "name": "stderr",
     "output_type": "stream",
     "text": [
      "2019-05-13 17:52:15,098 [MainThread  ] [INFO ]  Retrieving https://arxiv.org/pdf/1506.01497v3.pdf to /var/folders/1x/nph4r0452v1dk6t51bknf9080000gn/T/https-arxiv-org-pdf-1506-01497v3-pdf.\n"
     ]
    },
    {
     "name": "stdout",
     "output_type": "stream",
     "text": [
      "110\n"
     ]
    },
    {
     "name": "stderr",
     "output_type": "stream",
     "text": [
      "2019-05-13 17:52:26,864 [MainThread  ] [INFO ]  Retrieving https://aclweb.org/anthology/P17-1052 to /var/folders/1x/nph4r0452v1dk6t51bknf9080000gn/T/https-aclweb-org-anthology-p17-1052.\n"
     ]
    },
    {
     "name": "stdout",
     "output_type": "stream",
     "text": [
      "111\n"
     ]
    },
    {
     "name": "stderr",
     "output_type": "stream",
     "text": [
      "2019-05-13 17:52:29,232 [MainThread  ] [INFO ]  Retrieving https://arxiv.org/pdf/1511.07053v3.pdf to /var/folders/1x/nph4r0452v1dk6t51bknf9080000gn/T/https-arxiv-org-pdf-1511-07053v3-pdf.\n"
     ]
    },
    {
     "name": "stdout",
     "output_type": "stream",
     "text": [
      "112\n"
     ]
    },
    {
     "name": "stderr",
     "output_type": "stream",
     "text": [
      "2019-05-13 17:52:35,339 [MainThread  ] [INFO ]  Retrieving https://arxiv.org/pdf/1805.11360v2.pdf to /var/folders/1x/nph4r0452v1dk6t51bknf9080000gn/T/https-arxiv-org-pdf-1805-11360v2-pdf.\n"
     ]
    },
    {
     "name": "stdout",
     "output_type": "stream",
     "text": [
      "113\n"
     ]
    },
    {
     "name": "stderr",
     "output_type": "stream",
     "text": [
      "2019-05-13 17:52:39,164 [MainThread  ] [INFO ]  Retrieving https://s3-us-west-2.amazonaws.com/openai-assets/research-covers/language-unsupervised/language_understanding_paper.pdf to /var/folders/1x/nph4r0452v1dk6t51bknf9080000gn/T/https-s3-us-west-2-amazonaws-com-openai-assets-research-covers-language-unsupervised-language_understanding_paper-pdf.\n"
     ]
    },
    {
     "name": "stdout",
     "output_type": "stream",
     "text": [
      "114\n"
     ]
    },
    {
     "name": "stderr",
     "output_type": "stream",
     "text": [
      "2019-05-13 17:52:40,737 [MainThread  ] [INFO ]  Retrieving https://arxiv.org/pdf/1704.03373v1.pdf to /var/folders/1x/nph4r0452v1dk6t51bknf9080000gn/T/https-arxiv-org-pdf-1704-03373v1-pdf.\n"
     ]
    },
    {
     "name": "stdout",
     "output_type": "stream",
     "text": [
      "115\n"
     ]
    },
    {
     "name": "stderr",
     "output_type": "stream",
     "text": [
      "2019-05-13 17:52:44,360 [MainThread  ] [INFO ]  Retrieving https://openreview.net/pdf?id=HkxLXnAcFQ to /var/folders/1x/nph4r0452v1dk6t51bknf9080000gn/T/https-openreview-net-pdf-id-hkxlxnacfq.\n"
     ]
    },
    {
     "name": "stdout",
     "output_type": "stream",
     "text": [
      "116\n"
     ]
    },
    {
     "name": "stderr",
     "output_type": "stream",
     "text": [
      "2019-05-13 17:52:45,798 [MainThread  ] [INFO ]  Retrieving https://arxiv.org/pdf/1711.11585v2.pdf to /var/folders/1x/nph4r0452v1dk6t51bknf9080000gn/T/https-arxiv-org-pdf-1711-11585v2-pdf.\n"
     ]
    },
    {
     "name": "stdout",
     "output_type": "stream",
     "text": [
      "117\n"
     ]
    },
    {
     "name": "stderr",
     "output_type": "stream",
     "text": [
      "2019-05-13 17:52:55,742 [MainThread  ] [INFO ]  Retrieving https://arxiv.org/pdf/1609.08144v2.pdf to /var/folders/1x/nph4r0452v1dk6t51bknf9080000gn/T/https-arxiv-org-pdf-1609-08144v2-pdf.\n"
     ]
    },
    {
     "name": "stdout",
     "output_type": "stream",
     "text": [
      "118\n"
     ]
    },
    {
     "name": "stderr",
     "output_type": "stream",
     "text": [
      "2019-05-13 17:52:59,888 [MainThread  ] [INFO ]  Retrieving https://arxiv.org/pdf/1612.00137v5.pdf to /var/folders/1x/nph4r0452v1dk6t51bknf9080000gn/T/https-arxiv-org-pdf-1612-00137v5-pdf.\n"
     ]
    },
    {
     "name": "stdout",
     "output_type": "stream",
     "text": [
      "119\n"
     ]
    },
    {
     "name": "stderr",
     "output_type": "stream",
     "text": [
      "2019-05-13 17:53:06,248 [MainThread  ] [INFO ]  Retrieving https://arxiv.org/pdf/1705.02798v6.pdf to /var/folders/1x/nph4r0452v1dk6t51bknf9080000gn/T/https-arxiv-org-pdf-1705-02798v6-pdf.\n"
     ]
    },
    {
     "name": "stdout",
     "output_type": "stream",
     "text": [
      "120\n"
     ]
    },
    {
     "name": "stderr",
     "output_type": "stream",
     "text": [
      "2019-05-13 17:53:10,321 [MainThread  ] [INFO ]  Retrieving https://arxiv.org/pdf/1610.02454v1.pdf to /var/folders/1x/nph4r0452v1dk6t51bknf9080000gn/T/https-arxiv-org-pdf-1610-02454v1-pdf.\n"
     ]
    },
    {
     "name": "stdout",
     "output_type": "stream",
     "text": [
      "121\n"
     ]
    },
    {
     "name": "stderr",
     "output_type": "stream",
     "text": [
      "2019-05-13 17:53:20,130 [MainThread  ] [INFO ]  Retrieving https://arxiv.org/pdf/1709.07432v2.pdf to /var/folders/1x/nph4r0452v1dk6t51bknf9080000gn/T/https-arxiv-org-pdf-1709-07432v2-pdf.\n"
     ]
    },
    {
     "name": "stdout",
     "output_type": "stream",
     "text": [
      "122\n"
     ]
    },
    {
     "name": "stderr",
     "output_type": "stream",
     "text": [
      "2019-05-13 17:53:22,312 [MainThread  ] [INFO ]  Retrieving https://arxiv.org/pdf/1803.06589v2.pdf to /var/folders/1x/nph4r0452v1dk6t51bknf9080000gn/T/https-arxiv-org-pdf-1803-06589v2-pdf.\n"
     ]
    },
    {
     "name": "stdout",
     "output_type": "stream",
     "text": [
      "123\n"
     ]
    },
    {
     "name": "stderr",
     "output_type": "stream",
     "text": [
      "2019-05-13 17:53:25,919 [MainThread  ] [INFO ]  Retrieving https://arxiv.org/pdf/1812.01840v2.pdf to /var/folders/1x/nph4r0452v1dk6t51bknf9080000gn/T/https-arxiv-org-pdf-1812-01840v2-pdf.\n"
     ]
    },
    {
     "name": "stdout",
     "output_type": "stream",
     "text": [
      "124\n"
     ]
    },
    {
     "name": "stderr",
     "output_type": "stream",
     "text": [
      "2019-05-13 17:53:30,455 [MainThread  ] [INFO ]  Retrieving https://arxiv.org/pdf/1708.02312v2.pdf to /var/folders/1x/nph4r0452v1dk6t51bknf9080000gn/T/https-arxiv-org-pdf-1708-02312v2-pdf.\n"
     ]
    },
    {
     "name": "stdout",
     "output_type": "stream",
     "text": [
      "125\n"
     ]
    },
    {
     "name": "stderr",
     "output_type": "stream",
     "text": [
      "2019-05-13 17:53:35,267 [MainThread  ] [INFO ]  Retrieving https://arxiv.org/pdf/1708.02813v1.pdf to /var/folders/1x/nph4r0452v1dk6t51bknf9080000gn/T/https-arxiv-org-pdf-1708-02813v1-pdf.\n"
     ]
    },
    {
     "name": "stdout",
     "output_type": "stream",
     "text": [
      "126\n"
     ]
    },
    {
     "name": "stderr",
     "output_type": "stream",
     "text": [
      "2019-05-13 17:53:41,102 [MainThread  ] [INFO ]  Retrieving https://arxiv.org/pdf/1811.02084v1.pdf to /var/folders/1x/nph4r0452v1dk6t51bknf9080000gn/T/https-arxiv-org-pdf-1811-02084v1-pdf.\n"
     ]
    },
    {
     "name": "stdout",
     "output_type": "stream",
     "text": [
      "127\n"
     ]
    },
    {
     "name": "stderr",
     "output_type": "stream",
     "text": [
      "2019-05-13 17:53:43,371 [MainThread  ] [INFO ]  Retrieving https://openaccess.thecvf.com/content_ECCV_2018/papers/Wei_Liu_Learning_Efficient_Single-stage_ECCV_2018_paper.pdf to /var/folders/1x/nph4r0452v1dk6t51bknf9080000gn/T/https-openaccess-thecvf-com-content_eccv_2018-papers-wei_liu_learning_efficient_single-stage_eccv_2018_paper-pdf.\n"
     ]
    },
    {
     "name": "stdout",
     "output_type": "stream",
     "text": [
      "128\n"
     ]
    },
    {
     "name": "stderr",
     "output_type": "stream",
     "text": [
      "2019-05-13 17:56:13,707 [MainThread  ] [INFO ]  Retrieving https://arxiv.org/pdf/1705.02407v2.pdf to /var/folders/1x/nph4r0452v1dk6t51bknf9080000gn/T/https-arxiv-org-pdf-1705-02407v2-pdf.\n"
     ]
    },
    {
     "name": "stdout",
     "output_type": "stream",
     "text": [
      "129\n"
     ]
    },
    {
     "name": "stderr",
     "output_type": "stream",
     "text": [
      "2019-05-13 17:56:23,239 [MainThread  ] [INFO ]  Retrieving https://arxiv.org/pdf/1708.06720v1.pdf to /var/folders/1x/nph4r0452v1dk6t51bknf9080000gn/T/https-arxiv-org-pdf-1708-06720v1-pdf.\n"
     ]
    },
    {
     "name": "stdout",
     "output_type": "stream",
     "text": [
      "130\n"
     ]
    },
    {
     "name": "stderr",
     "output_type": "stream",
     "text": [
      "2019-05-13 17:56:35,476 [MainThread  ] [INFO ]  Retrieving https://arxiv.org/pdf/1605.06211v1.pdf to /var/folders/1x/nph4r0452v1dk6t51bknf9080000gn/T/https-arxiv-org-pdf-1605-06211v1-pdf.\n"
     ]
    },
    {
     "name": "stdout",
     "output_type": "stream",
     "text": [
      "131\n"
     ]
    },
    {
     "name": "stderr",
     "output_type": "stream",
     "text": [
      "2019-05-13 17:56:44,667 [MainThread  ] [INFO ]  Retrieving https://arxiv.org/pdf/1709.08267v2.pdf to /var/folders/1x/nph4r0452v1dk6t51bknf9080000gn/T/https-arxiv-org-pdf-1709-08267v2-pdf.\n"
     ]
    },
    {
     "name": "stdout",
     "output_type": "stream",
     "text": [
      "132\n"
     ]
    },
    {
     "name": "stderr",
     "output_type": "stream",
     "text": [
      "2019-05-13 17:56:50,492 [MainThread  ] [INFO ]  Retrieving https://arxiv.org/pdf/1807.07258v2.pdf to /var/folders/1x/nph4r0452v1dk6t51bknf9080000gn/T/https-arxiv-org-pdf-1807-07258v2-pdf.\n"
     ]
    },
    {
     "name": "stdout",
     "output_type": "stream",
     "text": [
      "133\n"
     ]
    },
    {
     "name": "stderr",
     "output_type": "stream",
     "text": [
      "2019-05-13 17:56:54,541 [MainThread  ] [INFO ]  Retrieving https://aclweb.org/anthology/N16-1027 to /var/folders/1x/nph4r0452v1dk6t51bknf9080000gn/T/https-aclweb-org-anthology-n16-1027.\n"
     ]
    },
    {
     "name": "stdout",
     "output_type": "stream",
     "text": [
      "134\n"
     ]
    },
    {
     "name": "stderr",
     "output_type": "stream",
     "text": [
      "2019-05-13 17:56:56,525 [MainThread  ] [INFO ]  Retrieving https://arxiv.org/pdf/1901.00603v1.pdf to /var/folders/1x/nph4r0452v1dk6t51bknf9080000gn/T/https-arxiv-org-pdf-1901-00603v1-pdf.\n"
     ]
    },
    {
     "name": "stdout",
     "output_type": "stream",
     "text": [
      "135\n"
     ]
    },
    {
     "name": "stderr",
     "output_type": "stream",
     "text": [
      "2019-05-13 17:57:00,137 [MainThread  ] [INFO ]  Retrieving https://arxiv.org/pdf/1604.02135v2.pdf to /var/folders/1x/nph4r0452v1dk6t51bknf9080000gn/T/https-arxiv-org-pdf-1604-02135v2-pdf.\n"
     ]
    },
    {
     "name": "stdout",
     "output_type": "stream",
     "text": [
      "136\n"
     ]
    },
    {
     "name": "stderr",
     "output_type": "stream",
     "text": [
      "2019-05-13 17:57:07,655 [MainThread  ] [INFO ]  Retrieving https://arxiv.org/pdf/1806.02559v1.pdf to /var/folders/1x/nph4r0452v1dk6t51bknf9080000gn/T/https-arxiv-org-pdf-1806-02559v1-pdf.\n"
     ]
    },
    {
     "name": "stdout",
     "output_type": "stream",
     "text": [
      "137\n"
     ]
    },
    {
     "name": "stderr",
     "output_type": "stream",
     "text": [
      "2019-05-13 17:57:15,444 [MainThread  ] [INFO ]  Retrieving https://arxiv.org/pdf/1804.00823v4.pdf to /var/folders/1x/nph4r0452v1dk6t51bknf9080000gn/T/https-arxiv-org-pdf-1804-00823v4-pdf.\n"
     ]
    },
    {
     "name": "stdout",
     "output_type": "stream",
     "text": [
      "138\n"
     ]
    },
    {
     "name": "stderr",
     "output_type": "stream",
     "text": [
      "2019-05-13 17:57:18,123 [MainThread  ] [INFO ]  Retrieving https://arxiv.org/pdf/1606.01455v2.pdf to /var/folders/1x/nph4r0452v1dk6t51bknf9080000gn/T/https-arxiv-org-pdf-1606-01455v2-pdf.\n"
     ]
    },
    {
     "name": "stdout",
     "output_type": "stream",
     "text": [
      "139\n"
     ]
    },
    {
     "name": "stderr",
     "output_type": "stream",
     "text": [
      "2019-05-13 17:57:22,234 [MainThread  ] [INFO ]  Retrieving https://openaccess.thecvf.com/content_cvpr_2018/papers/Li_High_Performance_Visual_CVPR_2018_paper.pdf to /var/folders/1x/nph4r0452v1dk6t51bknf9080000gn/T/https-openaccess-thecvf-com-content_cvpr_2018-papers-li_high_performance_visual_cvpr_2018_paper-pdf.\n"
     ]
    },
    {
     "name": "stdout",
     "output_type": "stream",
     "text": [
      "140\n"
     ]
    },
    {
     "name": "stderr",
     "output_type": "stream",
     "text": [
      "2019-05-13 17:59:53,195 [MainThread  ] [INFO ]  Retrieving https://arxiv.org/pdf/1803.07253v1.pdf to /var/folders/1x/nph4r0452v1dk6t51bknf9080000gn/T/https-arxiv-org-pdf-1803-07253v1-pdf.\n"
     ]
    },
    {
     "name": "stdout",
     "output_type": "stream",
     "text": [
      "141\n"
     ]
    },
    {
     "name": "stderr",
     "output_type": "stream",
     "text": [
      "2019-05-13 17:59:57,625 [MainThread  ] [INFO ]  Retrieving https://arxiv.org/pdf/1809.02983v4.pdf to /var/folders/1x/nph4r0452v1dk6t51bknf9080000gn/T/https-arxiv-org-pdf-1809-02983v4-pdf.\n"
     ]
    },
    {
     "name": "stdout",
     "output_type": "stream",
     "text": [
      "142\n"
     ]
    },
    {
     "name": "stderr",
     "output_type": "stream",
     "text": [
      "2019-05-13 18:00:01,797 [MainThread  ] [INFO ]  Retrieving https://arxiv.org/pdf/1511.00830v6.pdf to /var/folders/1x/nph4r0452v1dk6t51bknf9080000gn/T/https-arxiv-org-pdf-1511-00830v6-pdf.\n"
     ]
    },
    {
     "name": "stdout",
     "output_type": "stream",
     "text": [
      "143\n"
     ]
    },
    {
     "name": "stderr",
     "output_type": "stream",
     "text": [
      "2019-05-13 18:00:11,484 [MainThread  ] [INFO ]  Retrieving https://arxiv.org/pdf/1707.05653v2.pdf to /var/folders/1x/nph4r0452v1dk6t51bknf9080000gn/T/https-arxiv-org-pdf-1707-05653v2-pdf.\n"
     ]
    },
    {
     "name": "stdout",
     "output_type": "stream",
     "text": [
      "144\n"
     ]
    },
    {
     "name": "stderr",
     "output_type": "stream",
     "text": [
      "2019-05-13 18:00:18,511 [MainThread  ] [INFO ]  Retrieving https://arxiv.org/pdf/1703.04617v2.pdf to /var/folders/1x/nph4r0452v1dk6t51bknf9080000gn/T/https-arxiv-org-pdf-1703-04617v2-pdf.\n"
     ]
    },
    {
     "name": "stdout",
     "output_type": "stream",
     "text": [
      "145\n"
     ]
    },
    {
     "name": "stderr",
     "output_type": "stream",
     "text": [
      "2019-05-13 18:00:21,896 [MainThread  ] [INFO ]  Retrieving https://arxiv.org/pdf/1606.02270v2.pdf to /var/folders/1x/nph4r0452v1dk6t51bknf9080000gn/T/https-arxiv-org-pdf-1606-02270v2-pdf.\n"
     ]
    },
    {
     "name": "stdout",
     "output_type": "stream",
     "text": [
      "146\n"
     ]
    },
    {
     "name": "stderr",
     "output_type": "stream",
     "text": [
      "2019-05-13 18:00:25,051 [MainThread  ] [INFO ]  Retrieving https://arxiv.org/pdf/1702.01417v2.pdf to /var/folders/1x/nph4r0452v1dk6t51bknf9080000gn/T/https-arxiv-org-pdf-1702-01417v2-pdf.\n"
     ]
    },
    {
     "name": "stdout",
     "output_type": "stream",
     "text": [
      "147\n"
     ]
    },
    {
     "name": "stderr",
     "output_type": "stream",
     "text": [
      "2019-05-13 18:00:28,134 [MainThread  ] [INFO ]  Retrieving https://arxiv.org/pdf/1806.04342v1.pdf to /var/folders/1x/nph4r0452v1dk6t51bknf9080000gn/T/https-arxiv-org-pdf-1806-04342v1-pdf.\n"
     ]
    },
    {
     "name": "stdout",
     "output_type": "stream",
     "text": [
      "148\n"
     ]
    },
    {
     "name": "stderr",
     "output_type": "stream",
     "text": [
      "2019-05-13 18:00:31,872 [MainThread  ] [INFO ]  Retrieving https://arxiv.org/pdf/1904.01301v2.pdf to /var/folders/1x/nph4r0452v1dk6t51bknf9080000gn/T/https-arxiv-org-pdf-1904-01301v2-pdf.\n"
     ]
    },
    {
     "name": "stdout",
     "output_type": "stream",
     "text": [
      "149\n"
     ]
    },
    {
     "name": "stderr",
     "output_type": "stream",
     "text": [
      "2019-05-13 18:00:34,612 [MainThread  ] [INFO ]  Retrieving https://arxiv.org/pdf/1710.09829v2.pdf to /var/folders/1x/nph4r0452v1dk6t51bknf9080000gn/T/https-arxiv-org-pdf-1710-09829v2-pdf.\n"
     ]
    },
    {
     "name": "stdout",
     "output_type": "stream",
     "text": [
      "150\n"
     ]
    },
    {
     "name": "stderr",
     "output_type": "stream",
     "text": [
      "2019-05-13 18:00:38,043 [MainThread  ] [INFO ]  Retrieving https://aclweb.org/anthology/D18-1280 to /var/folders/1x/nph4r0452v1dk6t51bknf9080000gn/T/https-aclweb-org-anthology-d18-1280.\n"
     ]
    },
    {
     "name": "stdout",
     "output_type": "stream",
     "text": [
      "151\n"
     ]
    },
    {
     "name": "stderr",
     "output_type": "stream",
     "text": [
      "2019-05-13 18:00:42,638 [MainThread  ] [INFO ]  Retrieving https://arxiv.org/pdf/1904.00284v2.pdf to /var/folders/1x/nph4r0452v1dk6t51bknf9080000gn/T/https-arxiv-org-pdf-1904-00284v2-pdf.\n"
     ]
    },
    {
     "name": "stdout",
     "output_type": "stream",
     "text": [
      "152\n"
     ]
    },
    {
     "name": "stderr",
     "output_type": "stream",
     "text": [
      "2019-05-13 18:01:01,967 [MainThread  ] [INFO ]  Retrieving https://arxiv.org/pdf/1705.03122v3.pdf to /var/folders/1x/nph4r0452v1dk6t51bknf9080000gn/T/https-arxiv-org-pdf-1705-03122v3-pdf.\n"
     ]
    },
    {
     "name": "stdout",
     "output_type": "stream",
     "text": [
      "153\n"
     ]
    },
    {
     "name": "stderr",
     "output_type": "stream",
     "text": [
      "2019-05-13 18:01:04,456 [MainThread  ] [INFO ]  Retrieving https://arxiv.org/pdf/1702.05464v1.pdf to /var/folders/1x/nph4r0452v1dk6t51bknf9080000gn/T/https-arxiv-org-pdf-1702-05464v1-pdf.\n"
     ]
    },
    {
     "name": "stdout",
     "output_type": "stream",
     "text": [
      "154\n"
     ]
    },
    {
     "name": "stderr",
     "output_type": "stream",
     "text": [
      "2019-05-13 18:01:08,961 [MainThread  ] [INFO ]  Retrieving https://arxiv.org/pdf/1703.10717v4.pdf to /var/folders/1x/nph4r0452v1dk6t51bknf9080000gn/T/https-arxiv-org-pdf-1703-10717v4-pdf.\n"
     ]
    },
    {
     "name": "stdout",
     "output_type": "stream",
     "text": [
      "155\n"
     ]
    },
    {
     "name": "stderr",
     "output_type": "stream",
     "text": [
      "2019-05-13 18:01:17,942 [MainThread  ] [INFO ]  Retrieving https://arxiv.org/pdf/1512.08086v1.pdf to /var/folders/1x/nph4r0452v1dk6t51bknf9080000gn/T/https-arxiv-org-pdf-1512-08086v1-pdf.\n"
     ]
    },
    {
     "name": "stdout",
     "output_type": "stream",
     "text": [
      "156\n"
     ]
    },
    {
     "name": "stderr",
     "output_type": "stream",
     "text": [
      "2019-05-13 18:01:22,205 [MainThread  ] [INFO ]  Retrieving https://arxiv.org/pdf/1611.06430v1.pdf to /var/folders/1x/nph4r0452v1dk6t51bknf9080000gn/T/https-arxiv-org-pdf-1611-06430v1-pdf.\n"
     ]
    },
    {
     "name": "stdout",
     "output_type": "stream",
     "text": [
      "157\n"
     ]
    },
    {
     "name": "stderr",
     "output_type": "stream",
     "text": [
      "2019-05-13 18:01:25,804 [MainThread  ] [INFO ]  Retrieving https://arxiv.org/pdf/1702.04174v1.pdf to /var/folders/1x/nph4r0452v1dk6t51bknf9080000gn/T/https-arxiv-org-pdf-1702-04174v1-pdf.\n"
     ]
    },
    {
     "name": "stdout",
     "output_type": "stream",
     "text": [
      "158\n"
     ]
    },
    {
     "name": "stderr",
     "output_type": "stream",
     "text": [
      "2019-05-13 18:01:28,081 [MainThread  ] [INFO ]  Retrieving https://arxiv.org/pdf/1707.09405v1.pdf to /var/folders/1x/nph4r0452v1dk6t51bknf9080000gn/T/https-arxiv-org-pdf-1707-09405v1-pdf.\n"
     ]
    },
    {
     "name": "stdout",
     "output_type": "stream",
     "text": [
      "159\n"
     ]
    },
    {
     "name": "stderr",
     "output_type": "stream",
     "text": [
      "2019-05-13 18:01:33,382 [MainThread  ] [INFO ]  Retrieving https://arxiv.org/pdf/1610.10099v2.pdf to /var/folders/1x/nph4r0452v1dk6t51bknf9080000gn/T/https-arxiv-org-pdf-1610-10099v2-pdf.\n"
     ]
    },
    {
     "name": "stdout",
     "output_type": "stream",
     "text": [
      "160\n"
     ]
    },
    {
     "name": "stderr",
     "output_type": "stream",
     "text": [
      "2019-05-13 18:01:39,458 [MainThread  ] [INFO ]  Retrieving https://arxiv.org/pdf/1605.03170v3.pdf to /var/folders/1x/nph4r0452v1dk6t51bknf9080000gn/T/https-arxiv-org-pdf-1605-03170v3-pdf.\n"
     ]
    },
    {
     "name": "stdout",
     "output_type": "stream",
     "text": [
      "161\n"
     ]
    },
    {
     "name": "stderr",
     "output_type": "stream",
     "text": [
      "2019-05-13 18:01:56,798 [MainThread  ] [INFO ]  Retrieving https://arxiv.org/pdf/1901.08043v3.pdf to /var/folders/1x/nph4r0452v1dk6t51bknf9080000gn/T/https-arxiv-org-pdf-1901-08043v3-pdf.\n"
     ]
    },
    {
     "name": "stdout",
     "output_type": "stream",
     "text": [
      "162\n"
     ]
    },
    {
     "name": "stderr",
     "output_type": "stream",
     "text": [
      "2019-05-13 18:02:18,113 [MainThread  ] [INFO ]  Retrieving https://arxiv.org/pdf/1506.02075v1.pdf to /var/folders/1x/nph4r0452v1dk6t51bknf9080000gn/T/https-arxiv-org-pdf-1506-02075v1-pdf.\n"
     ]
    },
    {
     "name": "stdout",
     "output_type": "stream",
     "text": [
      "163\n"
     ]
    },
    {
     "name": "stderr",
     "output_type": "stream",
     "text": [
      "2019-05-13 18:02:19,491 [MainThread  ] [INFO ]  Retrieving https://arxiv.org/pdf/1711.07341v2.pdf to /var/folders/1x/nph4r0452v1dk6t51bknf9080000gn/T/https-arxiv-org-pdf-1711-07341v2-pdf.\n"
     ]
    },
    {
     "name": "stdout",
     "output_type": "stream",
     "text": [
      "164\n"
     ]
    },
    {
     "name": "stderr",
     "output_type": "stream",
     "text": [
      "2019-05-13 18:02:23,698 [MainThread  ] [INFO ]  Retrieving https://arxiv.org/pdf/1710.02286v1.pdf to /var/folders/1x/nph4r0452v1dk6t51bknf9080000gn/T/https-arxiv-org-pdf-1710-02286v1-pdf.\n"
     ]
    },
    {
     "name": "stdout",
     "output_type": "stream",
     "text": [
      "165\n"
     ]
    },
    {
     "name": "stderr",
     "output_type": "stream",
     "text": [
      "2019-05-13 18:02:26,141 [MainThread  ] [INFO ]  Retrieving https://aclweb.org/anthology/P18-1064 to /var/folders/1x/nph4r0452v1dk6t51bknf9080000gn/T/https-aclweb-org-anthology-p18-1064.\n"
     ]
    },
    {
     "name": "stdout",
     "output_type": "stream",
     "text": [
      "166\n"
     ]
    },
    {
     "name": "stderr",
     "output_type": "stream",
     "text": [
      "2019-05-13 18:02:28,471 [MainThread  ] [INFO ]  Retrieving https://arxiv.org/pdf/1807.11590v1.pdf to /var/folders/1x/nph4r0452v1dk6t51bknf9080000gn/T/https-arxiv-org-pdf-1807-11590v1-pdf.\n"
     ]
    },
    {
     "name": "stdout",
     "output_type": "stream",
     "text": [
      "167\n"
     ]
    },
    {
     "name": "stderr",
     "output_type": "stream",
     "text": [
      "2019-05-13 18:02:33,702 [MainThread  ] [INFO ]  Retrieving https://arxiv.org/pdf/1704.08545v2.pdf to /var/folders/1x/nph4r0452v1dk6t51bknf9080000gn/T/https-arxiv-org-pdf-1704-08545v2-pdf.\n"
     ]
    },
    {
     "name": "stdout",
     "output_type": "stream",
     "text": [
      "168\n"
     ]
    },
    {
     "name": "stderr",
     "output_type": "stream",
     "text": [
      "2019-05-13 18:02:43,321 [MainThread  ] [INFO ]  Retrieving https://arxiv.org/pdf/1903.04167 to /var/folders/1x/nph4r0452v1dk6t51bknf9080000gn/T/https-arxiv-org-pdf-1903-04167.\n"
     ]
    },
    {
     "name": "stdout",
     "output_type": "stream",
     "text": [
      "169\n"
     ]
    },
    {
     "name": "stderr",
     "output_type": "stream",
     "text": [
      "2019-05-13 18:02:45,179 [MainThread  ] [INFO ]  Retrieving https://arxiv.org/pdf/1806.02639v1.pdf to /var/folders/1x/nph4r0452v1dk6t51bknf9080000gn/T/https-arxiv-org-pdf-1806-02639v1-pdf.\n"
     ]
    },
    {
     "name": "stdout",
     "output_type": "stream",
     "text": [
      "170\n"
     ]
    },
    {
     "name": "stderr",
     "output_type": "stream",
     "text": [
      "2019-05-13 18:02:54,470 [MainThread  ] [INFO ]  Retrieving https://aclweb.org/anthology/S17-2126 to /var/folders/1x/nph4r0452v1dk6t51bknf9080000gn/T/https-aclweb-org-anthology-s17-2126.\n"
     ]
    },
    {
     "name": "stdout",
     "output_type": "stream",
     "text": [
      "171\n"
     ]
    },
    {
     "name": "stderr",
     "output_type": "stream",
     "text": [
      "2019-05-13 18:02:58,036 [MainThread  ] [INFO ]  Retrieving https://arxiv.org/pdf/1711.08488v2.pdf to /var/folders/1x/nph4r0452v1dk6t51bknf9080000gn/T/https-arxiv-org-pdf-1711-08488v2-pdf.\n"
     ]
    },
    {
     "name": "stdout",
     "output_type": "stream",
     "text": [
      "172\n"
     ]
    },
    {
     "name": "stderr",
     "output_type": "stream",
     "text": [
      "2019-05-13 18:03:12,699 [MainThread  ] [INFO ]  Retrieving https://arxiv.org/pdf/1807.09192v1.pdf to /var/folders/1x/nph4r0452v1dk6t51bknf9080000gn/T/https-arxiv-org-pdf-1807-09192v1-pdf.\n"
     ]
    },
    {
     "name": "stdout",
     "output_type": "stream",
     "text": [
      "173\n"
     ]
    },
    {
     "name": "stderr",
     "output_type": "stream",
     "text": [
      "2019-05-13 18:03:20,243 [MainThread  ] [INFO ]  Retrieving https://arxiv.org/pdf/1502.07058v1.pdf to /var/folders/1x/nph4r0452v1dk6t51bknf9080000gn/T/https-arxiv-org-pdf-1502-07058v1-pdf.\n"
     ]
    },
    {
     "name": "stdout",
     "output_type": "stream",
     "text": [
      "174\n"
     ]
    },
    {
     "name": "stderr",
     "output_type": "stream",
     "text": [
      "2019-05-13 18:03:27,693 [MainThread  ] [INFO ]  Retrieving https://arxiv.org/pdf/1604.08242v2.pdf to /var/folders/1x/nph4r0452v1dk6t51bknf9080000gn/T/https-arxiv-org-pdf-1604-08242v2-pdf.\n"
     ]
    },
    {
     "name": "stdout",
     "output_type": "stream",
     "text": [
      "175\n"
     ]
    },
    {
     "name": "stderr",
     "output_type": "stream",
     "text": [
      "2019-05-13 18:03:29,541 [MainThread  ] [INFO ]  Retrieving https://arxiv.org/pdf/1806.09055v2.pdf to /var/folders/1x/nph4r0452v1dk6t51bknf9080000gn/T/https-arxiv-org-pdf-1806-09055v2-pdf.\n"
     ]
    },
    {
     "name": "stdout",
     "output_type": "stream",
     "text": [
      "176\n"
     ]
    },
    {
     "name": "stderr",
     "output_type": "stream",
     "text": [
      "2019-05-13 18:03:32,034 [MainThread  ] [INFO ]  Retrieving https://arxiv.org/pdf/1810.08393v2.pdf to /var/folders/1x/nph4r0452v1dk6t51bknf9080000gn/T/https-arxiv-org-pdf-1810-08393v2-pdf.\n"
     ]
    },
    {
     "name": "stdout",
     "output_type": "stream",
     "text": [
      "177\n"
     ]
    },
    {
     "name": "stderr",
     "output_type": "stream",
     "text": [
      "2019-05-13 18:03:43,933 [MainThread  ] [INFO ]  Retrieving https://arxiv.org/pdf/1904.01569v2.pdf to /var/folders/1x/nph4r0452v1dk6t51bknf9080000gn/T/https-arxiv-org-pdf-1904-01569v2-pdf.\n"
     ]
    },
    {
     "name": "stdout",
     "output_type": "stream",
     "text": [
      "178\n"
     ]
    },
    {
     "name": "stderr",
     "output_type": "stream",
     "text": [
      "2019-05-13 18:03:51,113 [MainThread  ] [INFO ]  Retrieving https://arxiv.org/pdf/1803.10409v1.pdf to /var/folders/1x/nph4r0452v1dk6t51bknf9080000gn/T/https-arxiv-org-pdf-1803-10409v1-pdf.\n"
     ]
    },
    {
     "name": "stdout",
     "output_type": "stream",
     "text": [
      "179\n"
     ]
    },
    {
     "name": "stderr",
     "output_type": "stream",
     "text": [
      "2019-05-13 18:04:06,601 [MainThread  ] [INFO ]  Retrieving https://arxiv.org/pdf/1707.03058v1.pdf to /var/folders/1x/nph4r0452v1dk6t51bknf9080000gn/T/https-arxiv-org-pdf-1707-03058v1-pdf.\n"
     ]
    },
    {
     "name": "stdout",
     "output_type": "stream",
     "text": [
      "180\n"
     ]
    },
    {
     "name": "stderr",
     "output_type": "stream",
     "text": [
      "2019-05-13 18:04:08,613 [MainThread  ] [INFO ]  Retrieving https://arxiv.org/pdf/1802.05751v3.pdf to /var/folders/1x/nph4r0452v1dk6t51bknf9080000gn/T/https-arxiv-org-pdf-1802-05751v3-pdf.\n"
     ]
    },
    {
     "name": "stdout",
     "output_type": "stream",
     "text": [
      "181\n"
     ]
    },
    {
     "name": "stderr",
     "output_type": "stream",
     "text": [
      "2019-05-13 18:04:11,947 [MainThread  ] [INFO ]  Retrieving https://arxiv.org/pdf/1812.06864v2.pdf to /var/folders/1x/nph4r0452v1dk6t51bknf9080000gn/T/https-arxiv-org-pdf-1812-06864v2-pdf.\n"
     ]
    },
    {
     "name": "stdout",
     "output_type": "stream",
     "text": [
      "182\n"
     ]
    },
    {
     "name": "stderr",
     "output_type": "stream",
     "text": [
      "2019-05-13 18:04:17,205 [MainThread  ] [INFO ]  Retrieving https://arxiv.org/pdf/1511.07212v1.pdf to /var/folders/1x/nph4r0452v1dk6t51bknf9080000gn/T/https-arxiv-org-pdf-1511-07212v1-pdf.\n"
     ]
    },
    {
     "name": "stdout",
     "output_type": "stream",
     "text": [
      "183\n"
     ]
    },
    {
     "name": "stderr",
     "output_type": "stream",
     "text": [
      "2019-05-13 18:04:27,574 [MainThread  ] [INFO ]  Retrieving https://arxiv.org/pdf/1904.09925v1.pdf to /var/folders/1x/nph4r0452v1dk6t51bknf9080000gn/T/https-arxiv-org-pdf-1904-09925v1-pdf.\n"
     ]
    },
    {
     "name": "stdout",
     "output_type": "stream",
     "text": [
      "184\n"
     ]
    },
    {
     "name": "stderr",
     "output_type": "stream",
     "text": [
      "2019-05-13 18:04:31,244 [MainThread  ] [INFO ]  Retrieving https://arxiv.org/pdf/1704.07221v1.pdf to /var/folders/1x/nph4r0452v1dk6t51bknf9080000gn/T/https-arxiv-org-pdf-1704-07221v1-pdf.\n"
     ]
    },
    {
     "name": "stdout",
     "output_type": "stream",
     "text": [
      "185\n"
     ]
    },
    {
     "name": "stderr",
     "output_type": "stream",
     "text": [
      "2019-05-13 18:04:32,952 [MainThread  ] [INFO ]  Retrieving https://arxiv.org/pdf/1704.01212v2.pdf to /var/folders/1x/nph4r0452v1dk6t51bknf9080000gn/T/https-arxiv-org-pdf-1704-01212v2-pdf.\n"
     ]
    },
    {
     "name": "stdout",
     "output_type": "stream",
     "text": [
      "186\n"
     ]
    },
    {
     "name": "stderr",
     "output_type": "stream",
     "text": [
      "2019-05-13 18:04:35,248 [MainThread  ] [INFO ]  Retrieving https://arxiv.org/pdf/1708.04552v2.pdf to /var/folders/1x/nph4r0452v1dk6t51bknf9080000gn/T/https-arxiv-org-pdf-1708-04552v2-pdf.\n"
     ]
    },
    {
     "name": "stdout",
     "output_type": "stream",
     "text": [
      "187\n"
     ]
    },
    {
     "name": "stderr",
     "output_type": "stream",
     "text": [
      "2019-05-13 18:04:37,930 [MainThread  ] [INFO ]  Retrieving https://arxiv.org/pdf/1802.04868v2.pdf to /var/folders/1x/nph4r0452v1dk6t51bknf9080000gn/T/https-arxiv-org-pdf-1802-04868v2-pdf.\n"
     ]
    },
    {
     "name": "stdout",
     "output_type": "stream",
     "text": [
      "188\n"
     ]
    },
    {
     "name": "stderr",
     "output_type": "stream",
     "text": [
      "2019-05-13 18:04:40,038 [MainThread  ] [INFO ]  Retrieving https://arxiv.org/pdf/1904.01341v1.pdf to /var/folders/1x/nph4r0452v1dk6t51bknf9080000gn/T/https-arxiv-org-pdf-1904-01341v1-pdf.\n"
     ]
    },
    {
     "name": "stdout",
     "output_type": "stream",
     "text": [
      "189\n"
     ]
    },
    {
     "name": "stderr",
     "output_type": "stream",
     "text": [
      "2019-05-13 18:04:42,202 [MainThread  ] [INFO ]  Retrieving https://aclweb.org/anthology/D18-1238 to /var/folders/1x/nph4r0452v1dk6t51bknf9080000gn/T/https-aclweb-org-anthology-d18-1238.\n"
     ]
    },
    {
     "name": "stdout",
     "output_type": "stream",
     "text": [
      "190\n"
     ]
    },
    {
     "name": "stderr",
     "output_type": "stream",
     "text": [
      "2019-05-13 18:04:44,218 [MainThread  ] [INFO ]  Retrieving https://arxiv.org/pdf/1707.07847v3.pdf to /var/folders/1x/nph4r0452v1dk6t51bknf9080000gn/T/https-arxiv-org-pdf-1707-07847v3-pdf.\n"
     ]
    },
    {
     "name": "stdout",
     "output_type": "stream",
     "text": [
      "191\n"
     ]
    },
    {
     "name": "stderr",
     "output_type": "stream",
     "text": [
      "2019-05-13 18:04:48,156 [MainThread  ] [INFO ]  Retrieving https://arxiv.org/pdf/1902.06871 to /var/folders/1x/nph4r0452v1dk6t51bknf9080000gn/T/https-arxiv-org-pdf-1902-06871.\n"
     ]
    },
    {
     "name": "stdout",
     "output_type": "stream",
     "text": [
      "192\n"
     ]
    },
    {
     "name": "stderr",
     "output_type": "stream",
     "text": [
      "2019-05-13 18:04:57,653 [MainThread  ] [INFO ]  Retrieving https://arxiv.org/pdf/1610.02357v3.pdf to /var/folders/1x/nph4r0452v1dk6t51bknf9080000gn/T/https-arxiv-org-pdf-1610-02357v3-pdf.\n"
     ]
    },
    {
     "name": "stdout",
     "output_type": "stream",
     "text": [
      "193\n"
     ]
    },
    {
     "name": "stderr",
     "output_type": "stream",
     "text": [
      "2019-05-13 18:05:00,128 [MainThread  ] [INFO ]  Retrieving https://arxiv.org/pdf/1902.01275v1.pdf to /var/folders/1x/nph4r0452v1dk6t51bknf9080000gn/T/https-arxiv-org-pdf-1902-01275v1-pdf.\n"
     ]
    },
    {
     "name": "stdout",
     "output_type": "stream",
     "text": [
      "194\n"
     ]
    },
    {
     "name": "stderr",
     "output_type": "stream",
     "text": [
      "2019-05-13 18:05:09,996 [MainThread  ] [INFO ]  Retrieving https://arxiv.org/pdf/1805.06553v1.pdf to /var/folders/1x/nph4r0452v1dk6t51bknf9080000gn/T/https-arxiv-org-pdf-1805-06553v1-pdf.\n"
     ]
    },
    {
     "name": "stdout",
     "output_type": "stream",
     "text": [
      "195\n"
     ]
    },
    {
     "name": "stderr",
     "output_type": "stream",
     "text": [
      "2019-05-13 18:05:12,186 [MainThread  ] [INFO ]  Retrieving https://arxiv.org/pdf/1603.02139v1.pdf to /var/folders/1x/nph4r0452v1dk6t51bknf9080000gn/T/https-arxiv-org-pdf-1603-02139v1-pdf.\n"
     ]
    },
    {
     "name": "stdout",
     "output_type": "stream",
     "text": [
      "196\n"
     ]
    },
    {
     "name": "stderr",
     "output_type": "stream",
     "text": [
      "2019-05-13 18:05:14,584 [MainThread  ] [INFO ]  Retrieving https://aclweb.org/anthology/P17-1018 to /var/folders/1x/nph4r0452v1dk6t51bknf9080000gn/T/https-aclweb-org-anthology-p17-1018.\n"
     ]
    },
    {
     "name": "stdout",
     "output_type": "stream",
     "text": [
      "197\n"
     ]
    },
    {
     "name": "stderr",
     "output_type": "stream",
     "text": [
      "2019-05-13 18:05:17,031 [MainThread  ] [INFO ]  Retrieving https://arxiv.org/pdf/1609.03528v2.pdf to /var/folders/1x/nph4r0452v1dk6t51bknf9080000gn/T/https-arxiv-org-pdf-1609-03528v2-pdf.\n"
     ]
    },
    {
     "name": "stdout",
     "output_type": "stream",
     "text": [
      "198\n"
     ]
    },
    {
     "name": "stderr",
     "output_type": "stream",
     "text": [
      "2019-05-13 18:05:18,772 [MainThread  ] [INFO ]  Retrieving https://arxiv.org/pdf/1710.06555v1.pdf to /var/folders/1x/nph4r0452v1dk6t51bknf9080000gn/T/https-arxiv-org-pdf-1710-06555v1-pdf.\n"
     ]
    },
    {
     "name": "stdout",
     "output_type": "stream",
     "text": [
      "199\n"
     ]
    },
    {
     "name": "stderr",
     "output_type": "stream",
     "text": [
      "2019-05-13 18:05:21,282 [MainThread  ] [INFO ]  Retrieving https://aclweb.org/anthology/D18-1274 to /var/folders/1x/nph4r0452v1dk6t51bknf9080000gn/T/https-aclweb-org-anthology-d18-1274.\n"
     ]
    },
    {
     "name": "stdout",
     "output_type": "stream",
     "text": [
      "200\n"
     ]
    },
    {
     "name": "stderr",
     "output_type": "stream",
     "text": [
      "2019-05-13 18:05:23,473 [MainThread  ] [INFO ]  Retrieving https://arxiv.org/pdf/1511.06443v2.pdf to /var/folders/1x/nph4r0452v1dk6t51bknf9080000gn/T/https-arxiv-org-pdf-1511-06443v2-pdf.\n"
     ]
    },
    {
     "name": "stdout",
     "output_type": "stream",
     "text": [
      "201\n"
     ]
    },
    {
     "name": "stderr",
     "output_type": "stream",
     "text": [
      "2019-05-13 18:05:25,191 [MainThread  ] [INFO ]  Retrieving https://arxiv.org/pdf/1202.2745v1.pdf to /var/folders/1x/nph4r0452v1dk6t51bknf9080000gn/T/https-arxiv-org-pdf-1202-2745v1-pdf.\n"
     ]
    },
    {
     "name": "stdout",
     "output_type": "stream",
     "text": [
      "202\n"
     ]
    },
    {
     "name": "stderr",
     "output_type": "stream",
     "text": [
      "2019-05-13 18:05:30,034 [MainThread  ] [INFO ]  Retrieving https://arxiv.org/pdf/1703.10295v3.pdf to /var/folders/1x/nph4r0452v1dk6t51bknf9080000gn/T/https-arxiv-org-pdf-1703-10295v3-pdf.\n"
     ]
    },
    {
     "name": "stdout",
     "output_type": "stream",
     "text": [
      "203\n"
     ]
    },
    {
     "name": "stderr",
     "output_type": "stream",
     "text": [
      "2019-05-13 18:05:31,598 [MainThread  ] [INFO ]  Retrieving https://arxiv.org/pdf/1606.04582v6.pdf to /var/folders/1x/nph4r0452v1dk6t51bknf9080000gn/T/https-arxiv-org-pdf-1606-04582v6-pdf.\n"
     ]
    },
    {
     "name": "stdout",
     "output_type": "stream",
     "text": [
      "204\n"
     ]
    },
    {
     "name": "stderr",
     "output_type": "stream",
     "text": [
      "2019-05-13 18:05:34,449 [MainThread  ] [INFO ]  Retrieving https://arxiv.org/pdf/1512.02595v1.pdf to /var/folders/1x/nph4r0452v1dk6t51bknf9080000gn/T/https-arxiv-org-pdf-1512-02595v1-pdf.\n"
     ]
    },
    {
     "name": "stdout",
     "output_type": "stream",
     "text": [
      "205\n"
     ]
    },
    {
     "name": "stderr",
     "output_type": "stream",
     "text": [
      "2019-05-13 18:05:37,773 [MainThread  ] [INFO ]  Retrieving https://arxiv.org/pdf/1903.06593v2.pdf to /var/folders/1x/nph4r0452v1dk6t51bknf9080000gn/T/https-arxiv-org-pdf-1903-06593v2-pdf.\n"
     ]
    },
    {
     "name": "stdout",
     "output_type": "stream",
     "text": [
      "206\n"
     ]
    },
    {
     "name": "stderr",
     "output_type": "stream",
     "text": [
      "2019-05-13 18:05:55,659 [MainThread  ] [INFO ]  Retrieving https://arxiv.org/pdf/1701.00295v4.pdf to /var/folders/1x/nph4r0452v1dk6t51bknf9080000gn/T/https-arxiv-org-pdf-1701-00295v4-pdf.\n"
     ]
    },
    {
     "name": "stdout",
     "output_type": "stream",
     "text": [
      "207\n"
     ]
    },
    {
     "name": "stderr",
     "output_type": "stream",
     "text": [
      "2019-05-13 18:06:10,383 [MainThread  ] [INFO ]  Retrieving https://aclweb.org/anthology/S16-1027 to /var/folders/1x/nph4r0452v1dk6t51bknf9080000gn/T/https-aclweb-org-anthology-s16-1027.\n"
     ]
    },
    {
     "name": "stdout",
     "output_type": "stream",
     "text": [
      "208\n"
     ]
    },
    {
     "name": "stderr",
     "output_type": "stream",
     "text": [
      "2019-05-13 18:06:12,089 [MainThread  ] [INFO ]  Retrieving https://arxiv.org/pdf/1606.00061v5.pdf to /var/folders/1x/nph4r0452v1dk6t51bknf9080000gn/T/https-arxiv-org-pdf-1606-00061v5-pdf.\n"
     ]
    },
    {
     "name": "stdout",
     "output_type": "stream",
     "text": [
      "209\n"
     ]
    },
    {
     "name": "stderr",
     "output_type": "stream",
     "text": [
      "2019-05-13 18:06:19,610 [MainThread  ] [INFO ]  Retrieving https://arxiv.org/pdf/1612.00593v2.pdf to /var/folders/1x/nph4r0452v1dk6t51bknf9080000gn/T/https-arxiv-org-pdf-1612-00593v2-pdf.\n"
     ]
    },
    {
     "name": "stdout",
     "output_type": "stream",
     "text": [
      "210\n"
     ]
    },
    {
     "name": "stderr",
     "output_type": "stream",
     "text": [
      "2019-05-13 18:06:38,383 [MainThread  ] [INFO ]  Retrieving https://aclweb.org/anthology/S18-1146 to /var/folders/1x/nph4r0452v1dk6t51bknf9080000gn/T/https-aclweb-org-anthology-s18-1146.\n"
     ]
    },
    {
     "name": "stdout",
     "output_type": "stream",
     "text": [
      "211\n"
     ]
    },
    {
     "name": "stderr",
     "output_type": "stream",
     "text": [
      "2019-05-13 18:06:40,566 [MainThread  ] [INFO ]  Retrieving https://arxiv.org/pdf/1703.01310v2.pdf to /var/folders/1x/nph4r0452v1dk6t51bknf9080000gn/T/https-arxiv-org-pdf-1703-01310v2-pdf.\n"
     ]
    },
    {
     "name": "stdout",
     "output_type": "stream",
     "text": [
      "212\n"
     ]
    },
    {
     "name": "stderr",
     "output_type": "stream",
     "text": [
      "2019-05-13 18:06:49,389 [MainThread  ] [INFO ]  Retrieving https://arxiv.org/pdf/1805.11565v4.pdf to /var/folders/1x/nph4r0452v1dk6t51bknf9080000gn/T/https-arxiv-org-pdf-1805-11565v4-pdf.\n"
     ]
    },
    {
     "name": "stdout",
     "output_type": "stream",
     "text": [
      "213\n"
     ]
    },
    {
     "name": "stderr",
     "output_type": "stream",
     "text": [
      "2019-05-13 18:07:06,603 [MainThread  ] [INFO ]  Retrieving https://arxiv.org/pdf/1607.00653v1.pdf to /var/folders/1x/nph4r0452v1dk6t51bknf9080000gn/T/https-arxiv-org-pdf-1607-00653v1-pdf.\n"
     ]
    },
    {
     "name": "stdout",
     "output_type": "stream",
     "text": [
      "214\n"
     ]
    },
    {
     "name": "stderr",
     "output_type": "stream",
     "text": [
      "2019-05-13 18:07:09,965 [MainThread  ] [INFO ]  Retrieving https://aclweb.org/anthology/N16-1012 to /var/folders/1x/nph4r0452v1dk6t51bknf9080000gn/T/https-aclweb-org-anthology-n16-1012.\n"
     ]
    },
    {
     "name": "stdout",
     "output_type": "stream",
     "text": [
      "215\n"
     ]
    },
    {
     "name": "stderr",
     "output_type": "stream",
     "text": [
      "2019-05-13 18:07:11,270 [MainThread  ] [INFO ]  Retrieving https://arxiv.org/pdf/1806.07987v2.pdf to /var/folders/1x/nph4r0452v1dk6t51bknf9080000gn/T/https-arxiv-org-pdf-1806-07987v2-pdf.\n"
     ]
    },
    {
     "name": "stdout",
     "output_type": "stream",
     "text": [
      "216\n"
     ]
    },
    {
     "name": "stderr",
     "output_type": "stream",
     "text": [
      "2019-05-13 18:07:21,441 [MainThread  ] [INFO ]  Retrieving https://aclweb.org/anthology/N18-2108 to /var/folders/1x/nph4r0452v1dk6t51bknf9080000gn/T/https-aclweb-org-anthology-n18-2108.\n"
     ]
    },
    {
     "name": "stdout",
     "output_type": "stream",
     "text": [
      "217\n"
     ]
    },
    {
     "name": "stderr",
     "output_type": "stream",
     "text": [
      "2019-05-13 18:07:22,956 [MainThread  ] [INFO ]  Retrieving https://arxiv.org/pdf/1811.08837v1.pdf to /var/folders/1x/nph4r0452v1dk6t51bknf9080000gn/T/https-arxiv-org-pdf-1811-08837v1-pdf.\n"
     ]
    },
    {
     "name": "stdout",
     "output_type": "stream",
     "text": [
      "218\n"
     ]
    },
    {
     "name": "stderr",
     "output_type": "stream",
     "text": [
      "2019-05-13 18:07:32,818 [MainThread  ] [INFO ]  Retrieving https://arxiv.org/pdf/1901.03546v1.pdf to /var/folders/1x/nph4r0452v1dk6t51bknf9080000gn/T/https-arxiv-org-pdf-1901-03546v1-pdf.\n"
     ]
    },
    {
     "name": "stdout",
     "output_type": "stream",
     "text": [
      "219\n"
     ]
    },
    {
     "name": "stderr",
     "output_type": "stream",
     "text": [
      "2019-05-13 18:07:42,771 [MainThread  ] [INFO ]  Retrieving https://arxiv.org/pdf/1506.02351v8.pdf to /var/folders/1x/nph4r0452v1dk6t51bknf9080000gn/T/https-arxiv-org-pdf-1506-02351v8-pdf.\n"
     ]
    },
    {
     "name": "stdout",
     "output_type": "stream",
     "text": [
      "220\n"
     ]
    },
    {
     "name": "stderr",
     "output_type": "stream",
     "text": [
      "2019-05-13 18:07:45,281 [MainThread  ] [INFO ]  Retrieving https://arxiv.org/pdf/1710.04026v2.pdf to /var/folders/1x/nph4r0452v1dk6t51bknf9080000gn/T/https-arxiv-org-pdf-1710-04026v2-pdf.\n"
     ]
    },
    {
     "name": "stdout",
     "output_type": "stream",
     "text": [
      "221\n"
     ]
    },
    {
     "name": "stderr",
     "output_type": "stream",
     "text": [
      "2019-05-13 18:08:01,068 [MainThread  ] [INFO ]  Retrieving https://arxiv.org/pdf/1806.05645v1.pdf to /var/folders/1x/nph4r0452v1dk6t51bknf9080000gn/T/https-arxiv-org-pdf-1806-05645v1-pdf.\n"
     ]
    },
    {
     "name": "stdout",
     "output_type": "stream",
     "text": [
      "222\n"
     ]
    },
    {
     "name": "stderr",
     "output_type": "stream",
     "text": [
      "2019-05-13 18:08:07,336 [MainThread  ] [INFO ]  Retrieving https://arxiv.org/pdf/1704.08063v4.pdf to /var/folders/1x/nph4r0452v1dk6t51bknf9080000gn/T/https-arxiv-org-pdf-1704-08063v4-pdf.\n"
     ]
    },
    {
     "name": "stdout",
     "output_type": "stream",
     "text": [
      "223\n"
     ]
    },
    {
     "name": "stderr",
     "output_type": "stream",
     "text": [
      "2019-05-13 18:08:18,815 [MainThread  ] [INFO ]  Retrieving https://arxiv.org/pdf/1703.00572v3.pdf to /var/folders/1x/nph4r0452v1dk6t51bknf9080000gn/T/https-arxiv-org-pdf-1703-00572v3-pdf.\n"
     ]
    },
    {
     "name": "stdout",
     "output_type": "stream",
     "text": [
      "224\n"
     ]
    },
    {
     "name": "stderr",
     "output_type": "stream",
     "text": [
      "2019-05-13 18:08:20,741 [MainThread  ] [INFO ]  Retrieving https://arxiv.org/pdf/1707.01629v2.pdf to /var/folders/1x/nph4r0452v1dk6t51bknf9080000gn/T/https-arxiv-org-pdf-1707-01629v2-pdf.\n"
     ]
    },
    {
     "name": "stdout",
     "output_type": "stream",
     "text": [
      "225\n"
     ]
    },
    {
     "name": "stderr",
     "output_type": "stream",
     "text": [
      "2019-05-13 18:08:23,706 [MainThread  ] [INFO ]  Retrieving https://arxiv.org/pdf/1803.01534v4.pdf to /var/folders/1x/nph4r0452v1dk6t51bknf9080000gn/T/https-arxiv-org-pdf-1803-01534v4-pdf.\n"
     ]
    },
    {
     "name": "stdout",
     "output_type": "stream",
     "text": [
      "226\n"
     ]
    },
    {
     "name": "stderr",
     "output_type": "stream",
     "text": [
      "2019-05-13 18:08:34,878 [MainThread  ] [INFO ]  Retrieving https://arxiv.org/pdf/1810.09951v1.pdf to /var/folders/1x/nph4r0452v1dk6t51bknf9080000gn/T/https-arxiv-org-pdf-1810-09951v1-pdf.\n"
     ]
    },
    {
     "name": "stdout",
     "output_type": "stream",
     "text": [
      "227\n"
     ]
    },
    {
     "name": "stderr",
     "output_type": "stream",
     "text": [
      "2019-05-13 18:08:37,218 [MainThread  ] [INFO ]  Retrieving https://arxiv.org/pdf/1705.08790v2.pdf to /var/folders/1x/nph4r0452v1dk6t51bknf9080000gn/T/https-arxiv-org-pdf-1705-08790v2-pdf.\n"
     ]
    },
    {
     "name": "stdout",
     "output_type": "stream",
     "text": [
      "228\n"
     ]
    },
    {
     "name": "stderr",
     "output_type": "stream",
     "text": [
      "2019-05-13 18:08:44,999 [MainThread  ] [INFO ]  Retrieving https://arxiv.org/pdf/1707.07998v3.pdf to /var/folders/1x/nph4r0452v1dk6t51bknf9080000gn/T/https-arxiv-org-pdf-1707-07998v3-pdf.\n"
     ]
    },
    {
     "name": "stdout",
     "output_type": "stream",
     "text": [
      "229\n"
     ]
    },
    {
     "name": "stderr",
     "output_type": "stream",
     "text": [
      "2019-05-13 18:09:05,868 [MainThread  ] [INFO ]  Retrieving https://aclweb.org/anthology/S16-1172 to /var/folders/1x/nph4r0452v1dk6t51bknf9080000gn/T/https-aclweb-org-anthology-s16-1172.\n"
     ]
    },
    {
     "name": "stdout",
     "output_type": "stream",
     "text": [
      "230\n"
     ]
    },
    {
     "name": "stderr",
     "output_type": "stream",
     "text": [
      "2019-05-13 18:09:07,370 [MainThread  ] [INFO ]  Retrieving https://arxiv.org/pdf/1412.7149v4.pdf to /var/folders/1x/nph4r0452v1dk6t51bknf9080000gn/T/https-arxiv-org-pdf-1412-7149v4-pdf.\n"
     ]
    },
    {
     "name": "stdout",
     "output_type": "stream",
     "text": [
      "231\n"
     ]
    },
    {
     "name": "stderr",
     "output_type": "stream",
     "text": [
      "2019-05-13 18:09:09,456 [MainThread  ] [INFO ]  Retrieving https://arxiv.org/pdf/1605.09090v1.pdf to /var/folders/1x/nph4r0452v1dk6t51bknf9080000gn/T/https-arxiv-org-pdf-1605-09090v1-pdf.\n"
     ]
    },
    {
     "name": "stdout",
     "output_type": "stream",
     "text": [
      "232\n"
     ]
    },
    {
     "name": "stderr",
     "output_type": "stream",
     "text": [
      "2019-05-13 18:09:10,743 [MainThread  ] [INFO ]  Retrieving https://arxiv.org/pdf/1712.00726v1.pdf to /var/folders/1x/nph4r0452v1dk6t51bknf9080000gn/T/https-arxiv-org-pdf-1712-00726v1-pdf.\n"
     ]
    },
    {
     "name": "stdout",
     "output_type": "stream",
     "text": [
      "233\n"
     ]
    },
    {
     "name": "stderr",
     "output_type": "stream",
     "text": [
      "2019-05-13 18:09:15,247 [MainThread  ] [INFO ]  Retrieving https://aclweb.org/anthology/P18-1215 to /var/folders/1x/nph4r0452v1dk6t51bknf9080000gn/T/https-aclweb-org-anthology-p18-1215.\n"
     ]
    },
    {
     "name": "stdout",
     "output_type": "stream",
     "text": [
      "234\n"
     ]
    },
    {
     "name": "stderr",
     "output_type": "stream",
     "text": [
      "2019-05-13 18:09:17,230 [MainThread  ] [INFO ]  Retrieving https://arxiv.org/pdf/1511.07289v5.pdf to /var/folders/1x/nph4r0452v1dk6t51bknf9080000gn/T/https-arxiv-org-pdf-1511-07289v5-pdf.\n"
     ]
    },
    {
     "name": "stdout",
     "output_type": "stream",
     "text": [
      "235\n"
     ]
    },
    {
     "name": "stderr",
     "output_type": "stream",
     "text": [
      "2019-05-13 18:09:20,004 [MainThread  ] [INFO ]  Retrieving https://arxiv.org/pdf/1612.08083v3.pdf to /var/folders/1x/nph4r0452v1dk6t51bknf9080000gn/T/https-arxiv-org-pdf-1612-08083v3-pdf.\n"
     ]
    },
    {
     "name": "stdout",
     "output_type": "stream",
     "text": [
      "236\n"
     ]
    },
    {
     "name": "stderr",
     "output_type": "stream",
     "text": [
      "2019-05-13 18:09:22,771 [MainThread  ] [INFO ]  Retrieving https://arxiv.org/pdf/1808.03867v3.pdf to /var/folders/1x/nph4r0452v1dk6t51bknf9080000gn/T/https-arxiv-org-pdf-1808-03867v3-pdf.\n"
     ]
    },
    {
     "name": "stdout",
     "output_type": "stream",
     "text": [
      "237\n"
     ]
    },
    {
     "name": "stderr",
     "output_type": "stream",
     "text": [
      "2019-05-13 18:09:27,194 [MainThread  ] [INFO ]  Retrieving https://arxiv.org/pdf/1802.09127v1.pdf to /var/folders/1x/nph4r0452v1dk6t51bknf9080000gn/T/https-arxiv-org-pdf-1802-09127v1-pdf.\n"
     ]
    },
    {
     "name": "stdout",
     "output_type": "stream",
     "text": [
      "238\n"
     ]
    },
    {
     "name": "stderr",
     "output_type": "stream",
     "text": [
      "2019-05-13 18:09:38,278 [MainThread  ] [INFO ]  Retrieving https://arxiv.org/pdf/1708.02863v1.pdf to /var/folders/1x/nph4r0452v1dk6t51bknf9080000gn/T/https-arxiv-org-pdf-1708-02863v1-pdf.\n"
     ]
    },
    {
     "name": "stdout",
     "output_type": "stream",
     "text": [
      "239\n"
     ]
    },
    {
     "name": "stderr",
     "output_type": "stream",
     "text": [
      "2019-05-13 18:09:45,712 [MainThread  ] [INFO ]  Retrieving https://arxiv.org/pdf/1609.02907v4.pdf to /var/folders/1x/nph4r0452v1dk6t51bknf9080000gn/T/https-arxiv-org-pdf-1609-02907v4-pdf.\n"
     ]
    },
    {
     "name": "stdout",
     "output_type": "stream",
     "text": [
      "240\n"
     ]
    },
    {
     "name": "stderr",
     "output_type": "stream",
     "text": [
      "2019-05-13 18:09:48,552 [MainThread  ] [INFO ]  Retrieving https://arxiv.org/pdf/1804.09849v2.pdf to /var/folders/1x/nph4r0452v1dk6t51bknf9080000gn/T/https-arxiv-org-pdf-1804-09849v2-pdf.\n"
     ]
    },
    {
     "name": "stdout",
     "output_type": "stream",
     "text": [
      "241\n"
     ]
    },
    {
     "name": "stderr",
     "output_type": "stream",
     "text": [
      "2019-05-13 18:09:50,681 [MainThread  ] [INFO ]  Retrieving https://arxiv.org/pdf/1505.03540v3.pdf to /var/folders/1x/nph4r0452v1dk6t51bknf9080000gn/T/https-arxiv-org-pdf-1505-03540v3-pdf.\n"
     ]
    },
    {
     "name": "stdout",
     "output_type": "stream",
     "text": [
      "242\n"
     ]
    },
    {
     "name": "stderr",
     "output_type": "stream",
     "text": [
      "2019-05-13 18:09:57,652 [MainThread  ] [INFO ]  Retrieving https://arxiv.org/pdf/1610.09585v4.pdf to /var/folders/1x/nph4r0452v1dk6t51bknf9080000gn/T/https-arxiv-org-pdf-1610-09585v4-pdf.\n"
     ]
    },
    {
     "name": "stdout",
     "output_type": "stream",
     "text": [
      "243\n"
     ]
    },
    {
     "name": "stderr",
     "output_type": "stream",
     "text": [
      "2019-05-13 18:10:10,982 [MainThread  ] [INFO ]  Retrieving https://arxiv.org/pdf/1705.02364v5.pdf to /var/folders/1x/nph4r0452v1dk6t51bknf9080000gn/T/https-arxiv-org-pdf-1705-02364v5-pdf.\n"
     ]
    },
    {
     "name": "stdout",
     "output_type": "stream",
     "text": [
      "244\n"
     ]
    },
    {
     "name": "stderr",
     "output_type": "stream",
     "text": [
      "2019-05-13 18:10:13,031 [MainThread  ] [INFO ]  Retrieving https://arxiv.org/pdf/1605.07725v3.pdf to /var/folders/1x/nph4r0452v1dk6t51bknf9080000gn/T/https-arxiv-org-pdf-1605-07725v3-pdf.\n"
     ]
    },
    {
     "name": "stdout",
     "output_type": "stream",
     "text": [
      "245\n"
     ]
    },
    {
     "name": "stderr",
     "output_type": "stream",
     "text": [
      "2019-05-13 18:10:14,629 [MainThread  ] [INFO ]  Retrieving https://arxiv.org/pdf/1707.01780v3.pdf to /var/folders/1x/nph4r0452v1dk6t51bknf9080000gn/T/https-arxiv-org-pdf-1707-01780v3-pdf.\n"
     ]
    },
    {
     "name": "stdout",
     "output_type": "stream",
     "text": [
      "246\n"
     ]
    },
    {
     "name": "stderr",
     "output_type": "stream",
     "text": [
      "2019-05-13 18:10:15,903 [MainThread  ] [INFO ]  Retrieving https://arxiv.org/pdf/1712.05884v2.pdf to /var/folders/1x/nph4r0452v1dk6t51bknf9080000gn/T/https-arxiv-org-pdf-1712-05884v2-pdf.\n"
     ]
    },
    {
     "name": "stdout",
     "output_type": "stream",
     "text": [
      "247\n"
     ]
    },
    {
     "name": "stderr",
     "output_type": "stream",
     "text": [
      "2019-05-13 18:10:17,717 [MainThread  ] [INFO ]  Retrieving https://arxiv.org/pdf/1901.01892v1.pdf to /var/folders/1x/nph4r0452v1dk6t51bknf9080000gn/T/https-arxiv-org-pdf-1901-01892v1-pdf.\n"
     ]
    },
    {
     "name": "stdout",
     "output_type": "stream",
     "text": [
      "248\n"
     ]
    },
    {
     "name": "stderr",
     "output_type": "stream",
     "text": [
      "2019-05-13 18:10:23,745 [MainThread  ] [INFO ]  Retrieving https://arxiv.org/pdf/1412.1265v1.pdf to /var/folders/1x/nph4r0452v1dk6t51bknf9080000gn/T/https-arxiv-org-pdf-1412-1265v1-pdf.\n"
     ]
    },
    {
     "name": "stdout",
     "output_type": "stream",
     "text": [
      "249\n"
     ]
    },
    {
     "name": "stderr",
     "output_type": "stream",
     "text": [
      "2019-05-13 18:10:34,526 [MainThread  ] [INFO ]  Retrieving https://arxiv.org/pdf/1705.00727v2.pdf to /var/folders/1x/nph4r0452v1dk6t51bknf9080000gn/T/https-arxiv-org-pdf-1705-00727v2-pdf.\n"
     ]
    },
    {
     "name": "stdout",
     "output_type": "stream",
     "text": [
      "250\n"
     ]
    },
    {
     "name": "stderr",
     "output_type": "stream",
     "text": [
      "2019-05-13 18:10:40,932 [MainThread  ] [INFO ]  Retrieving https://arxiv.org/pdf/1711.08611v1.pdf to /var/folders/1x/nph4r0452v1dk6t51bknf9080000gn/T/https-arxiv-org-pdf-1711-08611v1-pdf.\n"
     ]
    },
    {
     "name": "stdout",
     "output_type": "stream",
     "text": [
      "251\n"
     ]
    },
    {
     "name": "stderr",
     "output_type": "stream",
     "text": [
      "2019-05-13 18:10:43,190 [MainThread  ] [INFO ]  Retrieving https://arxiv.org/pdf/1809.01368v1.pdf to /var/folders/1x/nph4r0452v1dk6t51bknf9080000gn/T/https-arxiv-org-pdf-1809-01368v1-pdf.\n"
     ]
    },
    {
     "name": "stdout",
     "output_type": "stream",
     "text": [
      "252\n"
     ]
    },
    {
     "name": "stderr",
     "output_type": "stream",
     "text": [
      "2019-05-13 18:10:46,807 [MainThread  ] [INFO ]  Retrieving https://arxiv.org/pdf/1804.01438v3.pdf to /var/folders/1x/nph4r0452v1dk6t51bknf9080000gn/T/https-arxiv-org-pdf-1804-01438v3-pdf.\n"
     ]
    },
    {
     "name": "stdout",
     "output_type": "stream",
     "text": [
      "253\n"
     ]
    },
    {
     "name": "stderr",
     "output_type": "stream",
     "text": [
      "2019-05-13 18:10:50,306 [MainThread  ] [INFO ]  Retrieving https://arxiv.org/pdf/1703.07332v3.pdf to /var/folders/1x/nph4r0452v1dk6t51bknf9080000gn/T/https-arxiv-org-pdf-1703-07332v3-pdf.\n"
     ]
    },
    {
     "name": "stdout",
     "output_type": "stream",
     "text": [
      "254\n"
     ]
    },
    {
     "name": "stderr",
     "output_type": "stream",
     "text": [
      "2019-05-13 18:11:03,005 [MainThread  ] [INFO ]  Retrieving https://arxiv.org/pdf/1603.09025v5.pdf to /var/folders/1x/nph4r0452v1dk6t51bknf9080000gn/T/https-arxiv-org-pdf-1603-09025v5-pdf.\n"
     ]
    },
    {
     "name": "stdout",
     "output_type": "stream",
     "text": [
      "255\n"
     ]
    },
    {
     "name": "stderr",
     "output_type": "stream",
     "text": [
      "2019-05-13 18:11:05,583 [MainThread  ] [INFO ]  Retrieving https://arxiv.org/pdf/1704.04565v2.pdf to /var/folders/1x/nph4r0452v1dk6t51bknf9080000gn/T/https-arxiv-org-pdf-1704-04565v2-pdf.\n"
     ]
    },
    {
     "name": "stdout",
     "output_type": "stream",
     "text": [
      "256\n"
     ]
    },
    {
     "name": "stderr",
     "output_type": "stream",
     "text": [
      "2019-05-13 18:11:07,343 [MainThread  ] [INFO ]  Retrieving https://arxiv.org/pdf/1805.09208v2.pdf to /var/folders/1x/nph4r0452v1dk6t51bknf9080000gn/T/https-arxiv-org-pdf-1805-09208v2-pdf.\n"
     ]
    },
    {
     "name": "stdout",
     "output_type": "stream",
     "text": [
      "257\n"
     ]
    },
    {
     "name": "stderr",
     "output_type": "stream",
     "text": [
      "2019-05-13 18:11:09,389 [MainThread  ] [INFO ]  Retrieving https://arxiv.org/pdf/1903.09814v1.pdf to /var/folders/1x/nph4r0452v1dk6t51bknf9080000gn/T/https-arxiv-org-pdf-1903-09814v1-pdf.\n"
     ]
    },
    {
     "name": "stdout",
     "output_type": "stream",
     "text": [
      "258\n"
     ]
    },
    {
     "name": "stderr",
     "output_type": "stream",
     "text": [
      "2019-05-13 18:11:18,303 [MainThread  ] [INFO ]  Retrieving https://arxiv.org/pdf/1602.02410v2.pdf to /var/folders/1x/nph4r0452v1dk6t51bknf9080000gn/T/https-arxiv-org-pdf-1602-02410v2-pdf.\n"
     ]
    },
    {
     "name": "stdout",
     "output_type": "stream",
     "text": [
      "259\n"
     ]
    },
    {
     "name": "stderr",
     "output_type": "stream",
     "text": [
      "2019-05-13 18:11:20,109 [MainThread  ] [INFO ]  Retrieving https://arxiv.org/pdf/1704.05579v4.pdf to /var/folders/1x/nph4r0452v1dk6t51bknf9080000gn/T/https-arxiv-org-pdf-1704-05579v4-pdf.\n"
     ]
    },
    {
     "name": "stdout",
     "output_type": "stream",
     "text": [
      "260\n"
     ]
    },
    {
     "name": "stderr",
     "output_type": "stream",
     "text": [
      "2019-05-13 18:11:22,906 [MainThread  ] [INFO ]  Retrieving https://arxiv.org/pdf/1511.08119v4.pdf to /var/folders/1x/nph4r0452v1dk6t51bknf9080000gn/T/https-arxiv-org-pdf-1511-08119v4-pdf.\n"
     ]
    },
    {
     "name": "stdout",
     "output_type": "stream",
     "text": [
      "261\n"
     ]
    },
    {
     "name": "stderr",
     "output_type": "stream",
     "text": [
      "2019-05-13 18:11:36,058 [MainThread  ] [INFO ]  Retrieving https://arxiv.org/pdf/1707.07012v4.pdf to /var/folders/1x/nph4r0452v1dk6t51bknf9080000gn/T/https-arxiv-org-pdf-1707-07012v4-pdf.\n"
     ]
    },
    {
     "name": "stdout",
     "output_type": "stream",
     "text": [
      "262\n"
     ]
    },
    {
     "name": "stderr",
     "output_type": "stream",
     "text": [
      "2019-05-13 18:11:52,300 [MainThread  ] [INFO ]  Retrieving https://arxiv.org/pdf/1808.05759v5.pdf to /var/folders/1x/nph4r0452v1dk6t51bknf9080000gn/T/https-arxiv-org-pdf-1808-05759v5-pdf.\n"
     ]
    },
    {
     "name": "stdout",
     "output_type": "stream",
     "text": [
      "263\n"
     ]
    },
    {
     "name": "stderr",
     "output_type": "stream",
     "text": [
      "2019-05-13 18:11:55,033 [MainThread  ] [INFO ]  Retrieving https://arxiv.org/pdf/1708.01715v3.pdf to /var/folders/1x/nph4r0452v1dk6t51bknf9080000gn/T/https-arxiv-org-pdf-1708-01715v3-pdf.\n"
     ]
    },
    {
     "name": "stdout",
     "output_type": "stream",
     "text": [
      "264\n"
     ]
    },
    {
     "name": "stderr",
     "output_type": "stream",
     "text": [
      "2019-05-13 18:11:58,093 [MainThread  ] [INFO ]  Retrieving https://arxiv.org/pdf/1402.5766v1.pdf to /var/folders/1x/nph4r0452v1dk6t51bknf9080000gn/T/https-arxiv-org-pdf-1402-5766v1-pdf.\n"
     ]
    },
    {
     "name": "stdout",
     "output_type": "stream",
     "text": [
      "265\n"
     ]
    },
    {
     "name": "stderr",
     "output_type": "stream",
     "text": [
      "2019-05-13 18:11:59,671 [MainThread  ] [INFO ]  Retrieving https://arxiv.org/pdf/1606.07792v1.pdf to /var/folders/1x/nph4r0452v1dk6t51bknf9080000gn/T/https-arxiv-org-pdf-1606-07792v1-pdf.\n"
     ]
    },
    {
     "name": "stdout",
     "output_type": "stream",
     "text": [
      "266\n"
     ]
    },
    {
     "name": "stderr",
     "output_type": "stream",
     "text": [
      "2019-05-13 18:12:01,688 [MainThread  ] [INFO ]  Retrieving https://arxiv.org/pdf/1602.00172v2.pdf to /var/folders/1x/nph4r0452v1dk6t51bknf9080000gn/T/https-arxiv-org-pdf-1602-00172v2-pdf.\n"
     ]
    },
    {
     "name": "stdout",
     "output_type": "stream",
     "text": [
      "267\n"
     ]
    },
    {
     "name": "stderr",
     "output_type": "stream",
     "text": [
      "2019-05-13 18:12:03,505 [MainThread  ] [INFO ]  Retrieving https://arxiv.org/pdf/1609.03499v2.pdf to /var/folders/1x/nph4r0452v1dk6t51bknf9080000gn/T/https-arxiv-org-pdf-1609-03499v2-pdf.\n"
     ]
    },
    {
     "name": "stdout",
     "output_type": "stream",
     "text": [
      "268\n"
     ]
    },
    {
     "name": "stderr",
     "output_type": "stream",
     "text": [
      "2019-05-13 18:12:09,585 [MainThread  ] [INFO ]  Retrieving https://aclweb.org/anthology/D18-1377 to /var/folders/1x/nph4r0452v1dk6t51bknf9080000gn/T/https-aclweb-org-anthology-d18-1377.\n"
     ]
    },
    {
     "name": "stdout",
     "output_type": "stream",
     "text": [
      "269\n"
     ]
    },
    {
     "name": "stderr",
     "output_type": "stream",
     "text": [
      "2019-05-13 18:12:13,974 [MainThread  ] [INFO ]  Retrieving https://arxiv.org/pdf/1704.04920v3.pdf to /var/folders/1x/nph4r0452v1dk6t51bknf9080000gn/T/https-arxiv-org-pdf-1704-04920v3-pdf.\n"
     ]
    },
    {
     "name": "stdout",
     "output_type": "stream",
     "text": [
      "270\n"
     ]
    },
    {
     "name": "stderr",
     "output_type": "stream",
     "text": [
      "2019-05-13 18:12:16,890 [MainThread  ] [INFO ]  Retrieving https://arxiv.org/pdf/1511.07122v3.pdf to /var/folders/1x/nph4r0452v1dk6t51bknf9080000gn/T/https-arxiv-org-pdf-1511-07122v3-pdf.\n"
     ]
    },
    {
     "name": "stdout",
     "output_type": "stream",
     "text": [
      "271\n"
     ]
    },
    {
     "name": "stderr",
     "output_type": "stream",
     "text": [
      "2019-05-13 18:12:22,981 [MainThread  ] [INFO ]  Retrieving https://arxiv.org/pdf/1901.04112v1.pdf to /var/folders/1x/nph4r0452v1dk6t51bknf9080000gn/T/https-arxiv-org-pdf-1901-04112v1-pdf.\n"
     ]
    },
    {
     "name": "stdout",
     "output_type": "stream",
     "text": [
      "272\n"
     ]
    },
    {
     "name": "stderr",
     "output_type": "stream",
     "text": [
      "2019-05-13 18:12:26,259 [MainThread  ] [INFO ]  Retrieving https://arxiv.org/pdf/1612.07919v2.pdf to /var/folders/1x/nph4r0452v1dk6t51bknf9080000gn/T/https-arxiv-org-pdf-1612-07919v2-pdf.\n"
     ]
    },
    {
     "name": "stdout",
     "output_type": "stream",
     "text": [
      "273\n"
     ]
    },
    {
     "name": "stderr",
     "output_type": "stream",
     "text": [
      "2019-05-13 18:12:37,461 [MainThread  ] [INFO ]  Retrieving https://arxiv.org/pdf/1808.04505v1.pdf to /var/folders/1x/nph4r0452v1dk6t51bknf9080000gn/T/https-arxiv-org-pdf-1808-04505v1-pdf.\n"
     ]
    },
    {
     "name": "stdout",
     "output_type": "stream",
     "text": [
      "274\n"
     ]
    },
    {
     "name": "stderr",
     "output_type": "stream",
     "text": [
      "2019-05-13 18:12:46,267 [MainThread  ] [INFO ]  Retrieving https://arxiv.org/pdf/1610.02915v4.pdf to /var/folders/1x/nph4r0452v1dk6t51bknf9080000gn/T/https-arxiv-org-pdf-1610-02915v4-pdf.\n"
     ]
    },
    {
     "name": "stdout",
     "output_type": "stream",
     "text": [
      "275\n"
     ]
    },
    {
     "name": "stderr",
     "output_type": "stream",
     "text": [
      "2019-05-13 18:12:57,184 [MainThread  ] [INFO ]  Retrieving https://arxiv.org/pdf/1804.07888v2.pdf to /var/folders/1x/nph4r0452v1dk6t51bknf9080000gn/T/https-arxiv-org-pdf-1804-07888v2-pdf.\n"
     ]
    },
    {
     "name": "stdout",
     "output_type": "stream",
     "text": [
      "276\n"
     ]
    },
    {
     "name": "stderr",
     "output_type": "stream",
     "text": [
      "2019-05-13 18:12:59,157 [MainThread  ] [INFO ]  Retrieving https://arxiv.org/pdf/1707.04412v1.pdf to /var/folders/1x/nph4r0452v1dk6t51bknf9080000gn/T/https-arxiv-org-pdf-1707-04412v1-pdf.\n"
     ]
    },
    {
     "name": "stdout",
     "output_type": "stream",
     "text": [
      "277\n"
     ]
    },
    {
     "name": "stderr",
     "output_type": "stream",
     "text": [
      "2019-05-13 18:13:00,915 [MainThread  ] [INFO ]  Retrieving https://arxiv.org/pdf/1611.04361v1.pdf to /var/folders/1x/nph4r0452v1dk6t51bknf9080000gn/T/https-arxiv-org-pdf-1611-04361v1-pdf.\n"
     ]
    },
    {
     "name": "stdout",
     "output_type": "stream",
     "text": [
      "278\n"
     ]
    },
    {
     "name": "stderr",
     "output_type": "stream",
     "text": [
      "2019-05-13 18:13:02,751 [MainThread  ] [INFO ]  Retrieving https://arxiv.org/pdf/1706.02256v2.pdf to /var/folders/1x/nph4r0452v1dk6t51bknf9080000gn/T/https-arxiv-org-pdf-1706-02256v2-pdf.\n"
     ]
    },
    {
     "name": "stdout",
     "output_type": "stream",
     "text": [
      "279\n"
     ]
    },
    {
     "name": "stderr",
     "output_type": "stream",
     "text": [
      "2019-05-13 18:13:05,020 [MainThread  ] [INFO ]  Retrieving https://arxiv.org/pdf/1312.6229v4.pdf to /var/folders/1x/nph4r0452v1dk6t51bknf9080000gn/T/https-arxiv-org-pdf-1312-6229v4-pdf.\n"
     ]
    },
    {
     "name": "stdout",
     "output_type": "stream",
     "text": [
      "280\n"
     ]
    },
    {
     "name": "stderr",
     "output_type": "stream",
     "text": [
      "2019-05-13 18:13:08,257 [MainThread  ] [INFO ]  Retrieving https://arxiv.org/pdf/1805.01052v1.pdf to /var/folders/1x/nph4r0452v1dk6t51bknf9080000gn/T/https-arxiv-org-pdf-1805-01052v1-pdf.\n"
     ]
    },
    {
     "name": "stdout",
     "output_type": "stream",
     "text": [
      "281\n"
     ]
    },
    {
     "name": "stderr",
     "output_type": "stream",
     "text": [
      "2019-05-13 18:13:10,326 [MainThread  ] [INFO ]  Retrieving https://arxiv.org/pdf/1612.08185v4.pdf to /var/folders/1x/nph4r0452v1dk6t51bknf9080000gn/T/https-arxiv-org-pdf-1612-08185v4-pdf.\n"
     ]
    },
    {
     "name": "stdout",
     "output_type": "stream",
     "text": [
      "282\n"
     ]
    },
    {
     "name": "stderr",
     "output_type": "stream",
     "text": [
      "2019-05-13 18:13:13,686 [MainThread  ] [INFO ]  Retrieving https://arxiv.org/pdf/1406.7806v2.pdf to /var/folders/1x/nph4r0452v1dk6t51bknf9080000gn/T/https-arxiv-org-pdf-1406-7806v2-pdf.\n"
     ]
    },
    {
     "name": "stdout",
     "output_type": "stream",
     "text": [
      "283\n"
     ]
    },
    {
     "name": "stderr",
     "output_type": "stream",
     "text": [
      "2019-05-13 18:13:18,847 [MainThread  ] [INFO ]  Retrieving https://arxiv.org/pdf/1811.00960v1.pdf to /var/folders/1x/nph4r0452v1dk6t51bknf9080000gn/T/https-arxiv-org-pdf-1811-00960v1-pdf.\n"
     ]
    },
    {
     "name": "stdout",
     "output_type": "stream",
     "text": [
      "284\n"
     ]
    },
    {
     "name": "stderr",
     "output_type": "stream",
     "text": [
      "2019-05-13 18:13:21,141 [MainThread  ] [INFO ]  Retrieving https://arxiv.org/pdf/1803.06524v2.pdf to /var/folders/1x/nph4r0452v1dk6t51bknf9080000gn/T/https-arxiv-org-pdf-1803-06524v2-pdf.\n"
     ]
    },
    {
     "name": "stdout",
     "output_type": "stream",
     "text": [
      "285\n"
     ]
    },
    {
     "name": "stderr",
     "output_type": "stream",
     "text": [
      "2019-05-13 18:13:28,624 [MainThread  ] [INFO ]  Retrieving https://arxiv.org/pdf/1604.08772v1.pdf to /var/folders/1x/nph4r0452v1dk6t51bknf9080000gn/T/https-arxiv-org-pdf-1604-08772v1-pdf.\n"
     ]
    },
    {
     "name": "stdout",
     "output_type": "stream",
     "text": [
      "286\n"
     ]
    },
    {
     "name": "stderr",
     "output_type": "stream",
     "text": [
      "2019-05-13 18:13:39,541 [MainThread  ] [INFO ]  Retrieving https://arxiv.org/pdf/1603.00223v2.pdf to /var/folders/1x/nph4r0452v1dk6t51bknf9080000gn/T/https-arxiv-org-pdf-1603-00223v2-pdf.\n"
     ]
    },
    {
     "name": "stdout",
     "output_type": "stream",
     "text": [
      "287\n"
     ]
    },
    {
     "name": "stderr",
     "output_type": "stream",
     "text": [
      "2019-05-13 18:13:41,531 [MainThread  ] [INFO ]  Retrieving https://arxiv.org/pdf/1707.06642v2.pdf to /var/folders/1x/nph4r0452v1dk6t51bknf9080000gn/T/https-arxiv-org-pdf-1707-06642v2-pdf.\n"
     ]
    },
    {
     "name": "stdout",
     "output_type": "stream",
     "text": [
      "288\n"
     ]
    },
    {
     "name": "stderr",
     "output_type": "stream",
     "text": [
      "2019-05-13 18:13:55,967 [MainThread  ] [INFO ]  Retrieving https://arxiv.org/pdf/1903.10128v1.pdf to /var/folders/1x/nph4r0452v1dk6t51bknf9080000gn/T/https-arxiv-org-pdf-1903-10128v1-pdf.\n"
     ]
    },
    {
     "name": "stdout",
     "output_type": "stream",
     "text": [
      "289\n"
     ]
    },
    {
     "name": "stderr",
     "output_type": "stream",
     "text": [
      "2019-05-13 18:14:32,544 [MainThread  ] [INFO ]  Retrieving https://arxiv.org/pdf/1709.04329v1.pdf to /var/folders/1x/nph4r0452v1dk6t51bknf9080000gn/T/https-arxiv-org-pdf-1709-04329v1-pdf.\n"
     ]
    },
    {
     "name": "stdout",
     "output_type": "stream",
     "text": [
      "290\n"
     ]
    },
    {
     "name": "stderr",
     "output_type": "stream",
     "text": [
      "2019-05-13 18:14:38,735 [MainThread  ] [INFO ]  Retrieving https://arxiv.org/pdf/1607.04492v2.pdf to /var/folders/1x/nph4r0452v1dk6t51bknf9080000gn/T/https-arxiv-org-pdf-1607-04492v2-pdf.\n"
     ]
    },
    {
     "name": "stdout",
     "output_type": "stream",
     "text": [
      "291\n"
     ]
    },
    {
     "name": "stderr",
     "output_type": "stream",
     "text": [
      "2019-05-13 18:14:40,759 [MainThread  ] [INFO ]  Retrieving https://arxiv.org/pdf/1810.01808v1.pdf to /var/folders/1x/nph4r0452v1dk6t51bknf9080000gn/T/https-arxiv-org-pdf-1810-01808v1-pdf.\n"
     ]
    },
    {
     "name": "stdout",
     "output_type": "stream",
     "text": [
      "292\n"
     ]
    },
    {
     "name": "stderr",
     "output_type": "stream",
     "text": [
      "2019-05-13 18:14:42,695 [MainThread  ] [INFO ]  Retrieving https://arxiv.org/pdf/1807.03955v2.pdf to /var/folders/1x/nph4r0452v1dk6t51bknf9080000gn/T/https-arxiv-org-pdf-1807-03955v2-pdf.\n"
     ]
    },
    {
     "name": "stdout",
     "output_type": "stream",
     "text": [
      "293\n"
     ]
    },
    {
     "name": "stderr",
     "output_type": "stream",
     "text": [
      "2019-05-13 18:14:44,617 [MainThread  ] [INFO ]  Retrieving https://arxiv.org/pdf/1805.09655v3.pdf to /var/folders/1x/nph4r0452v1dk6t51bknf9080000gn/T/https-arxiv-org-pdf-1805-09655v3-pdf.\n"
     ]
    },
    {
     "name": "stdout",
     "output_type": "stream",
     "text": [
      "294\n"
     ]
    },
    {
     "name": "stderr",
     "output_type": "stream",
     "text": [
      "2019-05-13 18:14:47,349 [MainThread  ] [INFO ]  Retrieving https://arxiv.org/pdf/1404.4326v1.pdf to /var/folders/1x/nph4r0452v1dk6t51bknf9080000gn/T/https-arxiv-org-pdf-1404-4326v1-pdf.\n"
     ]
    },
    {
     "name": "stdout",
     "output_type": "stream",
     "text": [
      "295\n"
     ]
    },
    {
     "name": "stderr",
     "output_type": "stream",
     "text": [
      "2019-05-13 18:14:49,594 [MainThread  ] [INFO ]  Retrieving https://arxiv.org/pdf/1511.05644v2.pdf to /var/folders/1x/nph4r0452v1dk6t51bknf9080000gn/T/https-arxiv-org-pdf-1511-05644v2-pdf.\n"
     ]
    },
    {
     "name": "stdout",
     "output_type": "stream",
     "text": [
      "296\n"
     ]
    },
    {
     "name": "stderr",
     "output_type": "stream",
     "text": [
      "2019-05-13 18:15:03,014 [MainThread  ] [INFO ]  Retrieving https://arxiv.org/pdf/1504.08083v2.pdf to /var/folders/1x/nph4r0452v1dk6t51bknf9080000gn/T/https-arxiv-org-pdf-1504-08083v2-pdf.\n"
     ]
    },
    {
     "name": "stdout",
     "output_type": "stream",
     "text": [
      "297\n"
     ]
    },
    {
     "name": "stderr",
     "output_type": "stream",
     "text": [
      "2019-05-13 18:15:05,563 [MainThread  ] [INFO ]  Retrieving https://arxiv.org/pdf/1811.03873v1.pdf to /var/folders/1x/nph4r0452v1dk6t51bknf9080000gn/T/https-arxiv-org-pdf-1811-03873v1-pdf.\n"
     ]
    },
    {
     "name": "stdout",
     "output_type": "stream",
     "text": [
      "298\n"
     ]
    },
    {
     "name": "stderr",
     "output_type": "stream",
     "text": [
      "2019-05-13 18:15:09,676 [MainThread  ] [INFO ]  Retrieving https://arxiv.org/pdf/1409.7495v2.pdf to /var/folders/1x/nph4r0452v1dk6t51bknf9080000gn/T/https-arxiv-org-pdf-1409-7495v2-pdf.\n"
     ]
    },
    {
     "name": "stdout",
     "output_type": "stream",
     "text": [
      "299\n"
     ]
    },
    {
     "name": "stderr",
     "output_type": "stream",
     "text": [
      "2019-05-13 18:15:16,935 [MainThread  ] [INFO ]  Retrieving https://arxiv.org/pdf/1706.08090v1.pdf to /var/folders/1x/nph4r0452v1dk6t51bknf9080000gn/T/https-arxiv-org-pdf-1706-08090v1-pdf.\n"
     ]
    },
    {
     "name": "stdout",
     "output_type": "stream",
     "text": [
      "300\n"
     ]
    },
    {
     "name": "stderr",
     "output_type": "stream",
     "text": [
      "2019-05-13 18:15:19,040 [MainThread  ] [INFO ]  Retrieving https://arxiv.org/pdf/1702.05693v1.pdf to /var/folders/1x/nph4r0452v1dk6t51bknf9080000gn/T/https-arxiv-org-pdf-1702-05693v1-pdf.\n"
     ]
    },
    {
     "name": "stdout",
     "output_type": "stream",
     "text": [
      "301\n"
     ]
    },
    {
     "name": "stderr",
     "output_type": "stream",
     "text": [
      "2019-05-13 18:15:34,647 [MainThread  ] [INFO ]  Retrieving https://arxiv.org/pdf/1805.10190v3.pdf to /var/folders/1x/nph4r0452v1dk6t51bknf9080000gn/T/https-arxiv-org-pdf-1805-10190v3-pdf.\n"
     ]
    },
    {
     "name": "stdout",
     "output_type": "stream",
     "text": [
      "302\n"
     ]
    },
    {
     "name": "stderr",
     "output_type": "stream",
     "text": [
      "2019-05-13 18:15:38,434 [MainThread  ] [INFO ]  Retrieving https://arxiv.org/pdf/1709.02755v5.pdf to /var/folders/1x/nph4r0452v1dk6t51bknf9080000gn/T/https-arxiv-org-pdf-1709-02755v5-pdf.\n"
     ]
    },
    {
     "name": "stdout",
     "output_type": "stream",
     "text": [
      "303\n"
     ]
    },
    {
     "name": "stderr",
     "output_type": "stream",
     "text": [
      "2019-05-13 18:15:41,339 [MainThread  ] [INFO ]  Retrieving https://arxiv.org/pdf/1507.02672v2.pdf to /var/folders/1x/nph4r0452v1dk6t51bknf9080000gn/T/https-arxiv-org-pdf-1507-02672v2-pdf.\n"
     ]
    },
    {
     "name": "stdout",
     "output_type": "stream",
     "text": [
      "304\n"
     ]
    },
    {
     "name": "stderr",
     "output_type": "stream",
     "text": [
      "2019-05-13 18:15:43,829 [MainThread  ] [INFO ]  Retrieving https://www.sciencedirect.com/science/article/pii/S0198971512000543/pdfft?md5=94446acd89554d6c2de6789dbdf8ad3f&pid=1-s2.0-S0198971512000543-main.pdf to /var/folders/1x/nph4r0452v1dk6t51bknf9080000gn/T/https-www-sciencedirect-com-science-article-pii-s0198971512000543-pdfft-md5-94446acd89554d6c2de6789dbdf8ad3f-pid-1-s2-0-s0198971512000543-main-pdf.\n"
     ]
    },
    {
     "name": "stdout",
     "output_type": "stream",
     "text": [
      "305\n"
     ]
    },
    {
     "name": "stderr",
     "output_type": "stream",
     "text": [
      "2019-05-13 18:15:44,570 [MainThread  ] [INFO ]  Retrieving https://www.aaai.org/ocs/index.php/AAAI/AAAI18/paper/view/16541/16152 to /var/folders/1x/nph4r0452v1dk6t51bknf9080000gn/T/https-www-aaai-org-ocs-index-php-aaai-aaai18-paper-view-16541-16152.\n"
     ]
    },
    {
     "name": "stdout",
     "output_type": "stream",
     "text": [
      "306\n"
     ]
    },
    {
     "name": "stderr",
     "output_type": "stream",
     "text": [
      "2019-05-13 18:15:45,831 [MainThread  ] [INFO ]  Retrieving https://arxiv.org/pdf/1711.02132v1.pdf to /var/folders/1x/nph4r0452v1dk6t51bknf9080000gn/T/https-arxiv-org-pdf-1711-02132v1-pdf.\n"
     ]
    },
    {
     "name": "stdout",
     "output_type": "stream",
     "text": [
      "307\n"
     ]
    },
    {
     "name": "stderr",
     "output_type": "stream",
     "text": [
      "2019-05-13 18:15:48,517 [MainThread  ] [INFO ]  Retrieving https://arxiv.org/pdf/1711.00106v2.pdf to /var/folders/1x/nph4r0452v1dk6t51bknf9080000gn/T/https-arxiv-org-pdf-1711-00106v2-pdf.\n"
     ]
    },
    {
     "name": "stdout",
     "output_type": "stream",
     "text": [
      "308\n"
     ]
    },
    {
     "name": "stderr",
     "output_type": "stream",
     "text": [
      "2019-05-13 18:15:50,741 [MainThread  ] [INFO ]  Retrieving https://arxiv.org/pdf/1612.04426v1.pdf to /var/folders/1x/nph4r0452v1dk6t51bknf9080000gn/T/https-arxiv-org-pdf-1612-04426v1-pdf.\n"
     ]
    },
    {
     "name": "stdout",
     "output_type": "stream",
     "text": [
      "309\n"
     ]
    },
    {
     "name": "stderr",
     "output_type": "stream",
     "text": [
      "2019-05-13 18:15:53,211 [MainThread  ] [INFO ]  Retrieving https://arxiv.org/pdf/1606.02147v1.pdf to /var/folders/1x/nph4r0452v1dk6t51bknf9080000gn/T/https-arxiv-org-pdf-1606-02147v1-pdf.\n"
     ]
    },
    {
     "name": "stdout",
     "output_type": "stream",
     "text": [
      "310\n"
     ]
    },
    {
     "name": "stderr",
     "output_type": "stream",
     "text": [
      "2019-05-13 18:16:00,511 [MainThread  ] [INFO ]  Retrieving https://arxiv.org/pdf/1810.09311v1.pdf to /var/folders/1x/nph4r0452v1dk6t51bknf9080000gn/T/https-arxiv-org-pdf-1810-09311v1-pdf.\n"
     ]
    },
    {
     "name": "stdout",
     "output_type": "stream",
     "text": [
      "311\n"
     ]
    },
    {
     "name": "stderr",
     "output_type": "stream",
     "text": [
      "2019-05-13 18:16:02,740 [MainThread  ] [INFO ]  Retrieving https://arxiv.org/pdf/1803.06459v1.pdf to /var/folders/1x/nph4r0452v1dk6t51bknf9080000gn/T/https-arxiv-org-pdf-1803-06459v1-pdf.\n"
     ]
    },
    {
     "name": "stdout",
     "output_type": "stream",
     "text": [
      "312\n"
     ]
    },
    {
     "name": "stderr",
     "output_type": "stream",
     "text": [
      "2019-05-13 18:16:05,091 [MainThread  ] [INFO ]  Retrieving https://arxiv.org/pdf/1810.12563v1.pdf to /var/folders/1x/nph4r0452v1dk6t51bknf9080000gn/T/https-arxiv-org-pdf-1810-12563v1-pdf.\n"
     ]
    },
    {
     "name": "stdout",
     "output_type": "stream",
     "text": [
      "313\n"
     ]
    },
    {
     "name": "stderr",
     "output_type": "stream",
     "text": [
      "2019-05-13 18:16:07,655 [MainThread  ] [INFO ]  Retrieving https://openreview.net/pdf?id=BJgrxbqp67 to /var/folders/1x/nph4r0452v1dk6t51bknf9080000gn/T/https-openreview-net-pdf-id-bjgrxbqp67.\n"
     ]
    },
    {
     "name": "stdout",
     "output_type": "stream",
     "text": [
      "314\n"
     ]
    },
    {
     "name": "stderr",
     "output_type": "stream",
     "text": [
      "2019-05-13 18:16:08,774 [MainThread  ] [INFO ]  Retrieving https://aclweb.org/anthology/C16-1116 to /var/folders/1x/nph4r0452v1dk6t51bknf9080000gn/T/https-aclweb-org-anthology-c16-1116.\n"
     ]
    },
    {
     "name": "stdout",
     "output_type": "stream",
     "text": [
      "315\n"
     ]
    },
    {
     "name": "stderr",
     "output_type": "stream",
     "text": [
      "2019-05-13 18:16:10,371 [MainThread  ] [INFO ]  Retrieving https://arxiv.org/pdf/1606.02891v2.pdf to /var/folders/1x/nph4r0452v1dk6t51bknf9080000gn/T/https-arxiv-org-pdf-1606-02891v2-pdf.\n"
     ]
    },
    {
     "name": "stdout",
     "output_type": "stream",
     "text": [
      "316\n"
     ]
    },
    {
     "name": "stderr",
     "output_type": "stream",
     "text": [
      "2019-05-13 18:16:11,655 [MainThread  ] [INFO ]  Retrieving https://arxiv.org/pdf/1803.11175v2.pdf to /var/folders/1x/nph4r0452v1dk6t51bknf9080000gn/T/https-arxiv-org-pdf-1803-11175v2-pdf.\n"
     ]
    },
    {
     "name": "stdout",
     "output_type": "stream",
     "text": [
      "317\n"
     ]
    },
    {
     "name": "stderr",
     "output_type": "stream",
     "text": [
      "2019-05-13 18:16:13,943 [MainThread  ] [INFO ]  Retrieving https://arxiv.org/pdf/1802.02550v7.pdf to /var/folders/1x/nph4r0452v1dk6t51bknf9080000gn/T/https-arxiv-org-pdf-1802-02550v7-pdf.\n"
     ]
    },
    {
     "name": "stdout",
     "output_type": "stream",
     "text": [
      "318\n"
     ]
    },
    {
     "name": "stderr",
     "output_type": "stream",
     "text": [
      "2019-05-13 18:16:17,841 [MainThread  ] [INFO ]  Retrieving https://arxiv.org/pdf/1511.02853v4.pdf to /var/folders/1x/nph4r0452v1dk6t51bknf9080000gn/T/https-arxiv-org-pdf-1511-02853v4-pdf.\n"
     ]
    },
    {
     "name": "stdout",
     "output_type": "stream",
     "text": [
      "319\n"
     ]
    },
    {
     "name": "stderr",
     "output_type": "stream",
     "text": [
      "2019-05-13 18:16:23,496 [MainThread  ] [INFO ]  Retrieving https://arxiv.org/pdf/1505.00393v3.pdf to /var/folders/1x/nph4r0452v1dk6t51bknf9080000gn/T/https-arxiv-org-pdf-1505-00393v3-pdf.\n"
     ]
    },
    {
     "name": "stdout",
     "output_type": "stream",
     "text": [
      "320\n"
     ]
    },
    {
     "name": "stderr",
     "output_type": "stream",
     "text": [
      "2019-05-13 18:16:26,638 [MainThread  ] [INFO ]  Retrieving https://arxiv.org/pdf/1904.12848.pdf to /var/folders/1x/nph4r0452v1dk6t51bknf9080000gn/T/https-arxiv-org-pdf-1904-12848-pdf.\n"
     ]
    },
    {
     "name": "stdout",
     "output_type": "stream",
     "text": [
      "321\n"
     ]
    },
    {
     "name": "stderr",
     "output_type": "stream",
     "text": [
      "2019-05-13 18:16:28,505 [MainThread  ] [INFO ]  Retrieving https://arxiv.org/pdf/1702.02447v2.pdf to /var/folders/1x/nph4r0452v1dk6t51bknf9080000gn/T/https-arxiv-org-pdf-1702-02447v2-pdf.\n"
     ]
    },
    {
     "name": "stdout",
     "output_type": "stream",
     "text": [
      "322\n"
     ]
    },
    {
     "name": "stderr",
     "output_type": "stream",
     "text": [
      "2019-05-13 18:16:31,527 [MainThread  ] [INFO ]  Retrieving https://aclweb.org/anthology/C18-1280 to /var/folders/1x/nph4r0452v1dk6t51bknf9080000gn/T/https-aclweb-org-anthology-c18-1280.\n"
     ]
    },
    {
     "name": "stdout",
     "output_type": "stream",
     "text": [
      "323\n"
     ]
    },
    {
     "name": "stderr",
     "output_type": "stream",
     "text": [
      "2019-05-13 18:16:33,452 [MainThread  ] [INFO ]  Retrieving https://arxiv.org/pdf/1810.12703v1.pdf to /var/folders/1x/nph4r0452v1dk6t51bknf9080000gn/T/https-arxiv-org-pdf-1810-12703v1-pdf.\n"
     ]
    },
    {
     "name": "stdout",
     "output_type": "stream",
     "text": [
      "324\n"
     ]
    },
    {
     "name": "stderr",
     "output_type": "stream",
     "text": [
      "2019-05-13 18:16:35,413 [MainThread  ] [INFO ]  Retrieving https://arxiv.org/pdf/1811.09386v1.pdf to /var/folders/1x/nph4r0452v1dk6t51bknf9080000gn/T/https-arxiv-org-pdf-1811-09386v1-pdf.\n"
     ]
    },
    {
     "name": "stdout",
     "output_type": "stream",
     "text": [
      "325\n"
     ]
    },
    {
     "name": "stderr",
     "output_type": "stream",
     "text": [
      "2019-05-13 18:16:38,045 [MainThread  ] [INFO ]  Retrieving https://papers.nips.cc/paper/5086-multi-task-bayesian-optimization.pdf to /var/folders/1x/nph4r0452v1dk6t51bknf9080000gn/T/https-papers-nips-cc-paper-5086-multi-task-bayesian-optimization-pdf.\n"
     ]
    },
    {
     "name": "stdout",
     "output_type": "stream",
     "text": [
      "326\n"
     ]
    },
    {
     "name": "stderr",
     "output_type": "stream",
     "text": [
      "2019-05-13 18:16:39,900 [MainThread  ] [INFO ]  Retrieving https://arxiv.org/pdf/1901.10430v2.pdf to /var/folders/1x/nph4r0452v1dk6t51bknf9080000gn/T/https-arxiv-org-pdf-1901-10430v2-pdf.\n"
     ]
    },
    {
     "name": "stdout",
     "output_type": "stream",
     "text": [
      "327\n"
     ]
    },
    {
     "name": "stderr",
     "output_type": "stream",
     "text": [
      "2019-05-13 18:16:42,291 [MainThread  ] [INFO ]  Retrieving https://arxiv.org/pdf/1711.06897v3.pdf to /var/folders/1x/nph4r0452v1dk6t51bknf9080000gn/T/https-arxiv-org-pdf-1711-06897v3-pdf.\n"
     ]
    },
    {
     "name": "stdout",
     "output_type": "stream",
     "text": [
      "328\n"
     ]
    },
    {
     "name": "stderr",
     "output_type": "stream",
     "text": [
      "2019-05-13 18:16:50,360 [MainThread  ] [INFO ]  Retrieving https://arxiv.org/pdf/1803.08999v1.pdf to /var/folders/1x/nph4r0452v1dk6t51bknf9080000gn/T/https-arxiv-org-pdf-1803-08999v1-pdf.\n"
     ]
    },
    {
     "name": "stdout",
     "output_type": "stream",
     "text": [
      "329\n"
     ]
    },
    {
     "name": "stderr",
     "output_type": "stream",
     "text": [
      "2019-05-13 18:17:04,478 [MainThread  ] [INFO ]  Retrieving https://arxiv.org/pdf/1703.01290v1.pdf to /var/folders/1x/nph4r0452v1dk6t51bknf9080000gn/T/https-arxiv-org-pdf-1703-01290v1-pdf.\n"
     ]
    },
    {
     "name": "stdout",
     "output_type": "stream",
     "text": [
      "330\n"
     ]
    },
    {
     "name": "stderr",
     "output_type": "stream",
     "text": [
      "2019-05-13 18:17:10,481 [MainThread  ] [INFO ]  Retrieving https://aclweb.org/anthology/D17-1108 to /var/folders/1x/nph4r0452v1dk6t51bknf9080000gn/T/https-aclweb-org-anthology-d17-1108.\n"
     ]
    },
    {
     "name": "stdout",
     "output_type": "stream",
     "text": [
      "331\n"
     ]
    },
    {
     "name": "stderr",
     "output_type": "stream",
     "text": [
      "2019-05-13 18:17:12,104 [MainThread  ] [INFO ]  Retrieving https://arxiv.org/pdf/1803.09331v2.pdf to /var/folders/1x/nph4r0452v1dk6t51bknf9080000gn/T/https-arxiv-org-pdf-1803-09331v2-pdf.\n"
     ]
    },
    {
     "name": "stdout",
     "output_type": "stream",
     "text": [
      "332\n"
     ]
    },
    {
     "name": "stderr",
     "output_type": "stream",
     "text": [
      "2019-05-13 18:17:22,195 [MainThread  ] [INFO ]  Retrieving https://arxiv.org/pdf/1710.09537v1.pdf to /var/folders/1x/nph4r0452v1dk6t51bknf9080000gn/T/https-arxiv-org-pdf-1710-09537v1-pdf.\n"
     ]
    },
    {
     "name": "stdout",
     "output_type": "stream",
     "text": [
      "333\n"
     ]
    },
    {
     "name": "stderr",
     "output_type": "stream",
     "text": [
      "2019-05-13 18:17:25,267 [MainThread  ] [INFO ]  Retrieving https://arxiv.org/pdf/1706.05587v3.pdf to /var/folders/1x/nph4r0452v1dk6t51bknf9080000gn/T/https-arxiv-org-pdf-1706-05587v3-pdf.\n"
     ]
    },
    {
     "name": "stdout",
     "output_type": "stream",
     "text": [
      "334\n"
     ]
    },
    {
     "name": "stderr",
     "output_type": "stream",
     "text": [
      "2019-05-13 18:17:31,636 [MainThread  ] [INFO ]  Retrieving https://arxiv.org/pdf/1802.05591v1.pdf to /var/folders/1x/nph4r0452v1dk6t51bknf9080000gn/T/https-arxiv-org-pdf-1802-05591v1-pdf.\n"
     ]
    },
    {
     "name": "stdout",
     "output_type": "stream",
     "text": [
      "335\n"
     ]
    },
    {
     "name": "stderr",
     "output_type": "stream",
     "text": [
      "2019-05-13 18:17:36,502 [MainThread  ] [INFO ]  Retrieving https://arxiv.org/pdf/1612.00606v1.pdf to /var/folders/1x/nph4r0452v1dk6t51bknf9080000gn/T/https-arxiv-org-pdf-1612-00606v1-pdf.\n"
     ]
    },
    {
     "name": "stdout",
     "output_type": "stream",
     "text": [
      "336\n"
     ]
    },
    {
     "name": "stderr",
     "output_type": "stream",
     "text": [
      "2019-05-13 18:17:51,242 [MainThread  ] [INFO ]  Retrieving https://arxiv.org/pdf/1609.04331v1.pdf to /var/folders/1x/nph4r0452v1dk6t51bknf9080000gn/T/https-arxiv-org-pdf-1609-04331v1-pdf.\n"
     ]
    },
    {
     "name": "stdout",
     "output_type": "stream",
     "text": [
      "337\n"
     ]
    },
    {
     "name": "stderr",
     "output_type": "stream",
     "text": [
      "2019-05-13 18:17:59,889 [MainThread  ] [INFO ]  Retrieving https://arxiv.org/pdf/1807.07464v1.pdf to /var/folders/1x/nph4r0452v1dk6t51bknf9080000gn/T/https-arxiv-org-pdf-1807-07464v1-pdf.\n"
     ]
    },
    {
     "name": "stdout",
     "output_type": "stream",
     "text": [
      "338\n"
     ]
    },
    {
     "name": "stderr",
     "output_type": "stream",
     "text": [
      "2019-05-13 18:18:02,667 [MainThread  ] [INFO ]  Retrieving https://arxiv.org/pdf/1903.02271v1.pdf to /var/folders/1x/nph4r0452v1dk6t51bknf9080000gn/T/https-arxiv-org-pdf-1903-02271v1-pdf.\n"
     ]
    },
    {
     "name": "stdout",
     "output_type": "stream",
     "text": [
      "339\n"
     ]
    },
    {
     "name": "stderr",
     "output_type": "stream",
     "text": [
      "2019-05-13 18:18:21,766 [MainThread  ] [INFO ]  Retrieving https://arxiv.org/pdf/1803.02735v1.pdf to /var/folders/1x/nph4r0452v1dk6t51bknf9080000gn/T/https-arxiv-org-pdf-1803-02735v1-pdf.\n"
     ]
    },
    {
     "name": "stdout",
     "output_type": "stream",
     "text": [
      "340\n"
     ]
    },
    {
     "name": "stderr",
     "output_type": "stream",
     "text": [
      "2019-05-13 18:18:35,754 [MainThread  ] [INFO ]  Retrieving https://arxiv.org/pdf/1805.07071v2.pdf to /var/folders/1x/nph4r0452v1dk6t51bknf9080000gn/T/https-arxiv-org-pdf-1805-07071v2-pdf.\n"
     ]
    },
    {
     "name": "stdout",
     "output_type": "stream",
     "text": [
      "341\n"
     ]
    },
    {
     "name": "stderr",
     "output_type": "stream",
     "text": [
      "2019-05-13 18:18:46,383 [MainThread  ] [INFO ]  Retrieving https://arxiv.org/pdf/1610.08613v2.pdf to /var/folders/1x/nph4r0452v1dk6t51bknf9080000gn/T/https-arxiv-org-pdf-1610-08613v2-pdf.\n"
     ]
    },
    {
     "name": "stdout",
     "output_type": "stream",
     "text": [
      "342\n"
     ]
    },
    {
     "name": "stderr",
     "output_type": "stream",
     "text": [
      "2019-05-13 18:18:48,081 [MainThread  ] [INFO ]  Retrieving https://arxiv.org/pdf/1706.02263v2.pdf to /var/folders/1x/nph4r0452v1dk6t51bknf9080000gn/T/https-arxiv-org-pdf-1706-02263v2-pdf.\n"
     ]
    },
    {
     "name": "stdout",
     "output_type": "stream",
     "text": [
      "343\n"
     ]
    },
    {
     "name": "stderr",
     "output_type": "stream",
     "text": [
      "2019-05-13 18:18:50,646 [MainThread  ] [INFO ]  Retrieving https://arxiv.org/pdf/1612.02287v3.pdf to /var/folders/1x/nph4r0452v1dk6t51bknf9080000gn/T/https-arxiv-org-pdf-1612-02287v3-pdf.\n"
     ]
    },
    {
     "name": "stdout",
     "output_type": "stream",
     "text": [
      "344\n"
     ]
    },
    {
     "name": "stderr",
     "output_type": "stream",
     "text": [
      "2019-05-13 18:18:56,587 [MainThread  ] [INFO ]  Retrieving https://arxiv.org/pdf/1411.6067v2.pdf to /var/folders/1x/nph4r0452v1dk6t51bknf9080000gn/T/https-arxiv-org-pdf-1411-6067v2-pdf.\n"
     ]
    },
    {
     "name": "stdout",
     "output_type": "stream",
     "text": [
      "345\n"
     ]
    },
    {
     "name": "stderr",
     "output_type": "stream",
     "text": [
      "2019-05-13 18:19:10,407 [MainThread  ] [INFO ]  Retrieving https://arxiv.org/pdf/1808.08644v1.pdf to /var/folders/1x/nph4r0452v1dk6t51bknf9080000gn/T/https-arxiv-org-pdf-1808-08644v1-pdf.\n"
     ]
    },
    {
     "name": "stdout",
     "output_type": "stream",
     "text": [
      "346\n"
     ]
    },
    {
     "name": "stderr",
     "output_type": "stream",
     "text": [
      "2019-05-13 18:19:12,026 [MainThread  ] [INFO ]  Retrieving https://arxiv.org/pdf/1903.08094v2.pdf to /var/folders/1x/nph4r0452v1dk6t51bknf9080000gn/T/https-arxiv-org-pdf-1903-08094v2-pdf.\n"
     ]
    },
    {
     "name": "stdout",
     "output_type": "stream",
     "text": [
      "347\n"
     ]
    },
    {
     "name": "stderr",
     "output_type": "stream",
     "text": [
      "2019-05-13 18:19:29,594 [MainThread  ] [INFO ]  Retrieving https://arxiv.org/pdf/1811.11374v1.pdf to /var/folders/1x/nph4r0452v1dk6t51bknf9080000gn/T/https-arxiv-org-pdf-1811-11374v1-pdf.\n"
     ]
    },
    {
     "name": "stdout",
     "output_type": "stream",
     "text": [
      "348\n"
     ]
    },
    {
     "name": "stderr",
     "output_type": "stream",
     "text": [
      "2019-05-13 18:19:32,943 [MainThread  ] [INFO ]  Retrieving https://arxiv.org/pdf/1703.01780v6.pdf to /var/folders/1x/nph4r0452v1dk6t51bknf9080000gn/T/https-arxiv-org-pdf-1703-01780v6-pdf.\n"
     ]
    },
    {
     "name": "stdout",
     "output_type": "stream",
     "text": [
      "349\n"
     ]
    },
    {
     "name": "stderr",
     "output_type": "stream",
     "text": [
      "2019-05-13 18:19:35,830 [MainThread  ] [INFO ]  Retrieving https://arxiv.org/pdf/1810.11408v2.pdf to /var/folders/1x/nph4r0452v1dk6t51bknf9080000gn/T/https-arxiv-org-pdf-1810-11408v2-pdf.\n"
     ]
    },
    {
     "name": "stdout",
     "output_type": "stream",
     "text": [
      "350\n"
     ]
    },
    {
     "name": "stderr",
     "output_type": "stream",
     "text": [
      "2019-05-13 18:19:39,068 [MainThread  ] [INFO ]  Retrieving https://aclweb.org/anthology/C18-1096 to /var/folders/1x/nph4r0452v1dk6t51bknf9080000gn/T/https-aclweb-org-anthology-c18-1096.\n"
     ]
    },
    {
     "name": "stdout",
     "output_type": "stream",
     "text": [
      "351\n"
     ]
    },
    {
     "name": "stderr",
     "output_type": "stream",
     "text": [
      "2019-05-13 18:19:41,351 [MainThread  ] [INFO ]  Retrieving https://arxiv.org/pdf/1511.05234v2.pdf to /var/folders/1x/nph4r0452v1dk6t51bknf9080000gn/T/https-arxiv-org-pdf-1511-05234v2-pdf.\n"
     ]
    },
    {
     "name": "stdout",
     "output_type": "stream",
     "text": [
      "352\n"
     ]
    },
    {
     "name": "stderr",
     "output_type": "stream",
     "text": [
      "2019-05-13 18:19:51,829 [MainThread  ] [INFO ]  Retrieving https://www.danielpovey.com/files/2016_interspeech_mmi.pdf to /var/folders/1x/nph4r0452v1dk6t51bknf9080000gn/T/https-www-danielpovey-com-files-2016_interspeech_mmi-pdf.\n"
     ]
    },
    {
     "name": "stdout",
     "output_type": "stream",
     "text": [
      "353\n"
     ]
    },
    {
     "name": "stderr",
     "output_type": "stream",
     "text": [
      "2019-05-13 18:19:52,164 [MainThread  ] [INFO ]  Retrieving https://arxiv.org/pdf/1810.07599v1.pdf to /var/folders/1x/nph4r0452v1dk6t51bknf9080000gn/T/https-arxiv-org-pdf-1810-07599v1-pdf.\n"
     ]
    },
    {
     "name": "stdout",
     "output_type": "stream",
     "text": [
      "354\n"
     ]
    },
    {
     "name": "stderr",
     "output_type": "stream",
     "text": [
      "2019-05-13 18:19:55,281 [MainThread  ] [INFO ]  Retrieving https://arxiv.org/pdf/1809.06079v1.pdf to /var/folders/1x/nph4r0452v1dk6t51bknf9080000gn/T/https-arxiv-org-pdf-1809-06079v1-pdf.\n"
     ]
    },
    {
     "name": "stdout",
     "output_type": "stream",
     "text": [
      "355\n"
     ]
    },
    {
     "name": "stderr",
     "output_type": "stream",
     "text": [
      "2019-05-13 18:19:57,041 [MainThread  ] [INFO ]  Retrieving https://arxiv.org/pdf/1802.10508v1.pdf to /var/folders/1x/nph4r0452v1dk6t51bknf9080000gn/T/https-arxiv-org-pdf-1802-10508v1-pdf.\n"
     ]
    },
    {
     "name": "stdout",
     "output_type": "stream",
     "text": [
      "356\n"
     ]
    },
    {
     "name": "stderr",
     "output_type": "stream",
     "text": [
      "2019-05-13 18:20:00,060 [MainThread  ] [INFO ]  Retrieving https://arxiv.org/pdf/1511.06645v2.pdf to /var/folders/1x/nph4r0452v1dk6t51bknf9080000gn/T/https-arxiv-org-pdf-1511-06645v2-pdf.\n"
     ]
    },
    {
     "name": "stdout",
     "output_type": "stream",
     "text": [
      "357\n"
     ]
    },
    {
     "name": "stderr",
     "output_type": "stream",
     "text": [
      "2019-05-13 18:20:11,861 [MainThread  ] [INFO ]  Retrieving https://arxiv.org/pdf/1703.06345v1.pdf to /var/folders/1x/nph4r0452v1dk6t51bknf9080000gn/T/https-arxiv-org-pdf-1703-06345v1-pdf.\n"
     ]
    },
    {
     "name": "stdout",
     "output_type": "stream",
     "text": [
      "358\n"
     ]
    },
    {
     "name": "stderr",
     "output_type": "stream",
     "text": [
      "2019-05-13 18:20:14,329 [MainThread  ] [INFO ]  Retrieving https://arxiv.org/pdf/1708.06519v1.pdf to /var/folders/1x/nph4r0452v1dk6t51bknf9080000gn/T/https-arxiv-org-pdf-1708-06519v1-pdf.\n"
     ]
    },
    {
     "name": "stdout",
     "output_type": "stream",
     "text": [
      "359\n"
     ]
    },
    {
     "name": "stderr",
     "output_type": "stream",
     "text": [
      "2019-05-13 18:20:17,823 [MainThread  ] [INFO ]  Retrieving https://arxiv.org/pdf/1312.3005v3.pdf to /var/folders/1x/nph4r0452v1dk6t51bknf9080000gn/T/https-arxiv-org-pdf-1312-3005v3-pdf.\n"
     ]
    },
    {
     "name": "stdout",
     "output_type": "stream",
     "text": [
      "360\n"
     ]
    },
    {
     "name": "stderr",
     "output_type": "stream",
     "text": [
      "2019-05-13 18:20:19,999 [MainThread  ] [INFO ]  Retrieving https://arxiv.org/pdf/1612.07828v2.pdf to /var/folders/1x/nph4r0452v1dk6t51bknf9080000gn/T/https-arxiv-org-pdf-1612-07828v2-pdf.\n"
     ]
    },
    {
     "name": "stdout",
     "output_type": "stream",
     "text": [
      "361\n"
     ]
    },
    {
     "name": "stderr",
     "output_type": "stream",
     "text": [
      "2019-05-13 18:20:24,155 [MainThread  ] [INFO ]  Retrieving https://arxiv.org/pdf/1805.07036v1.pdf to /var/folders/1x/nph4r0452v1dk6t51bknf9080000gn/T/https-arxiv-org-pdf-1805-07036v1-pdf.\n"
     ]
    },
    {
     "name": "stdout",
     "output_type": "stream",
     "text": [
      "362\n"
     ]
    },
    {
     "ename": "KeyboardInterrupt",
     "evalue": "",
     "output_type": "error",
     "traceback": [
      "\u001b[0;31m---------------------------------------------------------------------------\u001b[0m",
      "\u001b[0;31mKeyboardInterrupt\u001b[0m                         Traceback (most recent call last)",
      "\u001b[0;32m<ipython-input-29-6a2702702e08>\u001b[0m in \u001b[0;36m<module>\u001b[0;34m()\u001b[0m\n\u001b[1;32m     15\u001b[0m \u001b[0;34m\u001b[0m\u001b[0m\n\u001b[1;32m     16\u001b[0m         \u001b[0;31m# parses the paper from the url\u001b[0m\u001b[0;34m\u001b[0m\u001b[0;34m\u001b[0m\u001b[0m\n\u001b[0;32m---> 17\u001b[0;31m         \u001b[0mpaper\u001b[0m \u001b[0;34m=\u001b[0m \u001b[0mparser\u001b[0m\u001b[0;34m.\u001b[0m\u001b[0mfrom_file\u001b[0m\u001b[0;34m(\u001b[0m\u001b[0mpaper_urls\u001b[0m\u001b[0;34m.\u001b[0m\u001b[0miloc\u001b[0m\u001b[0;34m[\u001b[0m\u001b[0mi\u001b[0m\u001b[0;34m]\u001b[0m\u001b[0;34m[\u001b[0m\u001b[0;36m1\u001b[0m\u001b[0;34m]\u001b[0m\u001b[0;34m)\u001b[0m\u001b[0;34m\u001b[0m\u001b[0m\n\u001b[0m\u001b[1;32m     18\u001b[0m \u001b[0;34m\u001b[0m\u001b[0m\n\u001b[1;32m     19\u001b[0m         \u001b[0;31m# extracts the content from the paper\u001b[0m\u001b[0;34m\u001b[0m\u001b[0;34m\u001b[0m\u001b[0m\n",
      "\u001b[0;32m/Library/Frameworks/Python.framework/Versions/3.6/lib/python3.6/site-packages/tika/parser.py\u001b[0m in \u001b[0;36mfrom_file\u001b[0;34m(filename, serverEndpoint, xmlContent, headers, config_path)\u001b[0m\n\u001b[1;32m     34\u001b[0m     '''\n\u001b[1;32m     35\u001b[0m     \u001b[0;32mif\u001b[0m \u001b[0;32mnot\u001b[0m \u001b[0mxmlContent\u001b[0m\u001b[0;34m:\u001b[0m\u001b[0;34m\u001b[0m\u001b[0m\n\u001b[0;32m---> 36\u001b[0;31m         \u001b[0mjsonOutput\u001b[0m \u001b[0;34m=\u001b[0m \u001b[0mparse1\u001b[0m\u001b[0;34m(\u001b[0m\u001b[0;34m'all'\u001b[0m\u001b[0;34m,\u001b[0m \u001b[0mfilename\u001b[0m\u001b[0;34m,\u001b[0m \u001b[0mserverEndpoint\u001b[0m\u001b[0;34m,\u001b[0m \u001b[0mheaders\u001b[0m\u001b[0;34m=\u001b[0m\u001b[0mheaders\u001b[0m\u001b[0;34m,\u001b[0m \u001b[0mconfig_path\u001b[0m\u001b[0;34m=\u001b[0m\u001b[0mconfig_path\u001b[0m\u001b[0;34m)\u001b[0m\u001b[0;34m\u001b[0m\u001b[0m\n\u001b[0m\u001b[1;32m     37\u001b[0m     \u001b[0;32melse\u001b[0m\u001b[0;34m:\u001b[0m\u001b[0;34m\u001b[0m\u001b[0m\n\u001b[1;32m     38\u001b[0m         jsonOutput = parse1('all', filename, serverEndpoint, services={'meta': '/meta', 'text': '/tika', 'all': '/rmeta/xml'},\n",
      "\u001b[0;32m/Library/Frameworks/Python.framework/Versions/3.6/lib/python3.6/site-packages/tika/tika.py\u001b[0m in \u001b[0;36mparse1\u001b[0;34m(option, urlOrPath, serverEndpoint, verbose, tikaServerJar, responseMimeType, services, rawResponse, headers, config_path)\u001b[0m\n\u001b[1;32m    318\u001b[0m     \u001b[0mheaders\u001b[0m \u001b[0;34m=\u001b[0m \u001b[0mheaders\u001b[0m \u001b[0;32mor\u001b[0m \u001b[0;34m{\u001b[0m\u001b[0;34m}\u001b[0m\u001b[0;34m\u001b[0m\u001b[0m\n\u001b[1;32m    319\u001b[0m \u001b[0;34m\u001b[0m\u001b[0m\n\u001b[0;32m--> 320\u001b[0;31m     \u001b[0mpath\u001b[0m\u001b[0;34m,\u001b[0m \u001b[0mfile_type\u001b[0m \u001b[0;34m=\u001b[0m \u001b[0mgetRemoteFile\u001b[0m\u001b[0;34m(\u001b[0m\u001b[0murlOrPath\u001b[0m\u001b[0;34m,\u001b[0m \u001b[0mTikaFilesPath\u001b[0m\u001b[0;34m)\u001b[0m\u001b[0;34m\u001b[0m\u001b[0m\n\u001b[0m\u001b[1;32m    321\u001b[0m     \u001b[0mheaders\u001b[0m\u001b[0;34m.\u001b[0m\u001b[0mupdate\u001b[0m\u001b[0;34m(\u001b[0m\u001b[0;34m{\u001b[0m\u001b[0;34m'Accept'\u001b[0m\u001b[0;34m:\u001b[0m \u001b[0mresponseMimeType\u001b[0m\u001b[0;34m,\u001b[0m \u001b[0;34m'Content-Disposition'\u001b[0m\u001b[0;34m:\u001b[0m \u001b[0mmake_content_disposition_header\u001b[0m\u001b[0;34m(\u001b[0m\u001b[0mpath\u001b[0m\u001b[0;34m)\u001b[0m\u001b[0;34m}\u001b[0m\u001b[0;34m)\u001b[0m\u001b[0;34m\u001b[0m\u001b[0m\n\u001b[1;32m    322\u001b[0m \u001b[0;34m\u001b[0m\u001b[0m\n",
      "\u001b[0;32m/Library/Frameworks/Python.framework/Versions/3.6/lib/python3.6/site-packages/tika/tika.py\u001b[0m in \u001b[0;36mgetRemoteFile\u001b[0;34m(urlOrPath, destPath)\u001b[0m\n\u001b[1;32m    688\u001b[0m         \u001b[0mlog\u001b[0m\u001b[0;34m.\u001b[0m\u001b[0minfo\u001b[0m\u001b[0;34m(\u001b[0m\u001b[0;34m'Retrieving %s to %s.'\u001b[0m \u001b[0;34m%\u001b[0m \u001b[0;34m(\u001b[0m\u001b[0murlOrPath\u001b[0m\u001b[0;34m,\u001b[0m \u001b[0mdestPath\u001b[0m\u001b[0;34m)\u001b[0m\u001b[0;34m)\u001b[0m\u001b[0;34m\u001b[0m\u001b[0m\n\u001b[1;32m    689\u001b[0m         \u001b[0;32mtry\u001b[0m\u001b[0;34m:\u001b[0m\u001b[0;34m\u001b[0m\u001b[0m\n\u001b[0;32m--> 690\u001b[0;31m             \u001b[0murlretrieve\u001b[0m\u001b[0;34m(\u001b[0m\u001b[0murlOrPath\u001b[0m\u001b[0;34m,\u001b[0m \u001b[0mdestPath\u001b[0m\u001b[0;34m)\u001b[0m\u001b[0;34m\u001b[0m\u001b[0m\n\u001b[0m\u001b[1;32m    691\u001b[0m         \u001b[0;32mexcept\u001b[0m \u001b[0mIOError\u001b[0m\u001b[0;34m:\u001b[0m\u001b[0;34m\u001b[0m\u001b[0m\n\u001b[1;32m    692\u001b[0m             \u001b[0;31m# monkey patch fix for SSL/Windows per Tika-Python #54\u001b[0m\u001b[0;34m\u001b[0m\u001b[0;34m\u001b[0m\u001b[0m\n",
      "\u001b[0;32m/Library/Frameworks/Python.framework/Versions/3.6/lib/python3.6/urllib/request.py\u001b[0m in \u001b[0;36murlretrieve\u001b[0;34m(url, filename, reporthook, data)\u001b[0m\n\u001b[1;32m    275\u001b[0m \u001b[0;34m\u001b[0m\u001b[0m\n\u001b[1;32m    276\u001b[0m             \u001b[0;32mwhile\u001b[0m \u001b[0;32mTrue\u001b[0m\u001b[0;34m:\u001b[0m\u001b[0;34m\u001b[0m\u001b[0m\n\u001b[0;32m--> 277\u001b[0;31m                 \u001b[0mblock\u001b[0m \u001b[0;34m=\u001b[0m \u001b[0mfp\u001b[0m\u001b[0;34m.\u001b[0m\u001b[0mread\u001b[0m\u001b[0;34m(\u001b[0m\u001b[0mbs\u001b[0m\u001b[0;34m)\u001b[0m\u001b[0;34m\u001b[0m\u001b[0m\n\u001b[0m\u001b[1;32m    278\u001b[0m                 \u001b[0;32mif\u001b[0m \u001b[0;32mnot\u001b[0m \u001b[0mblock\u001b[0m\u001b[0;34m:\u001b[0m\u001b[0;34m\u001b[0m\u001b[0m\n\u001b[1;32m    279\u001b[0m                     \u001b[0;32mbreak\u001b[0m\u001b[0;34m\u001b[0m\u001b[0m\n",
      "\u001b[0;32m/Library/Frameworks/Python.framework/Versions/3.6/lib/python3.6/http/client.py\u001b[0m in \u001b[0;36mread\u001b[0;34m(self, amt)\u001b[0m\n\u001b[1;32m    447\u001b[0m             \u001b[0;31m# Amount is given, implement using readinto\u001b[0m\u001b[0;34m\u001b[0m\u001b[0;34m\u001b[0m\u001b[0m\n\u001b[1;32m    448\u001b[0m             \u001b[0mb\u001b[0m \u001b[0;34m=\u001b[0m \u001b[0mbytearray\u001b[0m\u001b[0;34m(\u001b[0m\u001b[0mamt\u001b[0m\u001b[0;34m)\u001b[0m\u001b[0;34m\u001b[0m\u001b[0m\n\u001b[0;32m--> 449\u001b[0;31m             \u001b[0mn\u001b[0m \u001b[0;34m=\u001b[0m \u001b[0mself\u001b[0m\u001b[0;34m.\u001b[0m\u001b[0mreadinto\u001b[0m\u001b[0;34m(\u001b[0m\u001b[0mb\u001b[0m\u001b[0;34m)\u001b[0m\u001b[0;34m\u001b[0m\u001b[0m\n\u001b[0m\u001b[1;32m    450\u001b[0m             \u001b[0;32mreturn\u001b[0m \u001b[0mmemoryview\u001b[0m\u001b[0;34m(\u001b[0m\u001b[0mb\u001b[0m\u001b[0;34m)\u001b[0m\u001b[0;34m[\u001b[0m\u001b[0;34m:\u001b[0m\u001b[0mn\u001b[0m\u001b[0;34m]\u001b[0m\u001b[0;34m.\u001b[0m\u001b[0mtobytes\u001b[0m\u001b[0;34m(\u001b[0m\u001b[0;34m)\u001b[0m\u001b[0;34m\u001b[0m\u001b[0m\n\u001b[1;32m    451\u001b[0m         \u001b[0;32melse\u001b[0m\u001b[0;34m:\u001b[0m\u001b[0;34m\u001b[0m\u001b[0m\n",
      "\u001b[0;32m/Library/Frameworks/Python.framework/Versions/3.6/lib/python3.6/http/client.py\u001b[0m in \u001b[0;36mreadinto\u001b[0;34m(self, b)\u001b[0m\n\u001b[1;32m    491\u001b[0m         \u001b[0;31m# connection, and the user is reading more bytes than will be provided\u001b[0m\u001b[0;34m\u001b[0m\u001b[0;34m\u001b[0m\u001b[0m\n\u001b[1;32m    492\u001b[0m         \u001b[0;31m# (for example, reading in 1k chunks)\u001b[0m\u001b[0;34m\u001b[0m\u001b[0;34m\u001b[0m\u001b[0m\n\u001b[0;32m--> 493\u001b[0;31m         \u001b[0mn\u001b[0m \u001b[0;34m=\u001b[0m \u001b[0mself\u001b[0m\u001b[0;34m.\u001b[0m\u001b[0mfp\u001b[0m\u001b[0;34m.\u001b[0m\u001b[0mreadinto\u001b[0m\u001b[0;34m(\u001b[0m\u001b[0mb\u001b[0m\u001b[0;34m)\u001b[0m\u001b[0;34m\u001b[0m\u001b[0m\n\u001b[0m\u001b[1;32m    494\u001b[0m         \u001b[0;32mif\u001b[0m \u001b[0;32mnot\u001b[0m \u001b[0mn\u001b[0m \u001b[0;32mand\u001b[0m \u001b[0mb\u001b[0m\u001b[0;34m:\u001b[0m\u001b[0;34m\u001b[0m\u001b[0m\n\u001b[1;32m    495\u001b[0m             \u001b[0;31m# Ideally, we would raise IncompleteRead if the content-length\u001b[0m\u001b[0;34m\u001b[0m\u001b[0;34m\u001b[0m\u001b[0m\n",
      "\u001b[0;32m/Library/Frameworks/Python.framework/Versions/3.6/lib/python3.6/socket.py\u001b[0m in \u001b[0;36mreadinto\u001b[0;34m(self, b)\u001b[0m\n\u001b[1;32m    584\u001b[0m         \u001b[0;32mwhile\u001b[0m \u001b[0;32mTrue\u001b[0m\u001b[0;34m:\u001b[0m\u001b[0;34m\u001b[0m\u001b[0m\n\u001b[1;32m    585\u001b[0m             \u001b[0;32mtry\u001b[0m\u001b[0;34m:\u001b[0m\u001b[0;34m\u001b[0m\u001b[0m\n\u001b[0;32m--> 586\u001b[0;31m                 \u001b[0;32mreturn\u001b[0m \u001b[0mself\u001b[0m\u001b[0;34m.\u001b[0m\u001b[0m_sock\u001b[0m\u001b[0;34m.\u001b[0m\u001b[0mrecv_into\u001b[0m\u001b[0;34m(\u001b[0m\u001b[0mb\u001b[0m\u001b[0;34m)\u001b[0m\u001b[0;34m\u001b[0m\u001b[0m\n\u001b[0m\u001b[1;32m    587\u001b[0m             \u001b[0;32mexcept\u001b[0m \u001b[0mtimeout\u001b[0m\u001b[0;34m:\u001b[0m\u001b[0;34m\u001b[0m\u001b[0m\n\u001b[1;32m    588\u001b[0m                 \u001b[0mself\u001b[0m\u001b[0;34m.\u001b[0m\u001b[0m_timeout_occurred\u001b[0m \u001b[0;34m=\u001b[0m \u001b[0;32mTrue\u001b[0m\u001b[0;34m\u001b[0m\u001b[0m\n",
      "\u001b[0;32m/Library/Frameworks/Python.framework/Versions/3.6/lib/python3.6/ssl.py\u001b[0m in \u001b[0;36mrecv_into\u001b[0;34m(self, buffer, nbytes, flags)\u001b[0m\n\u001b[1;32m   1007\u001b[0m                   \u001b[0;34m\"non-zero flags not allowed in calls to recv_into() on %s\"\u001b[0m \u001b[0;34m%\u001b[0m\u001b[0;34m\u001b[0m\u001b[0m\n\u001b[1;32m   1008\u001b[0m                   self.__class__)\n\u001b[0;32m-> 1009\u001b[0;31m             \u001b[0;32mreturn\u001b[0m \u001b[0mself\u001b[0m\u001b[0;34m.\u001b[0m\u001b[0mread\u001b[0m\u001b[0;34m(\u001b[0m\u001b[0mnbytes\u001b[0m\u001b[0;34m,\u001b[0m \u001b[0mbuffer\u001b[0m\u001b[0;34m)\u001b[0m\u001b[0;34m\u001b[0m\u001b[0m\n\u001b[0m\u001b[1;32m   1010\u001b[0m         \u001b[0;32melse\u001b[0m\u001b[0;34m:\u001b[0m\u001b[0;34m\u001b[0m\u001b[0m\n\u001b[1;32m   1011\u001b[0m             \u001b[0;32mreturn\u001b[0m \u001b[0msocket\u001b[0m\u001b[0;34m.\u001b[0m\u001b[0mrecv_into\u001b[0m\u001b[0;34m(\u001b[0m\u001b[0mself\u001b[0m\u001b[0;34m,\u001b[0m \u001b[0mbuffer\u001b[0m\u001b[0;34m,\u001b[0m \u001b[0mnbytes\u001b[0m\u001b[0;34m,\u001b[0m \u001b[0mflags\u001b[0m\u001b[0;34m)\u001b[0m\u001b[0;34m\u001b[0m\u001b[0m\n",
      "\u001b[0;32m/Library/Frameworks/Python.framework/Versions/3.6/lib/python3.6/ssl.py\u001b[0m in \u001b[0;36mread\u001b[0;34m(self, len, buffer)\u001b[0m\n\u001b[1;32m    869\u001b[0m             \u001b[0;32mraise\u001b[0m \u001b[0mValueError\u001b[0m\u001b[0;34m(\u001b[0m\u001b[0;34m\"Read on closed or unwrapped SSL socket.\"\u001b[0m\u001b[0;34m)\u001b[0m\u001b[0;34m\u001b[0m\u001b[0m\n\u001b[1;32m    870\u001b[0m         \u001b[0;32mtry\u001b[0m\u001b[0;34m:\u001b[0m\u001b[0;34m\u001b[0m\u001b[0m\n\u001b[0;32m--> 871\u001b[0;31m             \u001b[0;32mreturn\u001b[0m \u001b[0mself\u001b[0m\u001b[0;34m.\u001b[0m\u001b[0m_sslobj\u001b[0m\u001b[0;34m.\u001b[0m\u001b[0mread\u001b[0m\u001b[0;34m(\u001b[0m\u001b[0mlen\u001b[0m\u001b[0;34m,\u001b[0m \u001b[0mbuffer\u001b[0m\u001b[0;34m)\u001b[0m\u001b[0;34m\u001b[0m\u001b[0m\n\u001b[0m\u001b[1;32m    872\u001b[0m         \u001b[0;32mexcept\u001b[0m \u001b[0mSSLError\u001b[0m \u001b[0;32mas\u001b[0m \u001b[0mx\u001b[0m\u001b[0;34m:\u001b[0m\u001b[0;34m\u001b[0m\u001b[0m\n\u001b[1;32m    873\u001b[0m             \u001b[0;32mif\u001b[0m \u001b[0mx\u001b[0m\u001b[0;34m.\u001b[0m\u001b[0margs\u001b[0m\u001b[0;34m[\u001b[0m\u001b[0;36m0\u001b[0m\u001b[0;34m]\u001b[0m \u001b[0;34m==\u001b[0m \u001b[0mSSL_ERROR_EOF\u001b[0m \u001b[0;32mand\u001b[0m \u001b[0mself\u001b[0m\u001b[0;34m.\u001b[0m\u001b[0msuppress_ragged_eofs\u001b[0m\u001b[0;34m:\u001b[0m\u001b[0;34m\u001b[0m\u001b[0m\n",
      "\u001b[0;32m/Library/Frameworks/Python.framework/Versions/3.6/lib/python3.6/ssl.py\u001b[0m in \u001b[0;36mread\u001b[0;34m(self, len, buffer)\u001b[0m\n\u001b[1;32m    629\u001b[0m         \"\"\"\n\u001b[1;32m    630\u001b[0m         \u001b[0;32mif\u001b[0m \u001b[0mbuffer\u001b[0m \u001b[0;32mis\u001b[0m \u001b[0;32mnot\u001b[0m \u001b[0;32mNone\u001b[0m\u001b[0;34m:\u001b[0m\u001b[0;34m\u001b[0m\u001b[0m\n\u001b[0;32m--> 631\u001b[0;31m             \u001b[0mv\u001b[0m \u001b[0;34m=\u001b[0m \u001b[0mself\u001b[0m\u001b[0;34m.\u001b[0m\u001b[0m_sslobj\u001b[0m\u001b[0;34m.\u001b[0m\u001b[0mread\u001b[0m\u001b[0;34m(\u001b[0m\u001b[0mlen\u001b[0m\u001b[0;34m,\u001b[0m \u001b[0mbuffer\u001b[0m\u001b[0;34m)\u001b[0m\u001b[0;34m\u001b[0m\u001b[0m\n\u001b[0m\u001b[1;32m    632\u001b[0m         \u001b[0;32melse\u001b[0m\u001b[0;34m:\u001b[0m\u001b[0;34m\u001b[0m\u001b[0m\n\u001b[1;32m    633\u001b[0m             \u001b[0mv\u001b[0m \u001b[0;34m=\u001b[0m \u001b[0mself\u001b[0m\u001b[0;34m.\u001b[0m\u001b[0m_sslobj\u001b[0m\u001b[0;34m.\u001b[0m\u001b[0mread\u001b[0m\u001b[0;34m(\u001b[0m\u001b[0mlen\u001b[0m\u001b[0;34m)\u001b[0m\u001b[0;34m\u001b[0m\u001b[0m\n",
      "\u001b[0;31mKeyboardInterrupt\u001b[0m: "
     ]
    }
   ],
   "source": [
    "# initializes an empty paper_content dictionary\n",
    "paper_content_2 = {}\n",
    "\n",
    "bad_urls = []\n",
    "\n",
    "# iterates through each url in the paper_urls dataframe\n",
    "for i in range(len(paper_urls)):\n",
    "    \n",
    "    try:\n",
    "        \n",
    "        # delays the script by 3 seconds\n",
    "    #     time.sleep(3)\n",
    "            # prints the count\n",
    "        print(i)\n",
    "    \n",
    "        # parses the paper from the url\n",
    "        paper = parser.from_file(paper_urls.iloc[i][1])\n",
    "    \n",
    "        # extracts the content from the paper\n",
    "        text = paper['content']\n",
    "    \n",
    "        # splits the text by whitespace and creates a list\n",
    "        split_text = text.split(' ')\n",
    "    \n",
    "        # list comprehension that strips the \\n from the split_text list\n",
    "        split_text = [i.strip() for i in split_text]\n",
    "    \n",
    "        # assigns each paper text to the paper_content dict\n",
    "        paper_content_2[paper_urls.iloc[i][0]] = split_text\n",
    "        \n",
    "#     except urllib.URLError:\n",
    "\n",
    "#     except TimeoutError:\n",
    "      \n",
    "    except Exception:\n",
    "        bad_urls.append(paper_urls.iloc[i][1])"
   ]
  },
  {
   "cell_type": "code",
   "execution_count": 30,
   "metadata": {},
   "outputs": [
    {
     "data": {
      "text/html": [
       "<div>\n",
       "<style scoped>\n",
       "    .dataframe tbody tr th:only-of-type {\n",
       "        vertical-align: middle;\n",
       "    }\n",
       "\n",
       "    .dataframe tbody tr th {\n",
       "        vertical-align: top;\n",
       "    }\n",
       "\n",
       "    .dataframe thead th {\n",
       "        text-align: right;\n",
       "    }\n",
       "</style>\n",
       "<table border=\"1\" class=\"dataframe\">\n",
       "  <thead>\n",
       "    <tr style=\"text-align: right;\">\n",
       "      <th></th>\n",
       "      <th>paper_title</th>\n",
       "      <th>paper_content</th>\n",
       "    </tr>\n",
       "  </thead>\n",
       "  <tbody>\n",
       "    <tr>\n",
       "      <th>0</th>\n",
       "      <td>Detecting Oriented Text in Natural Images by L...</td>\n",
       "      <td>[Detecting, Oriented, Text, in, Natural, Image...</td>\n",
       "    </tr>\n",
       "    <tr>\n",
       "      <th>1</th>\n",
       "      <td>Neural Semantic Encoders</td>\n",
       "      <td>[Neural, Semantic, Encoders\\n\\nTsendsuren, Mun...</td>\n",
       "    </tr>\n",
       "    <tr>\n",
       "      <th>2</th>\n",
       "      <td>Pythia v0.1: the Winning Entry to the VQA Chal...</td>\n",
       "      <td>[Pythia, v0.1:, the, Winning, Entry, to, the, ...</td>\n",
       "    </tr>\n",
       "    <tr>\n",
       "      <th>3</th>\n",
       "      <td>Large Scale GAN Training for High Fidelity Nat...</td>\n",
       "      <td>[Published, as, a, conference, paper, at, ICLR...</td>\n",
       "    </tr>\n",
       "    <tr>\n",
       "      <th>4</th>\n",
       "      <td>Margin-based Parallel Corpus Mining with Multi...</td>\n",
       "      <td>[Margin-based, Parallel, Corpus, Mining\\nwith,...</td>\n",
       "    </tr>\n",
       "  </tbody>\n",
       "</table>\n",
       "</div>"
      ],
      "text/plain": [
       "                                         paper_title  \\\n",
       "0  Detecting Oriented Text in Natural Images by L...   \n",
       "1                           Neural Semantic Encoders   \n",
       "2  Pythia v0.1: the Winning Entry to the VQA Chal...   \n",
       "3  Large Scale GAN Training for High Fidelity Nat...   \n",
       "4  Margin-based Parallel Corpus Mining with Multi...   \n",
       "\n",
       "                                       paper_content  \n",
       "0  [Detecting, Oriented, Text, in, Natural, Image...  \n",
       "1  [Neural, Semantic, Encoders\\n\\nTsendsuren, Mun...  \n",
       "2  [Pythia, v0.1:, the, Winning, Entry, to, the, ...  \n",
       "3  [Published, as, a, conference, paper, at, ICLR...  \n",
       "4  [Margin-based, Parallel, Corpus, Mining\\nwith,...  "
      ]
     },
     "execution_count": 30,
     "metadata": {},
     "output_type": "execute_result"
    }
   ],
   "source": [
    "# creates the paper_data dataframe from the paper_content dict\n",
    "paper_data_2 = pd.DataFrame(list(paper_content_2.items()), columns=['paper_title', 'paper_content'])\n",
    "\n",
    "paper_data_2.head()"
   ]
  },
  {
   "cell_type": "code",
   "execution_count": 31,
   "metadata": {},
   "outputs": [
    {
     "data": {
      "text/html": [
       "<div>\n",
       "<style scoped>\n",
       "    .dataframe tbody tr th:only-of-type {\n",
       "        vertical-align: middle;\n",
       "    }\n",
       "\n",
       "    .dataframe tbody tr th {\n",
       "        vertical-align: top;\n",
       "    }\n",
       "\n",
       "    .dataframe thead th {\n",
       "        text-align: right;\n",
       "    }\n",
       "</style>\n",
       "<table border=\"1\" class=\"dataframe\">\n",
       "  <thead>\n",
       "    <tr style=\"text-align: right;\">\n",
       "      <th></th>\n",
       "      <th>paper_title</th>\n",
       "      <th>paper_content</th>\n",
       "    </tr>\n",
       "  </thead>\n",
       "  <tbody>\n",
       "    <tr>\n",
       "      <th>0</th>\n",
       "      <td>Detecting Oriented Text in Natural Images by L...</td>\n",
       "      <td>[Detecting, Oriented, Text, in, Natural, Image...</td>\n",
       "    </tr>\n",
       "    <tr>\n",
       "      <th>1</th>\n",
       "      <td>Neural Semantic Encoders</td>\n",
       "      <td>[Neural, Semantic, Encoders\\n\\nTsendsuren, Mun...</td>\n",
       "    </tr>\n",
       "    <tr>\n",
       "      <th>2</th>\n",
       "      <td>Pythia v0.1: the Winning Entry to the VQA Chal...</td>\n",
       "      <td>[Pythia, v0.1:, the, Winning, Entry, to, the, ...</td>\n",
       "    </tr>\n",
       "    <tr>\n",
       "      <th>3</th>\n",
       "      <td>Large Scale GAN Training for High Fidelity Nat...</td>\n",
       "      <td>[Published, as, a, conference, paper, at, ICLR...</td>\n",
       "    </tr>\n",
       "    <tr>\n",
       "      <th>4</th>\n",
       "      <td>Margin-based Parallel Corpus Mining with Multi...</td>\n",
       "      <td>[Margin-based, Parallel, Corpus, Mining\\nwith,...</td>\n",
       "    </tr>\n",
       "    <tr>\n",
       "      <th>5</th>\n",
       "      <td>Probabilistic Model-Agnostic Meta-Learning</td>\n",
       "      <td>[Probabilistic, Model-Agnostic, Meta-Learning\\...</td>\n",
       "    </tr>\n",
       "    <tr>\n",
       "      <th>6</th>\n",
       "      <td>Strong Baselines for Neural Semi-supervised Le...</td>\n",
       "      <td>[Strong, Baselines, for, Neural, Semi-supervis...</td>\n",
       "    </tr>\n",
       "    <tr>\n",
       "      <th>7</th>\n",
       "      <td>ESRGAN: Enhanced Super-Resolution Generative A...</td>\n",
       "      <td>[ESRGAN:, Enhanced, Super-Resolution\\nGenerati...</td>\n",
       "    </tr>\n",
       "    <tr>\n",
       "      <th>8</th>\n",
       "      <td>Semi-Supervised Sequence Modeling with Cross-V...</td>\n",
       "      <td>[Semi-Supervised, Sequence, Modeling, with, Cr...</td>\n",
       "    </tr>\n",
       "    <tr>\n",
       "      <th>9</th>\n",
       "      <td>Mixing Context Granularities for Improved Enti...</td>\n",
       "      <td>[Mixing, Context, Granularities, for, Improved...</td>\n",
       "    </tr>\n",
       "    <tr>\n",
       "      <th>10</th>\n",
       "      <td>Geometric Matrix Completion with Recurrent Mul...</td>\n",
       "      <td>[Geometric, Matrix, Completion, with, Recurren...</td>\n",
       "    </tr>\n",
       "    <tr>\n",
       "      <th>11</th>\n",
       "      <td>AutoAugment: Learning Augmentation Policies fr...</td>\n",
       "      <td>[AutoAugment:\\nLearning, Augmentation, Strateg...</td>\n",
       "    </tr>\n",
       "    <tr>\n",
       "      <th>12</th>\n",
       "      <td>ShuffleNet: An Extremely Efficient Convolution...</td>\n",
       "      <td>[ShuffleNet:, An, Extremely, Efficient, Convol...</td>\n",
       "    </tr>\n",
       "    <tr>\n",
       "      <th>13</th>\n",
       "      <td>Taking a Deeper Look at Pedestrians</td>\n",
       "      <td>[Taking, a, Deeper, Look, at, Pedestrians\\n\\nJ...</td>\n",
       "    </tr>\n",
       "    <tr>\n",
       "      <th>14</th>\n",
       "      <td>Linguistically-Informed Self-Attention for Sem...</td>\n",
       "      <td>[Linguistically-Informed, Self-Attention, for,...</td>\n",
       "    </tr>\n",
       "    <tr>\n",
       "      <th>15</th>\n",
       "      <td>Encoder-Decoder with Atrous Separable Convolut...</td>\n",
       "      <td>[Encoder-Decoder, with, Atrous, Separable\\nCon...</td>\n",
       "    </tr>\n",
       "    <tr>\n",
       "      <th>16</th>\n",
       "      <td>Bridging Category-level and Instance-level Sem...</td>\n",
       "      <td>[Bridging, Category-level, and, Instance-level...</td>\n",
       "    </tr>\n",
       "    <tr>\n",
       "      <th>17</th>\n",
       "      <td>Self-Adaptive Hierarchical Sentence Model</td>\n",
       "      <td>[Self-Adaptive, Hierarchical, Sentence, Model\\...</td>\n",
       "    </tr>\n",
       "    <tr>\n",
       "      <th>18</th>\n",
       "      <td>Glow: Generative Flow with Invertible 1x1 Conv...</td>\n",
       "      <td>[Glow:, Generative, Flow\\nwith, Invertible, 1×...</td>\n",
       "    </tr>\n",
       "    <tr>\n",
       "      <th>19</th>\n",
       "      <td>Structured Training for Neural Network Transit...</td>\n",
       "      <td>[Structured, Training, for, Neural, Network, T...</td>\n",
       "    </tr>\n",
       "    <tr>\n",
       "      <th>20</th>\n",
       "      <td>A Light CNN for Deep Face Representation with ...</td>\n",
       "      <td>[JOURNAL, OF, LATEX, CLASS, FILES,, VOL., 14,,...</td>\n",
       "    </tr>\n",
       "    <tr>\n",
       "      <th>21</th>\n",
       "      <td>Lightweight and Efficient Image Super-Resoluti...</td>\n",
       "      <td>[Lightweight, and, Efficient\\nImage, Super-Res...</td>\n",
       "    </tr>\n",
       "    <tr>\n",
       "      <th>22</th>\n",
       "      <td>Recurrent Highway Networks</td>\n",
       "      <td>[Recurrent, Highway, Networks\\n\\n\\nRecurrent, ...</td>\n",
       "    </tr>\n",
       "    <tr>\n",
       "      <th>23</th>\n",
       "      <td>Reasoning about Entailment with Neural Attention</td>\n",
       "      <td>[Reasoning, about, Entailment, with, Neural, A...</td>\n",
       "    </tr>\n",
       "    <tr>\n",
       "      <th>24</th>\n",
       "      <td>Compositional coding capsule network with k-me...</td>\n",
       "      <td>[COMPOSITIONAL, CODING, CAPSULE, NETWORK, WITH...</td>\n",
       "    </tr>\n",
       "    <tr>\n",
       "      <th>25</th>\n",
       "      <td>NPRF: A Neural Pseudo Relevance Feedback Frame...</td>\n",
       "      <td>[NPRF:, A, Neural, Pseudo, Relevance, Feedback...</td>\n",
       "    </tr>\n",
       "    <tr>\n",
       "      <th>26</th>\n",
       "      <td>The Neural Hype and Comparisons Against Weak B...</td>\n",
       "      <td>[Microsoft, Word, -, officers.doc\\n\\n\\nOPINION...</td>\n",
       "    </tr>\n",
       "    <tr>\n",
       "      <th>27</th>\n",
       "      <td>A large annotated corpus for learning natural ...</td>\n",
       "      <td>[A, large, annotated, corpus, for, learning, n...</td>\n",
       "    </tr>\n",
       "    <tr>\n",
       "      <th>28</th>\n",
       "      <td>Aggregate channel features for multi-view face...</td>\n",
       "      <td>[Aggregate, Channel, Features, for, Multi-view...</td>\n",
       "    </tr>\n",
       "    <tr>\n",
       "      <th>29</th>\n",
       "      <td>An All-In-One Convolutional Neural Network for...</td>\n",
       "      <td>[An, All-In-One, Convolutional, Neural, Networ...</td>\n",
       "    </tr>\n",
       "    <tr>\n",
       "      <th>...</th>\n",
       "      <td>...</td>\n",
       "      <td>...</td>\n",
       "    </tr>\n",
       "    <tr>\n",
       "      <th>329</th>\n",
       "      <td>StarMap for Category-Agnostic Keypoint and Vie...</td>\n",
       "      <td>[StarMap, for, Category-Agnostic, Keypoint, an...</td>\n",
       "    </tr>\n",
       "    <tr>\n",
       "      <th>330</th>\n",
       "      <td>Rotational Unit of Memory</td>\n",
       "      <td>[ROTATIONAL, UNIT, OF, MEMORY\\n\\nRumen, Dangov...</td>\n",
       "    </tr>\n",
       "    <tr>\n",
       "      <th>331</th>\n",
       "      <td>Rethinking Atrous Convolution for Semantic Ima...</td>\n",
       "      <td>[Rethinking, Atrous, Convolution, for, Semanti...</td>\n",
       "    </tr>\n",
       "    <tr>\n",
       "      <th>332</th>\n",
       "      <td>Towards End-to-End Lane Detection: an Instance...</td>\n",
       "      <td>[Towards, End-to-End, Lane, Detection:, an, In...</td>\n",
       "    </tr>\n",
       "    <tr>\n",
       "      <th>333</th>\n",
       "      <td>SyncSpecCNN: Synchronized Spectral CNN for 3D ...</td>\n",
       "      <td>[SyncSpecCNN:, Synchronized, Spectral, CNN, fo...</td>\n",
       "    </tr>\n",
       "    <tr>\n",
       "      <th>334</th>\n",
       "      <td>ContextLocNet: Context-Aware Deep Network Mode...</td>\n",
       "      <td>[ContextLocNet:, Context-Aware, Deep, Network\\...</td>\n",
       "    </tr>\n",
       "    <tr>\n",
       "      <th>335</th>\n",
       "      <td>Conditional Random Fields as Recurrent Neural ...</td>\n",
       "      <td>[Conditional, Random, Fields, as, Recurrent, N...</td>\n",
       "    </tr>\n",
       "    <tr>\n",
       "      <th>336</th>\n",
       "      <td>High-Fidelity Image Generation With Fewer Labels</td>\n",
       "      <td>[, High-Fidelity, Image, Generation, With, Few...</td>\n",
       "    </tr>\n",
       "    <tr>\n",
       "      <th>337</th>\n",
       "      <td>Deep Back-Projection Networks For Super-Resolu...</td>\n",
       "      <td>[Deep, Back-Projection, Networks, For, Super-R...</td>\n",
       "    </tr>\n",
       "    <tr>\n",
       "      <th>338</th>\n",
       "      <td>Multi-level Wavelet-CNN for Image Restoration</td>\n",
       "      <td>[Multi-level, Wavelet-CNN, for, Image, Restora...</td>\n",
       "    </tr>\n",
       "    <tr>\n",
       "      <th>339</th>\n",
       "      <td>Can Active Memory Replace Attention?</td>\n",
       "      <td>[()\\n\\n\\nar\\nX\\n\\niv\\n:1\\n\\n61\\n0.\\n\\n08\\n61\\n...</td>\n",
       "    </tr>\n",
       "    <tr>\n",
       "      <th>340</th>\n",
       "      <td>Graph Convolutional Matrix Completion</td>\n",
       "      <td>[Graph, Convolutional, Matrix, Completion\\n\\nR...</td>\n",
       "    </tr>\n",
       "    <tr>\n",
       "      <th>341</th>\n",
       "      <td>Global Hypothesis Generation for 6D Object Pos...</td>\n",
       "      <td>[Global, Hypothesis, Generation, for, 6D, Obje...</td>\n",
       "    </tr>\n",
       "    <tr>\n",
       "      <th>342</th>\n",
       "      <td>Viewpoints and Keypoints</td>\n",
       "      <td>[Viewpoints, and, Keypoints\\n\\nShubham, Tulsia...</td>\n",
       "    </tr>\n",
       "    <tr>\n",
       "      <th>343</th>\n",
       "      <td>Predicting Semantic Relations using Global Gra...</td>\n",
       "      <td>[ar\\nX\\n\\niv\\n:1\\n\\n80\\n8.\\n\\n08\\n64\\n\\n4v\\n1,...</td>\n",
       "    </tr>\n",
       "    <tr>\n",
       "      <th>344</th>\n",
       "      <td>Corners for Layout: End-to-End Layout Recovery...</td>\n",
       "      <td>[Corners, for, Layout:, End-to-End, Layout, Re...</td>\n",
       "    </tr>\n",
       "    <tr>\n",
       "      <th>345</th>\n",
       "      <td>A Deep Cascade Model for Multi-Document Readin...</td>\n",
       "      <td>[A, Deep, Cascade, Model, for, Multi-Document,...</td>\n",
       "    </tr>\n",
       "    <tr>\n",
       "      <th>346</th>\n",
       "      <td>Mean teachers are better role models: Weight-a...</td>\n",
       "      <td>[Mean, teachers, are, better, role, models:\\nW...</td>\n",
       "    </tr>\n",
       "    <tr>\n",
       "      <th>347</th>\n",
       "      <td>Anytime Stereo Image Depth Estimation on Mobil...</td>\n",
       "      <td>[Anytime, Stereo, Image, Depth, Estimation, on...</td>\n",
       "    </tr>\n",
       "    <tr>\n",
       "      <th>348</th>\n",
       "      <td>Effective Attention Modeling for Aspect-Level ...</td>\n",
       "      <td>[Effective, Attention, Modeling, for, Aspect-L...</td>\n",
       "    </tr>\n",
       "    <tr>\n",
       "      <th>349</th>\n",
       "      <td>Ask, Attend and Answer: Exploring Question-Gui...</td>\n",
       "      <td>[Ask,, Attend, and, Answer:, Exploring\\nQuesti...</td>\n",
       "    </tr>\n",
       "    <tr>\n",
       "      <th>350</th>\n",
       "      <td>Purely sequence-trained neural networks for AS...</td>\n",
       "      <td>[Purely, sequence-trained, neural, networks, f...</td>\n",
       "    </tr>\n",
       "    <tr>\n",
       "      <th>351</th>\n",
       "      <td>Orthogonal Deep Features Decomposition for Age...</td>\n",
       "      <td>[1\\n\\nOrthogonal, Deep, Features, Decompositio...</td>\n",
       "    </tr>\n",
       "    <tr>\n",
       "      <th>352</th>\n",
       "      <td>An Integral Pose Regression System for the ECC...</td>\n",
       "      <td>[An, Integral, Pose, Regression, System, for, ...</td>\n",
       "    </tr>\n",
       "    <tr>\n",
       "      <th>353</th>\n",
       "      <td>Brain Tumor Segmentation and Radiomics Surviva...</td>\n",
       "      <td>[Brain, Tumor, Segmentation, and, Radiomics\\nS...</td>\n",
       "    </tr>\n",
       "    <tr>\n",
       "      <th>354</th>\n",
       "      <td>DeepCut: Joint Subset Partition and Labeling f...</td>\n",
       "      <td>[DeepCut:, Joint, Subset, Partition, and, Labe...</td>\n",
       "    </tr>\n",
       "    <tr>\n",
       "      <th>355</th>\n",
       "      <td>Transfer Learning for Sequence Tagging with Hi...</td>\n",
       "      <td>[Published, as, a, conference, paper, at, ICLR...</td>\n",
       "    </tr>\n",
       "    <tr>\n",
       "      <th>356</th>\n",
       "      <td>Learning Efficient Convolutional Networks thro...</td>\n",
       "      <td>[Learning, Efficient, Convolutional, Networks,...</td>\n",
       "    </tr>\n",
       "    <tr>\n",
       "      <th>357</th>\n",
       "      <td>One Billion Word Benchmark for Measuring Progr...</td>\n",
       "      <td>[()\\n\\n\\nar\\nX\\n\\niv\\n:1\\n\\n31\\n2.\\n\\n30\\n05\\n...</td>\n",
       "    </tr>\n",
       "    <tr>\n",
       "      <th>358</th>\n",
       "      <td>Learning from Simulated and Unsupervised Image...</td>\n",
       "      <td>[This, paper, has, been, submitted, for, publi...</td>\n",
       "    </tr>\n",
       "  </tbody>\n",
       "</table>\n",
       "<p>359 rows × 2 columns</p>\n",
       "</div>"
      ],
      "text/plain": [
       "                                           paper_title  \\\n",
       "0    Detecting Oriented Text in Natural Images by L...   \n",
       "1                             Neural Semantic Encoders   \n",
       "2    Pythia v0.1: the Winning Entry to the VQA Chal...   \n",
       "3    Large Scale GAN Training for High Fidelity Nat...   \n",
       "4    Margin-based Parallel Corpus Mining with Multi...   \n",
       "5           Probabilistic Model-Agnostic Meta-Learning   \n",
       "6    Strong Baselines for Neural Semi-supervised Le...   \n",
       "7    ESRGAN: Enhanced Super-Resolution Generative A...   \n",
       "8    Semi-Supervised Sequence Modeling with Cross-V...   \n",
       "9    Mixing Context Granularities for Improved Enti...   \n",
       "10   Geometric Matrix Completion with Recurrent Mul...   \n",
       "11   AutoAugment: Learning Augmentation Policies fr...   \n",
       "12   ShuffleNet: An Extremely Efficient Convolution...   \n",
       "13                 Taking a Deeper Look at Pedestrians   \n",
       "14   Linguistically-Informed Self-Attention for Sem...   \n",
       "15   Encoder-Decoder with Atrous Separable Convolut...   \n",
       "16   Bridging Category-level and Instance-level Sem...   \n",
       "17           Self-Adaptive Hierarchical Sentence Model   \n",
       "18   Glow: Generative Flow with Invertible 1x1 Conv...   \n",
       "19   Structured Training for Neural Network Transit...   \n",
       "20   A Light CNN for Deep Face Representation with ...   \n",
       "21   Lightweight and Efficient Image Super-Resoluti...   \n",
       "22                          Recurrent Highway Networks   \n",
       "23    Reasoning about Entailment with Neural Attention   \n",
       "24   Compositional coding capsule network with k-me...   \n",
       "25   NPRF: A Neural Pseudo Relevance Feedback Frame...   \n",
       "26   The Neural Hype and Comparisons Against Weak B...   \n",
       "27   A large annotated corpus for learning natural ...   \n",
       "28   Aggregate channel features for multi-view face...   \n",
       "29   An All-In-One Convolutional Neural Network for...   \n",
       "..                                                 ...   \n",
       "329  StarMap for Category-Agnostic Keypoint and Vie...   \n",
       "330                          Rotational Unit of Memory   \n",
       "331  Rethinking Atrous Convolution for Semantic Ima...   \n",
       "332  Towards End-to-End Lane Detection: an Instance...   \n",
       "333  SyncSpecCNN: Synchronized Spectral CNN for 3D ...   \n",
       "334  ContextLocNet: Context-Aware Deep Network Mode...   \n",
       "335  Conditional Random Fields as Recurrent Neural ...   \n",
       "336   High-Fidelity Image Generation With Fewer Labels   \n",
       "337  Deep Back-Projection Networks For Super-Resolu...   \n",
       "338      Multi-level Wavelet-CNN for Image Restoration   \n",
       "339               Can Active Memory Replace Attention?   \n",
       "340              Graph Convolutional Matrix Completion   \n",
       "341  Global Hypothesis Generation for 6D Object Pos...   \n",
       "342                           Viewpoints and Keypoints   \n",
       "343  Predicting Semantic Relations using Global Gra...   \n",
       "344  Corners for Layout: End-to-End Layout Recovery...   \n",
       "345  A Deep Cascade Model for Multi-Document Readin...   \n",
       "346  Mean teachers are better role models: Weight-a...   \n",
       "347  Anytime Stereo Image Depth Estimation on Mobil...   \n",
       "348  Effective Attention Modeling for Aspect-Level ...   \n",
       "349  Ask, Attend and Answer: Exploring Question-Gui...   \n",
       "350  Purely sequence-trained neural networks for AS...   \n",
       "351  Orthogonal Deep Features Decomposition for Age...   \n",
       "352  An Integral Pose Regression System for the ECC...   \n",
       "353  Brain Tumor Segmentation and Radiomics Surviva...   \n",
       "354  DeepCut: Joint Subset Partition and Labeling f...   \n",
       "355  Transfer Learning for Sequence Tagging with Hi...   \n",
       "356  Learning Efficient Convolutional Networks thro...   \n",
       "357  One Billion Word Benchmark for Measuring Progr...   \n",
       "358  Learning from Simulated and Unsupervised Image...   \n",
       "\n",
       "                                         paper_content  \n",
       "0    [Detecting, Oriented, Text, in, Natural, Image...  \n",
       "1    [Neural, Semantic, Encoders\\n\\nTsendsuren, Mun...  \n",
       "2    [Pythia, v0.1:, the, Winning, Entry, to, the, ...  \n",
       "3    [Published, as, a, conference, paper, at, ICLR...  \n",
       "4    [Margin-based, Parallel, Corpus, Mining\\nwith,...  \n",
       "5    [Probabilistic, Model-Agnostic, Meta-Learning\\...  \n",
       "6    [Strong, Baselines, for, Neural, Semi-supervis...  \n",
       "7    [ESRGAN:, Enhanced, Super-Resolution\\nGenerati...  \n",
       "8    [Semi-Supervised, Sequence, Modeling, with, Cr...  \n",
       "9    [Mixing, Context, Granularities, for, Improved...  \n",
       "10   [Geometric, Matrix, Completion, with, Recurren...  \n",
       "11   [AutoAugment:\\nLearning, Augmentation, Strateg...  \n",
       "12   [ShuffleNet:, An, Extremely, Efficient, Convol...  \n",
       "13   [Taking, a, Deeper, Look, at, Pedestrians\\n\\nJ...  \n",
       "14   [Linguistically-Informed, Self-Attention, for,...  \n",
       "15   [Encoder-Decoder, with, Atrous, Separable\\nCon...  \n",
       "16   [Bridging, Category-level, and, Instance-level...  \n",
       "17   [Self-Adaptive, Hierarchical, Sentence, Model\\...  \n",
       "18   [Glow:, Generative, Flow\\nwith, Invertible, 1×...  \n",
       "19   [Structured, Training, for, Neural, Network, T...  \n",
       "20   [JOURNAL, OF, LATEX, CLASS, FILES,, VOL., 14,,...  \n",
       "21   [Lightweight, and, Efficient\\nImage, Super-Res...  \n",
       "22   [Recurrent, Highway, Networks\\n\\n\\nRecurrent, ...  \n",
       "23   [Reasoning, about, Entailment, with, Neural, A...  \n",
       "24   [COMPOSITIONAL, CODING, CAPSULE, NETWORK, WITH...  \n",
       "25   [NPRF:, A, Neural, Pseudo, Relevance, Feedback...  \n",
       "26   [Microsoft, Word, -, officers.doc\\n\\n\\nOPINION...  \n",
       "27   [A, large, annotated, corpus, for, learning, n...  \n",
       "28   [Aggregate, Channel, Features, for, Multi-view...  \n",
       "29   [An, All-In-One, Convolutional, Neural, Networ...  \n",
       "..                                                 ...  \n",
       "329  [StarMap, for, Category-Agnostic, Keypoint, an...  \n",
       "330  [ROTATIONAL, UNIT, OF, MEMORY\\n\\nRumen, Dangov...  \n",
       "331  [Rethinking, Atrous, Convolution, for, Semanti...  \n",
       "332  [Towards, End-to-End, Lane, Detection:, an, In...  \n",
       "333  [SyncSpecCNN:, Synchronized, Spectral, CNN, fo...  \n",
       "334  [ContextLocNet:, Context-Aware, Deep, Network\\...  \n",
       "335  [Conditional, Random, Fields, as, Recurrent, N...  \n",
       "336  [, High-Fidelity, Image, Generation, With, Few...  \n",
       "337  [Deep, Back-Projection, Networks, For, Super-R...  \n",
       "338  [Multi-level, Wavelet-CNN, for, Image, Restora...  \n",
       "339  [()\\n\\n\\nar\\nX\\n\\niv\\n:1\\n\\n61\\n0.\\n\\n08\\n61\\n...  \n",
       "340  [Graph, Convolutional, Matrix, Completion\\n\\nR...  \n",
       "341  [Global, Hypothesis, Generation, for, 6D, Obje...  \n",
       "342  [Viewpoints, and, Keypoints\\n\\nShubham, Tulsia...  \n",
       "343  [ar\\nX\\n\\niv\\n:1\\n\\n80\\n8.\\n\\n08\\n64\\n\\n4v\\n1,...  \n",
       "344  [Corners, for, Layout:, End-to-End, Layout, Re...  \n",
       "345  [A, Deep, Cascade, Model, for, Multi-Document,...  \n",
       "346  [Mean, teachers, are, better, role, models:\\nW...  \n",
       "347  [Anytime, Stereo, Image, Depth, Estimation, on...  \n",
       "348  [Effective, Attention, Modeling, for, Aspect-L...  \n",
       "349  [Ask,, Attend, and, Answer:, Exploring\\nQuesti...  \n",
       "350  [Purely, sequence-trained, neural, networks, f...  \n",
       "351  [1\\n\\nOrthogonal, Deep, Features, Decompositio...  \n",
       "352  [An, Integral, Pose, Regression, System, for, ...  \n",
       "353  [Brain, Tumor, Segmentation, and, Radiomics\\nS...  \n",
       "354  [DeepCut:, Joint, Subset, Partition, and, Labe...  \n",
       "355  [Published, as, a, conference, paper, at, ICLR...  \n",
       "356  [Learning, Efficient, Convolutional, Networks,...  \n",
       "357  [()\\n\\n\\nar\\nX\\n\\niv\\n:1\\n\\n31\\n2.\\n\\n30\\n05\\n...  \n",
       "358  [This, paper, has, been, submitted, for, publi...  \n",
       "\n",
       "[359 rows x 2 columns]"
      ]
     },
     "execution_count": 31,
     "metadata": {},
     "output_type": "execute_result"
    }
   ],
   "source": [
    "paper_data_2"
   ]
  },
  {
   "cell_type": "code",
   "execution_count": null,
   "metadata": {},
   "outputs": [],
   "source": []
  },
  {
   "cell_type": "code",
   "execution_count": null,
   "metadata": {},
   "outputs": [],
   "source": []
  },
  {
   "cell_type": "code",
   "execution_count": 47,
   "metadata": {},
   "outputs": [],
   "source": [
    "x2 = paper_urls.iloc[128][1]\n",
    "\n",
    "paper_urls.drop(128, inplace=True)"
   ]
  },
  {
   "cell_type": "code",
   "execution_count": 15,
   "metadata": {},
   "outputs": [
    {
     "name": "stderr",
     "output_type": "stream",
     "text": [
      "2019-05-13 14:54:25,438 [MainThread  ] [INFO ]  Retrieving https://arxiv.org/pdf/1705.02798v6.pdf to /var/folders/1x/nph4r0452v1dk6t51bknf9080000gn/T/https-arxiv-org-pdf-1705-02798v6-pdf.\n"
     ]
    },
    {
     "name": "stdout",
     "output_type": "stream",
     "text": [
      "120\n"
     ]
    },
    {
     "name": "stderr",
     "output_type": "stream",
     "text": [
      "2019-05-13 14:54:29,617 [MainThread  ] [INFO ]  Retrieving https://arxiv.org/pdf/1610.02454v1.pdf to /var/folders/1x/nph4r0452v1dk6t51bknf9080000gn/T/https-arxiv-org-pdf-1610-02454v1-pdf.\n"
     ]
    },
    {
     "name": "stdout",
     "output_type": "stream",
     "text": [
      "121\n"
     ]
    },
    {
     "name": "stderr",
     "output_type": "stream",
     "text": [
      "2019-05-13 14:54:39,336 [MainThread  ] [INFO ]  Retrieving https://arxiv.org/pdf/1709.07432v2.pdf to /var/folders/1x/nph4r0452v1dk6t51bknf9080000gn/T/https-arxiv-org-pdf-1709-07432v2-pdf.\n"
     ]
    },
    {
     "name": "stdout",
     "output_type": "stream",
     "text": [
      "122\n"
     ]
    },
    {
     "name": "stderr",
     "output_type": "stream",
     "text": [
      "2019-05-13 14:54:41,360 [MainThread  ] [INFO ]  Retrieving https://arxiv.org/pdf/1803.06589v2.pdf to /var/folders/1x/nph4r0452v1dk6t51bknf9080000gn/T/https-arxiv-org-pdf-1803-06589v2-pdf.\n"
     ]
    },
    {
     "name": "stdout",
     "output_type": "stream",
     "text": [
      "123\n"
     ]
    },
    {
     "name": "stderr",
     "output_type": "stream",
     "text": [
      "2019-05-13 14:54:45,112 [MainThread  ] [INFO ]  Retrieving https://arxiv.org/pdf/1812.01840v2.pdf to /var/folders/1x/nph4r0452v1dk6t51bknf9080000gn/T/https-arxiv-org-pdf-1812-01840v2-pdf.\n"
     ]
    },
    {
     "name": "stdout",
     "output_type": "stream",
     "text": [
      "124\n"
     ]
    },
    {
     "name": "stderr",
     "output_type": "stream",
     "text": [
      "2019-05-13 14:54:47,562 [MainThread  ] [INFO ]  Retrieving https://arxiv.org/pdf/1708.02312v2.pdf to /var/folders/1x/nph4r0452v1dk6t51bknf9080000gn/T/https-arxiv-org-pdf-1708-02312v2-pdf.\n"
     ]
    },
    {
     "name": "stdout",
     "output_type": "stream",
     "text": [
      "125\n"
     ]
    },
    {
     "name": "stderr",
     "output_type": "stream",
     "text": [
      "2019-05-13 14:54:50,413 [MainThread  ] [INFO ]  Retrieving https://arxiv.org/pdf/1708.02813v1.pdf to /var/folders/1x/nph4r0452v1dk6t51bknf9080000gn/T/https-arxiv-org-pdf-1708-02813v1-pdf.\n"
     ]
    },
    {
     "name": "stdout",
     "output_type": "stream",
     "text": [
      "126\n"
     ]
    },
    {
     "name": "stderr",
     "output_type": "stream",
     "text": [
      "2019-05-13 14:54:56,718 [MainThread  ] [INFO ]  Retrieving https://arxiv.org/pdf/1811.02084v1.pdf to /var/folders/1x/nph4r0452v1dk6t51bknf9080000gn/T/https-arxiv-org-pdf-1811-02084v1-pdf.\n"
     ]
    },
    {
     "name": "stdout",
     "output_type": "stream",
     "text": [
      "127\n"
     ]
    },
    {
     "name": "stderr",
     "output_type": "stream",
     "text": [
      "2019-05-13 14:54:59,990 [MainThread  ] [INFO ]  Retrieving https://openaccess.thecvf.com/content_ECCV_2018/papers/Wei_Liu_Learning_Efficient_Single-stage_ECCV_2018_paper.pdf to /var/folders/1x/nph4r0452v1dk6t51bknf9080000gn/T/https-openaccess-thecvf-com-content_eccv_2018-papers-wei_liu_learning_efficient_single-stage_eccv_2018_paper-pdf.\n"
     ]
    },
    {
     "name": "stdout",
     "output_type": "stream",
     "text": [
      "128\n"
     ]
    },
    {
     "name": "stderr",
     "output_type": "stream",
     "text": [
      "2019-05-13 14:57:31,947 [MainThread  ] [INFO ]  Retrieving https://arxiv.org/pdf/1705.02407v2.pdf to /var/folders/1x/nph4r0452v1dk6t51bknf9080000gn/T/https-arxiv-org-pdf-1705-02407v2-pdf.\n"
     ]
    },
    {
     "name": "stdout",
     "output_type": "stream",
     "text": [
      "129\n"
     ]
    }
   ],
   "source": [
    "# initializes an empty paper_content dictionary\n",
    "paper_content_2 = {}\n",
    "\n",
    "bad_urls = []\n",
    "\n",
    "# iterates through each url in the paper_urls dataframe\n",
    "for i in range(120, 130):\n",
    "    \n",
    "    # prints the count\n",
    "    print(i)\n",
    "    \n",
    "    \n",
    "    try:\n",
    "        \n",
    "        # delays the script by 3 seconds\n",
    "    #     time.sleep(3)\n",
    "    \n",
    "        # parses the paper from the url\n",
    "        paper = parser.from_file(paper_urls.iloc[i][1])\n",
    "    \n",
    "        # extracts the content from the paper\n",
    "        text = paper['content']\n",
    "    \n",
    "        # splits the text by whitespace and creates a list\n",
    "        split_text = text.split(' ')\n",
    "    \n",
    "        # list comprehension that strips the \\n from the split_text list\n",
    "        split_text = [i.strip() for i in split_text]\n",
    "    \n",
    "        # assigns each paper text to the paper_content dict\n",
    "        paper_content_2[paper_urls.iloc[i][0]] = split_text\n",
    "        \n",
    "#     except urllib.URLError:\n",
    "\n",
    "#     except TimeoutError:\n",
    "      \n",
    "    except Exception:\n",
    "        bad_urls.append(paper)\n",
    "        \n",
    "        "
   ]
  },
  {
   "cell_type": "code",
   "execution_count": 16,
   "metadata": {
    "collapsed": true
   },
   "outputs": [
    {
     "data": {
      "text/plain": [
       "[{'content': '\\n\\n\\n\\n\\n\\n\\n\\n\\n\\n\\n\\n\\n\\n\\n\\n\\n\\n\\n\\n\\n\\n\\n\\n\\n\\n\\n\\n\\n\\n\\n\\n\\n\\n\\n\\n\\n\\n\\n\\n\\n\\n\\n\\n\\n\\n\\n\\n\\n\\nMesh-TensorFlow:\\nDeep Learning for Supercomputers\\n\\nNoam Shazeer, Youlong Cheng, Niki Parmar,\\nDustin Tran, Ashish Vaswani, Penporn Koanantakool, Peter Hawkins, HyoukJoong Lee\\n\\nMingsheng Hong, Cliff Young, Ryan Sepassi, Blake Hechtman\\nGoogle Brain\\n\\n{noam, ylc, nikip, trandustin, avaswani, penporn, phawkins,\\nhyouklee, hongm, cliffy, rsepassi, blakehechtman}@google.com\\n\\nAbstract\\n\\nBatch-splitting (data-parallelism) is the dominant distributed Deep Neural Network\\n(DNN) training strategy, due to its universal applicability and its amenability to\\nSingle-Program-Multiple-Data (SPMD) programming. However, batch-splitting\\nsuffers from problems including the inability to train very large models (due to\\nmemory constraints), high latency, and inefficiency at small batch sizes. All of\\nthese can be solved by more general distribution strategies (model-parallelism).\\nUnfortunately, efficient model-parallel algorithms tend to be complicated to dis-\\ncover, describe, and to implement, particularly on large clusters. We introduce\\nMesh-TensorFlow, a language for specifying a general class of distributed tensor\\ncomputations. Where data-parallelism can be viewed as splitting tensors and op-\\nerations along the \"batch\" dimension, in Mesh-TensorFlow, the user can specify\\nany tensor-dimensions to be split across any dimensions of a multi-dimensional\\nmesh of processors. A Mesh-TensorFlow graph compiles into a SPMD program\\nconsisting of parallel operations coupled with collective communication prim-\\nitives such as Allreduce. We use Mesh-TensorFlow to implement an efficient\\ndata-parallel, model-parallel version of the Transformer [21] sequence-to-sequence\\nmodel. Using TPU meshes of up to 512 cores, we train Transformer models with\\nup to 5 billion parameters, surpassing state of the art results on WMT’14 English-\\nto-French translation task and the one-billion-word language modeling benchmark.\\nMesh-Tensorflow is available at https://github.com/tensorflow/mesh .\\n\\n1 Introduction\\n\\nBatch-splitting (data-parallelism) is the dominant distributed Deep Neural Network (DNN) train-\\ning strategy, due to its universal applicability and its amenability to Single-Program-Multiple-Data\\n(SPMD) programming. However, batch-splitting suffers from several major problems when training\\nvery large models. The memory required to store parameters and/or activations and the time neces-\\nsary to synchronize parameters can make purely-data-parallel algorithms impossible or inefficient.\\nDifferent distribution strategies (model-parallelism [9]) can solve these issues, but specifying these\\nstrategies can be complicated, and the current MIMD implementations generate very large programs\\nwhich can be difficult to compile and to optimize.\\n\\nWe solve this problem by introducing Mesh-TensorFlow, a language for specifying a general class\\nof distributed tensor computations. Where data-parallelism can be viewed as splitting tensors and\\noperations along the \"batch\" dimension, in Mesh-TensorFlow, the user can specify any tensor-\\ndimensions to be split across any dimensions of a multi-dimensional mesh of processors. A Mesh-\\nTensorFlow graph compiles into a SPMD program consisting of parallel operations coupled with\\n\\n32nd Conference on Neural Information Processing Systems (NIPS 2018), Montréal, Canada.\\n\\nar\\nX\\n\\niv\\n:1\\n\\n81\\n1.\\n\\n02\\n08\\n\\n4v\\n1 \\n\\n [\\ncs\\n\\n.L\\nG\\n\\n] \\n 5\\n\\n N\\nov\\n\\n 2\\n01\\n\\n8\\n\\n\\n\\ncollective communication primitives such as Allreduce. We use Mesh-TensorFlow to implement\\nan efficient data-parallel, model-parallel version of the Transformer [21] sequence-to-sequence\\nmodel. Using TPU meshes of up to 512 cores, we train Transformer models with up to 5 billion\\nparameters, surpassing state-of-the-art results on WMT’14 English-to-French translation task and the\\none-billion-word Language modeling benchmark.\\n\\n2 Hardware Assumptions\\n\\nWhile much work deals with heterogeneous and/or unreliable hardware, we focus on clusters of\\nidentical, reliable processors, each with a local memory. We define a mesh as an n-dimensional array\\nof such processors. The mesh is only a naming abstraction and does not imply a physical network\\ntopology. As such, different meshes can be defined over the same set of physical processors. For\\nexample, a 512-core TPU cluster with a 16x16x2 toroidal network interconnect could be represented\\nby a 3-dimensional mesh with shape [16, 16, 2], a two-dimensional mesh with shape [32, 16], a\\none-dimensional mesh with shape [512], etc. The physical network topology does affect performance;\\nparticularly important is the performance of MPI Allreduce, grouped by splitting the mesh by a subset\\nof the dimensions, which can be very efficient [5] [6] if each such group is physically connected.\\n\\n3 Inspiration: Single-Program-Multiple-Data (SPMD) Batch-Splitting\\n\\nWe first review a commonly-used variant of synchronous data-parallelism where each processor keeps\\nan identical copy of all parameters (Algorithm 1). For each step, the batch of training examples is\\nsplit into sub-batches, one for each processor. Each processor computes the forward and backward\\npasses on its sub-batch, resulting in gradients on the model parameters. These gradients are then\\nsummed across all processors and the results broadcast to all processors (MPI-allreduce). Finally,\\neach processor updates its own copy of the parameters.\\n\\nAlgorithm 1 Synchronous data-parallelism with replicated parameters. Each processor maintains a\\ncomplete copy of all weights W (t). The batch b(t) of training examples for timestep t is partitioned\\namong the set P of processors: b(t) =\\n\\n⋃̇\\np∈P b\\n\\n(t)\\np . Below is the computation performed on one\\n\\nprocessor p ∈ P .\\n1: Compute partial parameter gradients∇Q(W (t), b(t)p ) . Local computation\\n2: ∇Q(W (t), b(t)) =\\n\\n∑\\np′∈P ∇Q(W (t), b\\n\\n(t)\\np′ ) . Allreduce\\n\\n3: W (t+1) = Update(W (t),∇Q(W (t), b(t)) . Local computation\\n\\nThis algorithm is typically implemented using Single-Program-Multiple-Data (SPMD) programming,\\nwith every processor running the same program of local operations and MPI-allreduce primitives.\\n\\nOne way to see this algorithm is that every tensor and every operation in the computation is either\\nsplit across all processors (if it has a \"batch\" dimension), or fully replicated across all processors\\n(if it does not have a \"batch\" dimension). Operations which reduce out the \"batch\" dimension\\nrequire an additional MPI-allreduce to produce the correct result. We can describe this as splitting\\nthe computation across the \"batch\" dimension. Mesh-TensorFlow generalizes this idea to splitting\\ncomputations across arbitrary dimensions.\\n\\n4 Mesh-TensorFlow: Beyond Batch Splitting\\n\\nMesh-Tensorflow generalizes from the batch-splitting algorithm described in section 3 to allow for\\nsplitting across different Tensor dimensions. The similarities are as follows:\\n\\n• Each tensor in the computation is represented by one (not-necessarily-distinct) slice of the\\ntensor on each processor.\\n\\n• Each operation in the computation is implemented as one operation on each processor. Most\\noperations require no communication, with each processor producing its slice of the output\\nfrom its slices of the inputs. Some operations additionally require collective communication\\nprimitives such as MPI-allreduce.\\n\\n2\\n\\n\\n\\n• Based on the above, the computation can be implemented as a SPMD program.\\n\\nThe new elements in Mesh-TensorFlow are as follows:\\n\\n• Tensors have named dimensions. This allows for the idea of a logical dimension (like\\n\"batch\") which will be split in the same way for different tensors and operations. It is illegal\\nfor a tensor to have two identically-named dimensions.\\n\\n• Rather than an unstructured set of processors, Mesh-Tensorflow allows for an n-dimensional\\nmesh of processors (section 2). The mesh also has named dimensions.\\n\\n• A global \"computation layout\" is a partial map from tensor-dimension to mesh-dimension\\nspecifying which tensor-dimensions are split across which dimensions of the processor-\\nmesh. For example, batch-splitting (data-parallelism) would be expressed by using a\\none-dimensional mesh with dimension \"all_processors\" and using the computation\\nlayout [(\"batch\", \"all_processors\")]. This means that all tensors with a \"batch\"\\ndimension are split along that dimension across all processors, while all other tensors are\\nfully replicated.\\n\\n5 Tensor Representations\\n\\nA tensor is represented as one slice of the tensor per processor. The layout of a tensor is an injective\\npartial map from the tensor’s dimensions to dimensions of the mesh, and is computed as the restriction\\nof the global computation layout to that tensor’s dimensions. It is illegal for two dimensions of the\\nsame tensor to map to the same mesh dimension. If a tensor’s layout is empty, it is fully replicated on\\neach processor. For every (tensor-dimension, mesh-dimension) pair in the tensor’s layout, the slice\\non a processor is restricted along that tensor-dimension to a stripe corresponding to that processor’s\\ncoordinate along that mesh-dimension. The current implementation of Mesh-TensorFlow requires the\\nsize of the tensor-dimension to be evenly divisible by the size of the mesh-dimension.\\n\\n6 Operation Implementation\\n\\nEach operation is implemented by parallel computation on every processor, and sometimes collective\\ncommunication. We describe the implementations of some important operations here:\\n\\nComponent-wise Operations Mesh-TensorFlow supports component-wise operations where the\\nshapes (and hence the layouts) of the input and output tensors are identical. These are trivially\\nimplemented by parallel operations on each processor to compute that processor’s slice of the output\\nfrom that processor’s slice(s) of the input(s).\\n\\nReduction (reduce_sum(), reduce_max(), etc.) Mesh-TensorFlow supports reductions where the\\noutput dimensions are a subset of the input dimensions. These can be implemented by local reductions\\nof each slice, followed by MPI-allreduce across any mesh dimensions corresponding to reduced-out\\nTensor dimensions. The allreduce operation is necessary because the local reduction only sums across\\na subset of the split tensor-dimension. Bandwidth-efficient implementations of allreduce exist when\\nthe processors for each group are connected in any type of tree. [5] [6]\\n\\nEinstein Summation (matrix multiplication, etc.) Einstein-summation (einsum) notation (as\\ndefined in numpy, TensorFlow, etc.) is a way of expressing a class of operations including (batch)\\nmatrix multiplication, reductions and broadcasts, where the operation is defined by the names of the\\ndimensions of the input and output tensors. Mesh-TensorFlow’s use of named dimensions makes\\nusing einsum particularly convenient. Einsum can be defined as broadcasting all inputs to a shape\\nconsisting the union of all their dimensions, multiplying them component-wise, then reducing out all\\ndimensions not in the specified output shape. Einsum is implemented by parallel einsum operations\\non each processor of that processor’s input slices, followed by MPI-allreduce across any mesh\\ndimensions corresponding to reduced-out Tensor dimensions.\\n\\n3\\n\\n\\n\\n6.1 Reshape\\n\\nWhile reshape is simple in the non-distributed case, Mesh-TensorFlow reshape can require network\\ncommunication, since the layout of the output tensor may differ from that of the input tensor. Even\\nkeeping the same dimension sizes, changing the dimension names (and hence the layout) can result in\\nseveral different communication patterns: If a dimension is split in the input but not in the output, the\\nimplementation involves MPI-allgather communication across the corresponding mesh-dimension. If\\na dimension is split in the output but not in the input, the implementation involves no communication,\\njust slicing on each processor. MPI-alltoall is used in the case where different dimensions in the\\ninput and the output are split across the same mesh dimension, as might be the case when switching\\nbetween data-parallelism and model-parallelism for different layers of the same model, as in [20].\\n\\n7 Mesh-TensorFlow syntax\\n\\nThe Mesh-TensorFlow language is nearly identical to TensorFlow [16], with the familiar notions of\\ngraphs, tensors, operations, variables, devices (called meshes), and automatic gradient computation.\\nThe principal difference is that in Mesh-TensorFlow, tensor-dimensions have a name as well as a\\nsize. The shape of each tensor is a statically-known tuple of such dimensions. Shapes are inferred\\nautomatically when possible, as they are in TensorFlow. Binary component-wise operations like\\naddition employ implicit broadcasting in the case where the shape of one operand is a subset of the\\nshape of the other.\\n\\nThe initial implementation of Mesh-TensorFlow is a Python library. The user builds a Mesh-\\nTensorFlow graph in python, which the library \"lowers\" to generate part of a TensorFlow graph. As\\nof the writing of this paper, implementations exist for generating SPMD TensorFlow code for TPUs,\\nor MIMD code (using device placement) for multi-CPU/GPU configurations.\\n\\n8 Example: Two Fully-Connected Layers\\n\\nWe consider a simple example of two fully-connected layers in the middle of a neural network. The\\ninput layer x and the output layer y each have dio units, and the hidden layer h has dh units. The\\nhidden layer also has a bias and Relu activation.\\n\\ny = Relu(xw + bias)v (1)\\n\\nThis Mesh-TensorFlow code fragment runs these layers on a batch x of batch_size = b inputs.\\n\\n...\\nbatch = mtf.Dimension(\"batch\", b)\\nio = mtf.Dimension(\"io\", d_io)\\nhidden = mtf.Dimension(\"hidden\", d_h)\\n# x.shape == [batch, io]\\nw = mtf.get_variable(\"w\", shape=[io, hidden])\\nbias = mtf.get_variable(\"bias\", shape=[hidden])\\nv = mtf.get_variable(\"v\", shape=[hidden, io])\\nh = mtf.relu(mtf.einsum(x, w, output_shape=[batch, hidden]) + bias)\\ny = mtf.einsum(h, v, output_shape=[batch, io])\\n...\\n\\nThe code above defines only the mathematical model. We now discuss several different computation\\nlayouts. Each will produce identical results, but will have different performance characteristics. We\\nalso provide illustrations of the layouts in Appendix A.\\n\\n8.1 Data-Parallel Layout\\n\\nTo train the above model in data-parallel mode on a mesh of n processors, we would define:\\n\\nmesh_shape = [(\"all\", n)]\\ncomputation_layout = [(\"batch\", \"all\")]\\n\\n4\\n\\n\\n\\nWhen the Mesh-TensorFlow graph is compiled with this layout, the parameter tensors w, v, and bias\\nare replicated on all processors, but the activation matrices x, h, y, etc. are split across the batch\\ndimension. For example, each processor keeps a slice of x with shape [ bn , dio].\\n\\nThere is no inter-processor communication in the forward pass. However, the gradient computations\\nfor the parameters are mtf.einsum operations which reduce out the batch dimension, and hence\\nproduce Allreduce operations when they are compiled. The number of values allreduced per\\nprocessor is equal to the number of parameters, approximately 2diodh.\\n\\n8.2 Model-Parallel Layout\\n\\nRather than splitting the batch, we can split the units in the hidden layer:\\n\\nmesh_shape = [(\"all\", n)]\\ncomputation_layout = [(\"hidden\", \"all\")]\\n\\nWhen the Mesh-TensorFlow graph is compiled with this layout, the input and output layers x, and y\\nare replicated on all processors, but the hidden activations h and the parameter tensors w, v and bias\\nare all split across the hidden dimension. For example, each processor keeps a slice of w with shape\\n[dio,\\n\\ndh\\nn ] and a slice of v with shape [\\n\\ndh\\nn , dio].\\n\\nWhen computing y, the split hidden dimension is reduced out. Consequently, the results of that\\ncomputation get allreduced across all processors. A similar allreduce happens in computing the\\ngradients on x. In all, the number of values allreduced per processor is 2bdio.\\n\\n8.3 Data-Parallel, Model-Parallel Layouts\\n\\nOn a two-dimensional mesh of r × c processors, we can employ both data-parallelism and model-\\nparallelism:\\n\\nmesh_shape = [(\"rows\", r), (\"cols\", c)]\\ncomputation_layout = [(\"batch\", \"rows\"), (\"hidden\", \"cols\")]\\n\\nIn this layout, each row of processors handles a fraction of the batch, while each column of processors\\nhandles a fraction of the hidden units. Each processor keeps a slice of x with shape [ br , dio], with\\nprocessors in the same row having identical slices. The hidden activation tensor h is tiled in two\\ndimensions, with each processor keeping a slice with shape [ br ,\\n\\ndh\\nc ].\\n\\nThis layout causes partitioned-allreduce operations in several places. For example, in computing y,\\nwe reduce out the hidden dimension, which is split over the cols dimension of the mesh, so the\\nresults of the operation need to be summed up by processor-column, as opposed to over the entire\\nmesh. In all, the number of values allreduced per processor is 2bdior +\\n\\n2diodh\\nc\\n\\nIf we have a three-dimensional mesh of processors, we can even split the computation in three\\ndimensions:\\n\\nmesh_shape = [(\"rows\", r), (\"cols\", c), (\"planes\", p)]\\ncomputation_layout = [\\n\\n(\"batch\", \"rows\"), (\"hidden\", \"cols\"), (\"io\", \"planes\"])\\n\\nIn this case, every matrix in the computation is tiled across two mesh dimensions and replicated in\\nthe third, and every einsum requires an allreduce across one mesh dimension.\\n\\n8.4 Inefficient Layouts\\n\\nFor a computation layout to be efficient, all expensive operations need to be split (as opposed to\\nreplicated) across all mesh dimensions. For example, the empty layout below produces correct results,\\nbut since it replicates all computation on every processor, it saves no time or memory. A general rule\\nis that any expensive einsum operation should have one input dimension that is split across each\\nbatch dimension.\\n\\nmesh_shape = [(\"all\", n)]\\ncomputation_layout = []\\n\\n5\\n\\n\\n\\n8.5 Illegal Layouts\\n\\nThe computation layout below is illegal, because it causes the tensor h to have two dimensions which\\nare split across the same dimension of the mesh.\\n\\nmesh_shape = [(\"all\", n)]\\ncomputation_layout = [(\"batch\", \"all\"), (\"hidden\", \"all\")]\\n\\n8.6 Performance Comparison\\n\\nLayout Comp. Time Comm. Time communicationcomputation Memory/Processor\\n\\n[] bdiodh 0 0 bdio + bdh + diodh\\n\\n[(\"batch\", \"all\")] bdiodhn diodh\\nn\\nb\\n\\nb\\nndio +\\n\\nb\\nndh + diodh\\n\\n[(\"hidden\", \"all\")] bdiodhn diob\\nn\\ndh\\n\\nbdio + b\\ndh\\nn + dio\\n\\ndh\\nn\\n\\n[(\"batch\", \"rows\"),\\n(\"hidden\", \"cols\")]\\n\\nbdiodh\\nrc dio(\\n\\nb\\nr +\\n\\ndh\\nc )\\n\\nc\\ndh\\n\\n+ rb\\nb\\nrdio +\\n\\nb\\nr\\ndh\\nc + dio\\n\\ndh\\nc\\n\\n[(\"batch\", \"rows\"),\\n(\"hidden\", \"cols\"),\\n(\"io\", \"planes\")]\\n\\nbdiodh\\nrcp\\n\\nb\\nr\\ndio\\np +\\n\\nb\\nr\\ndh\\nc +\\n\\ndio\\np\\n\\ndh\\nc\\n\\nc\\ndh\\n\\n+ pdio +\\nr\\nb\\n\\nb\\nr\\ndio\\np +\\n\\nb\\nr\\ndh\\nc +\\n\\ndio\\np\\n\\ndh\\nc\\n\\nTable 1: Computation, communication and memory costs for different layouts of the computation in\\nAlgorithm 1. Constant factors and lower-order terms are dropped.\\n\\nTable 1 shows the computational costs associated with our example computation layouts. The\\ncomputation time is dominated by that of einsum operations. The communication time comes from\\nthe Allreduce operations, which are necessary whenever the inner dimension of einsum is split.\\nAssuming that the mesh has physical links between all pairs of logically adjacent processors, each\\nAllreduce operations can be done in time proportional to the size of one slice divided by the per-link\\nnetwork bandwidth [6].\\n\\nThe network-boundedness of the computation is proportional to the value shown in the table column\\nmarked communicationcomputation , with the constant of proportionality depending on the ratio of communication\\nand computation speeds on the given hardware. In the data-parallel layout, the value is nb , the inverse\\nof the per-processor batch size. Performance suffers if the per-processor batch is too small. In\\nthe model-parallel layout, the value is ndh , the inverse of the number of hidden units per processor.\\nPerformance suffers if the hidden layer is sliced too finely. For good performance, batch size is\\nirrelevant, but we need the hidden layer to get larger as we increase the number of processors. In the\\nfirst data-parallel, model-parallel layout, the value is cdh +\\n\\nr\\nb . In this layout, we can quadratically\\n\\nincrease the number of processors while only linearly increasing the batch size and hidden layer\\nsizes necessary to maintain good efficiency. The final layout lets us cubically increase the number of\\nprocessors in a 3-dimensional mesh, while only linearly increasing the batch size and the layer sizes.\\n\\n9 Model-Parallel \"Transformer\"\\n\\nWe implemented a model-parallel layout of the Transformer attention-based sequence-to-sequence\\nmodel described in [21]. The complete implementation is available in the tensor2tensor library on\\ngithub. The layout is given by:\\n\\nmesh_shape = [(\"all\", n)]\\ncomputation_layout = [\\n\\n(\"vocab\", \"all\"), (\"d_ff\", \"all\"), (\"heads\", \"all\")]\\n\\nThat is, the dimensions representing the vocabulary size, the size of the feed-forward hidden layer,\\nand the number of attention heads are each split across all processors. This layout works because\\nevery expensive operation in the model has exactly one of these dimensions, and no tensor in the\\nmodel has more than one. Similarly to the model-parallel layout for our example network (Section\\n8.2), network-boundedness and memory usage per processor remain constant if we scale all of these\\ndimensions proportionally to the number of processors. We did just this, training transformer models\\n\\n6\\n\\n\\n\\nwith ever larger hidden layers and numbers of attention heads on ever larger TPU clusters (we did not\\nincrease the vocabulary size). As expected, we saw very similar performance characteristics between\\nthe models. This scaling turns out to be highly beneficial to model quality (Section 9.1).\\n\\nTo use even more processors, we combined this model-parallelism with data parallelism, splitting\\nthe batch across one dimension of a 2-dimensional TPU mesh and the dimensions described above\\nacross the other dimension of the mesh:\\n\\nmesh_shape = [(\"rows\", r), (\"cols\", c\")]\\ncomputation_layout = [(\"batch\", \"rows\"), (\"vocab\", \"cols\"),\\n\\n(\"d_ff\", \"cols\"), (\"heads\", \"cols\")]\\n\\nThis layout maintains constant performance if the batch size is scaled proportionally to r and the\\nmentioned model dimensions are scaled proportionally to c. Using this layout, we trained Transformer\\nmodels with feed-forward hidden dimensions up to 262144 and up to 256 attention heads on 2-\\ndimensional TPUv2 meshes of up to 16x32=512 cores, maintaining computational efficiency of over\\n50% (6 PFLOP/s out of a maximum 11.5 PFLOP/s) on the largest models.\\n\\n9.1 Experiments and Results\\n\\nTo examine the benefit of scaling the Transformer model in the manner suggested by the previous\\nsection, we trained such models on machine translation and language modeling tasks. Results are\\ngiven in Tables 2 and 3.\\n\\nFor the billion-word language modeling benchmark, we trained the models for 10 epochs. The largest\\nmodel (4.9B parameters) took 13 hours to train on a 512-core TPUv2 cluster. Batch size for all models\\nwas 256 sequences of 256 tokens each (each sequence was the concatenation of multiple training\\nsentences). The batch was split along the mesh dimension of size 16 and the model dimensions were\\nsplit along the mesh dimension of size 32. Per-word dev-perplexity for the largest model was 24.0,\\nbut dropped to 23.5 when the model was evaluated with the logits multiplied by 0.9 (likely due to\\noverfitting). This represents the best published result on this dataset. As expected, perplexity was\\nlower for larger models. We have included random samples from these models in Appendix C. On\\nthe languagemodel_wiki_noref_v128k_l1k dataset from the Tensor2Tensor library1, consisting\\nof over 5 billion tokens of text from Wikipedia, perplexity continued to improve significantly with a\\nmodel size of 5 billion parameters.\\n\\nOn the WMT14 En-Fr translation tasks (3), we trained the models for 3 epochs. The largest model\\n(2.9B parameters) was trained for 22 hours on a 128-core TPUv2 cluster. Quality improved with\\nmodel size, with the largest model achieved BLEU score 43.9 (evaluated using sacrebleu), the\\nbest published result to date. For the WMT14 En-De dataset, gains from model size were smaller,\\npresumably due to the small size of the training data.\\n\\nAdditional details about the configurations for these experiments are available as part of the\\ntensor2tensor library on github.\\n\\nTable 2: Transformer-Decoder Language Models: dmodel = 1024, dk = dv = 256\\n\\ndff heads Parameters Billion-Word Benchmark Wikipedia\\n(Billions) Word-Perplexity Subword-Perplexity\\n\\n4096 4 0.14 35.0 8.74\\n8192 8 0.22 31.7 8.03\\n\\n16384 16 0.37 28.9 7.44\\n32768 32 0.67 26.8 6.99\\n65516 64 1.28 25.1 6.55\\n\\n131072 128 2.48 24.1 6.24\\n262144 256 4.90 24.0(23.5) 6.01\\nPrev Best DNN [20] 6.5 28.0\\nBest DNN Ensemble [17] 26.1\\nBest Ensemble (different methods)[17] > 100 23.7\\n\\n1No published results exist for this dataset.\\n\\n7\\n\\n\\n\\nTable 3: Transformer Machine-Translation Results. dmodel = 1024, dk = dv = 128\\n\\ndff heads dk, dv Parameters WMT14 EN-DE WMT14 EN-FR\\n(Billions) BLEU BLEU\\n\\n2048 4 128 0.15 25.5 41.8\\n4096 8 128 0.24 26.5 42.5\\n8192 16 128 0.42 27.1 43.3\\n\\n16384 32 128 0.77 27.5 43.5\\n32768 64 128 1.48 27.5 43.8\\n65536 128 128 2.89 26.7 43.9\\n4096 16 64 0.21 28.4 41.8 [21]\\n\\n10 Related Work\\n\\nA large part of deep learning computations is a series of matrix multiplications and tensor contractions\\n(Einsums). Distributed matrix multiplication is a well-studied problem in high performance computing.\\nEfficient algorithms partition the computational space, instead of partitioning work by the output\\nmatrix/tensor (owners compute), to minimize communication. This technique is sometimes called\\niteration space tiling [2], replication [8], or task parallelism [15]. Mesh-TensorFlow can express\\na wide range of uniform partitionings of the iteration space and therefore can adopt many best\\nknown mappings, e.g., 3D [3, 1] and 2.5D [8] algorithms for square matrices, CARMA [13] for\\nrectangular matrices, 1.5D [18] algorithm for matrices with different sparsities, best tile sizes for\\ndirect convolutions [22], etc., although sometimes with higher memory requirements. Furthermore,\\nin most existing work, when multiple multiplications are composed together, the user has to specify\\nthe data layout for each matrix separately [26]. Mesh-TensorFlow lets the user name the dimension\\nto split, simplifying the process and allowing for much easier mapping explorations. Feature-wise,\\nMesh-TensorFlow shares many similarities with the Cyclops Tensor Framework [14], a distributed\\ntensor contraction library originally developed for quantum chemistry applications, which also\\nsupports replication and arbitrary mappings.\\n\\nIn the context of deep learning, partitioning the iteration space, e.g., interpolating between data and\\nmodel parallelism, is relatively new. Gholami et al. [19] analytically showed that using both data and\\nmodel parallelism at the same time can be more beneficial than using just one of them. Building on\\ntop of 1.5D matrix multiplication algorithms, their algorithm can support replication and arbitrary\\nprocessor grid shapes. However, they only explored the parallelization of AlexNet [10] and they\\nhave not implemented the algorithm. Jia et al. [24, 23] implemented a framework that uses cost\\nmodeling to pick the best parallelization strategy, including how to partition work for each operation.\\nTheir parallelizable dimensions are defined as the set of all divisible dimensions in the output tensor\\n(owners compute), and therefore their mapping can be suboptimal in terms of communication. We\\nexpand on this in Appendix B.\\n\\n11 Future Work\\n\\nThe Mesh-TensorFlow library is available at https://github.com/tensorflow/mesh and is\\nunder active development. Some potential areas for development are:\\n\\n• Automated search for optimal computation layout.\\n• Implementations of different models and operations. For example, convolutions on spatially-\\n\\npartitioned tensors will require the communication of \"halo\" regions, as described in [25].\\n• Implementation of SPMD programming on CPU/GPU clusters.\\n\\n12 Conclusion\\n\\nIn this paper, we introduce the Mesh-TensorFlow language, facilitating a broad class of SPMD\\ndistributed tensor computations. Applying Mesh-TensorFlow to the Transformer model, we are able\\nto train models with 5 billion parameters on up to 512-core clusters, establishing new state-of-the-art\\nresults for WMT14 En-Fr translation task and the One Billion Word language modeling benchmark.\\n\\n8\\n\\n\\n\\nReferences\\n\\n[1] Jarle Berntsen. “Communication efficient matrix multiplication on hypercubes”. In: Parallel\\ncomputing 12.3 (1989), pp. 335–342.\\n\\n[2] M. Wolfe. “More Iteration Space Tiling”. In: Proceedings of the 1989 ACM/IEEE Conference\\non Supercomputing. Supercomputing ’89. Reno, Nevada, USA: ACM, 1989, pp. 655–664.\\nISBN: 0-89791-341-8. DOI: 10.1145/76263.76337. URL: http://doi.acm.org/10.\\n1145/76263.76337.\\n\\n[3] Alok Aggarwal, Ashok K. Chandra, and Marc Snir. “Communication Complexity of PRAMs”.\\nIn: Theor. Comput. Sci. 71.1 (Mar. 1990), pp. 3–28. ISSN: 0304-3975. DOI: 10.1016/0304-\\n3975(90)90188-N. URL: http://dx.doi.org/10.1016/0304-3975(90)90188-N.\\n\\n[4] Dror Irony, Sivan Toledo, and Alexander Tiskin. “Communication lower bounds for distributed-\\nmemory matrix multiplication”. In: Journal of Parallel and Distributed Computing 64.9 (2004),\\npp. 1017–1026.\\n\\n[5] Pitch Patarasuk and Xin Yuan. “Bandwidth optimal all-reduce algorithms for clusters of\\nworkstations”. In: 69 (Feb. 2009), pp. 117–124.\\n\\n[6] Nikhil Jain and Yogish Sabharwal. “Y.: Optimal bucket algorithms for large mpi collectives\\non torus interconnects”. In: In: Proceedings of the 24th ACM International Conference on\\nSupercomputing. 2010, pp. 27–36.\\n\\n[7] Grey Ballard et al. “Minimizing communication in numerical linear algebra”. In: SIAM Journal\\non Matrix Analysis and Applications 32.3 (2011), pp. 866–901.\\n\\n[8] Edgar Solomonik and James Demmel. “Communication-Optimal Parallel 2.5D Matrix Multi-\\nplication and LU Factorization Algorithms”. In: Euro-Par. Vol. 6853. 2011, pp. 90–109. ISBN:\\n978-3-642-23396-8.\\n\\n[9] Jeffrey Dean et al. “Large Scale Distributed Deep Networks”. In: Proceedings of the 25th\\nInternational Conference on Neural Information Processing Systems - Volume 1. NIPS’12.\\nLake Tahoe, Nevada: Curran Associates Inc., 2012, pp. 1223–1231. URL: http://dl.acm.\\norg/citation.cfm?id=2999134.2999271.\\n\\n[10] Alex Krizhevsky, Ilya Sutskever, and Geoffrey E Hinton. “Imagenet classification with deep\\nconvolutional neural networks”. In: Advances in neural information processing systems. 2012,\\npp. 1097–1105.\\n\\n[11] Grey Ballard et al. “Communication optimal parallel multiplication of sparse random matrices”.\\nIn: Proceedings of the twenty-fifth annual ACM symposium on Parallelism in algorithms and\\narchitectures. ACM. 2013, pp. 222–231.\\n\\n[12] Michael Christ et al. Communication Lower Bounds and Optimal Algorithms for Programs\\nThat Reference Arrays - Part 1. Tech. rep. UCB/EECS-2013-61. EECS Department, University\\nof California, Berkeley, May 2013. URL: http://www.eecs.berkeley.edu/Pubs/\\nTechRpts/2013/EECS-2013-61.html.\\n\\n[13] James Demmel et al. “Communication-optimal parallel recursive rectangular matrix multi-\\nplication”. In: Parallel & Distributed Processing (IPDPS), 2013 IEEE 27th International\\nSymposium on. IEEE. 2013, pp. 261–272.\\n\\n[14] Edgar Solomonik et al. “A massively parallel tensor contraction framework for coupled-cluster\\ncomputations”. In: Journal of Parallel and Distributed Computing 74.12 (2014), pp. 3176–\\n3190.\\n\\n[15] Justus A. Calvin, Cannada A. Lewis, and Edward F. Valeev. “Scalable Task-based Algorithm\\nfor Multiplication of Block-rank-sparse Matrices”. In: Proceedings of the 5th Workshop\\non Irregular Applications: Architectures and Algorithms. IA3 ’15. Austin, Texas: ACM,\\n2015, 4:1–4:8. ISBN: 978-1-4503-4001-4. DOI: 10.1145/2833179.2833186. URL: http:\\n//doi.acm.org/10.1145/2833179.2833186.\\n\\n[16] Martin Abadi et al. TensorFlow: Large-Scale Machine Learning on Heterogeneous Systems.\\nSoftware available from tensorflow.org. 2015. URL: https://www.tensorflow.org/.\\n\\n[17] Rafal Jozefowicz et al. “Exploring the Limits of Language Modeling”. In: CoRR\\nabs/1602.02410 (2016). arXiv: 1602.02410. URL: http://arxiv.org/abs/1602.02410.\\n\\n[18] Penporn Koanantakool et al. “Communication-Avoiding Parallel Sparse-Dense Matrix-Matrix\\nMultiplication”. In: 2016 IEEE International Parallel and Distributed Processing Symposium\\n(IPDPS). May 2016, pp. 842–853. DOI: 10.1109/IPDPS.2016.117.\\n\\n9\\n\\nhttp://dx.doi.org/10.1145/76263.76337\\nhttp://doi.acm.org/10.1145/76263.76337\\nhttp://doi.acm.org/10.1145/76263.76337\\nhttp://dx.doi.org/10.1016/0304-3975(90)90188-N\\nhttp://dx.doi.org/10.1016/0304-3975(90)90188-N\\nhttp://dx.doi.org/10.1016/0304-3975(90)90188-N\\nhttp://dl.acm.org/citation.cfm?id=2999134.2999271\\nhttp://dl.acm.org/citation.cfm?id=2999134.2999271\\nhttp://www.eecs.berkeley.edu/Pubs/TechRpts/2013/EECS-2013-61.html\\nhttp://www.eecs.berkeley.edu/Pubs/TechRpts/2013/EECS-2013-61.html\\nhttp://dx.doi.org/10.1145/2833179.2833186\\nhttp://doi.acm.org/10.1145/2833179.2833186\\nhttp://doi.acm.org/10.1145/2833179.2833186\\nhttps://www.tensorflow.org/\\nhttp://arxiv.org/abs/1602.02410\\nhttp://arxiv.org/abs/1602.02410\\nhttp://dx.doi.org/10.1109/IPDPS.2016.117\\n\\n\\n[19] Amir Gholami et al. “Integrated Model and Data Parallelism in Training Neural Networks”.\\nIn: arXiv preprint arXiv:1712.04432 (2017).\\n\\n[20] Noam Shazeer et al. “Outrageously Large Neural Networks: The Sparsely-Gated Mixture-of-\\nExperts Layer”. In: CoRR abs/1701.06538 (2017). arXiv: 1701.06538. URL: http://arxiv.\\norg/abs/1701.06538.\\n\\n[21] Ashish Vaswani et al. “Attention Is All You Need”. In: CoRR abs/1706.03762 (2017). arXiv:\\n1706.03762. URL: http://arxiv.org/abs/1706.03762.\\n\\n[22] James Demmel and Grace Dinh. “Communication-Optimal Convolutional Neural Nets”. In:\\narXiv preprint arXiv:1802.06905 (2018).\\n\\n[23] Zhihao Jia, Matei Zaharia, and Alex Aiken. “Beyond Data and Model Parallelism for Deep\\nNeural Networks”. In: arXiv preprint arXiv:1807.05358 (2018).\\n\\n[24] Zhihao Jia et al. “Exploring Hidden Dimensions in Parallelizing Convolutional Neural Net-\\nworks”. In: arXiv preprint arXiv:1802.04924 (2018).\\n\\n[25] Peter Jin, Boris Ginsburg, and Kurt Keutzer. Spatially Parallel Convolutions. 2018. URL:\\nhttps://openreview.net/forum?id=S1Yt0d1vG.\\n\\n[26] Penporn Koanantakool et al. “Communication-Avoiding Optimization Methods for Distributed\\nMassive-Scale Sparse Inverse Covariance Estimation”. In: Proceedings of the Twenty-First\\nInternational Conference on Artificial Intelligence and Statistics. Ed. by Amos Storkey and\\nFernando Perez-Cruz. Vol. 84. Proceedings of Machine Learning Research. Playa Blanca,\\nLanzarote, Canary Islands: PMLR, Apr. 2018, pp. 1376–1386. URL: http://proceedings.\\nmlr.press/v84/koanantakool18a.html.\\n\\n10\\n\\nhttp://arxiv.org/abs/1701.06538\\nhttp://arxiv.org/abs/1701.06538\\nhttp://arxiv.org/abs/1701.06538\\nhttp://arxiv.org/abs/1706.03762\\nhttp://arxiv.org/abs/1706.03762\\nhttps://openreview.net/forum?id=S1Yt0d1vG\\nhttp://proceedings.mlr.press/v84/koanantakool18a.html\\nhttp://proceedings.mlr.press/v84/koanantakool18a.html\\n\\n\\nA Illustrations for the Two Fully-Connected Layers Example\\n\\nThis section provides the illustrations of the four layouts mentioned in the Two Fully-Connected\\nLayers example in Section 8. The overall computation is shown in Figure 1. We draw a matrix\\nmultiplication C = AB by putting A to the left of C and putting B above C. For each matrix, we\\nput its name inside, its number of rows on the left or right side, and its number of columns above or\\nbelow it. We omit the numbers of rows or columns that can be implied from adjacent matrices, i.e.,\\nknowing that the multiplication dimensions must match.\\n\\nxb\\n\\ndio\\n\\nwdio\\n\\ndh\\n\\nh\\n\\nv\\n\\ny\\n\\ndh\\n\\ndio\\n\\nFigure 1: The overall computation of the Two Fully-Connected Layers example. First, x is multiplied\\nwith w. The temporary result xw is summed with bias, applied component-wise Relu, and then stored\\nin h. Lastly, we multiply h with v to get y. The component-wise operations and the intermediate\\nmatrix xw are not shown in the figure.\\n\\nFigure 2 presents the purely data-parallel layout with n = 2 processors. We number the processors 0\\nand 1, respectively. The ranks of the processors that store each matrix part are written in blue on the\\nmatrix part. The matrix names are moved to the bottom-left corners. The whole w and v are labeled\\nwith both 0 and 1 because both of them are fully replicated between the two processors. The purely\\nmodel-parallel layout are drawn similarly in Figure 3.\\n\\nFigures 4 and 5 show the mixed data-and-model-parallel layout with a 2-by-2 and a 2-by-2-by-2\\nprocessor meshes, respectively. We give each processor a serialized rank as shown in the figure, and\\nuse the serialized rank to label matrix slices.\\n\\n11\\n\\n\\n\\nx\\nb/n\\n\\ndio w\\n\\ndio\\n\\ndh\\n\\nh\\n\\nv\\n\\ny\\n\\ndh\\n\\ndio\\n\\nb/n\\n0\\n1\\n\\n0\\n1\\n\\n0\\n1\\n\\n0, 1\\n0, 1\\n\\nFigure 2: The data-parallel layout for the Two Fully-Connected Layers example, with n = 2\\nprocessors ∈ {0, 1}. Blue numbers on matrices indicate the ranks of the processors the matrix slices\\nreside on. The batch dimension is split among all processors. w and v are fully replicated.\\n\\nxb\\n\\ndio w\\n\\ndio\\n\\ndh / n\\n\\nh\\n\\nv\\n\\ny\\n\\ndio\\n\\n0 1\\n\\n0 1\\n\\n0\\n\\n1\\n\\n0, 1 0, 1\\n\\ndh / n dh / n\\n\\ndh / n\\n\\nFigure 3: The model-parallel layout for the Two Fully-Connected Layers example, with n = 2\\nprocessors ∈ {0, 1}. Blue numbers on matrices indicate the ranks of the processors the matrix slices\\nreside on. The hidden dimension is split among all processors. x and y are fully replicated.\\n\\nx\\nb/r\\n\\ndio w\\n\\ndio\\n\\nh\\n\\nv\\n\\ny\\n\\ndio\\n\\nb/r\\n0, 1\\n2, 3\\n\\n0\\n2\\n\\n0, 1\\n2, 3\\n\\n 0,\\n2 \\n\\n0, 2dh / c dh / c dh / c\\n\\ndh / c\\n\\n0 1\\n2 3\\n\\nr\\n\\nc\\n\\nProcessor mesh\\n(2 rows × 2 cols)\\n\\n1\\n3\\n\\n 1,\\n3 1, 3\\n\\nFigure 4: The mixed data-and-model-parallel layout for the Two Fully-Connected Layers example.\\nThere are 4 processors, arranged into a 2-by-2 mesh. Each processor is assigned a serialized rank\\nwhich is used to label matrix slices that it owns.\\n\\n12\\n\\n\\n\\nx\\nb/r\\n\\nw\\n\\nh\\n\\nv\\n\\ny\\n\\ndio / p\\n\\nb/r\\n0, 1\\n2, 3\\n\\n0, 4\\n2, 6\\n\\n 0,\\n2 \\n\\n 0,\\n2dh / c dh / c dh / c\\n\\ndh / c\\n\\n0 1\\n2 3\\n\\nr\\n\\nc\\n\\nProcessor mesh\\n(2 rows × 2 cols × 2 planes)\\n\\n1, 5\\n3, 7\\n\\n 1,\\n3 \\n\\n4 5\\n6 7\\n\\nc\\n\\nPlane 0 Plane 1\\n\\ndio / p\\n\\ndio / p dio / p\\n\\ndio / p\\n\\ndio / p\\n\\n4, 5\\n6, 7\\n\\n 4,\\n6 \\n\\n 5,\\n7 \\n\\n 4,\\n6\\n\\n 1,\\n3\\n\\n 5,\\n7\\n\\n0, 1\\n2, 3\\n\\n4, 5\\n6, 7\\n\\nFigure 5: The mixed data-and-model-parallel layout for the Two Fully-Connected Layers example.\\nThere are 8 processors, arranged into a 2-by-2-by-2 mesh. Each processor is assigned a serialized\\nrank which is used to label matrix slices that it owns.\\n\\nB Per-operation Parallelizations and Communication Costs\\n\\nCommunication is much more expensive than computation and is usually the bottleneck in a parallel\\nprogram, especially in distributed setting. The section shows how the more common owner-compute\\nparallelization strategies can be communication-suboptimal. We start with a simplified overview of the\\nparallelization schemes used in distributed matrix multiplication and tensor contractions (Einsums),\\nfocusing on their communication bandwidth costs. (See [4, 7, 12] for rigorous communication lower\\nbounds analyses.) We only discuss distributed matrix multiplication here since the concept is trivially\\ngeneralizable to its tensor counterpart.\\n\\nIteration Space. The iteration space is the set of all index tuples required to compute a problem.\\nFor example, the matrix multiplication problem C = AB computes cij =\\n\\n∑\\nk aikbkj . Its iteration\\n\\nspace consists of all possible tuples (i, j, k) ∈ Z3, 0 ≤ i < u, 0 ≤ j < v, 0 ≤ k < w, where C is\\nu-by-v, A is u-by-w, and B is w-by-v, as shown in Figure 6.\\n\\nA C\\n\\nB\\n\\nu\\n\\nw\\n\\nw\\n\\nv\\n\\nC\\n\\nB\\n\\nA\\n\\ni\\n\\nj\\n\\nk\\n\\nFigure 6: The iteration space of the matrix multiplication problem C = AB. Each voxel (i, j, k)\\nrepresents the computation cij += aikbkj .\\n\\nParallelization. Let n be the number of processors. Parallelization corresponds to partitioning\\nthe set of voxels into n (not necessarily) equal subsets for each processor to compute. For matrix\\nmultiplication, the most widely-used partitionings are grouped into three categories [11]: 1D, 2D,\\nand 3D, based on the number of dimensions of the iteration space that are split. Figure 7 shows\\nan example for each category. The left image is 1D partitioning (n = 8) because only the j axis is\\nsplit. The middle image splits axes i and j so it is 2D partitioning (n = 64). The right image is 3D\\npartitioning (n = 64) because all three axes are split.\\n\\n13\\n\\n\\n\\n1D partitioning\\n(8 processors)\\n\\nA\\n\\nB\\n\\nC\\n\\ni\\n\\nj\\n\\nk\\n\\n2D partitioning \\n(64 processors)\\n\\n3D partitioning\\n(64 processors)\\n\\nAA\\n\\nB\\n\\nC C\\n\\nB\\n\\nFigure 7: Example partitionings of the iteration space for the matrix multiplication problem. The\\nnames 1D, 2D, and 3D comes from the number of dimensions that are split.\\n\\nOwner computes. Owner-compute strategies split a matrix (or matrices) equally among processors\\nand each processor is responsible for all computations related to the matrix chunk it owns. The 1D\\nand 2D partitionings in Figure 7 are owner-compute strategies. In 1D case, each processor owns a\\nslice of matrices B and C each, and computes the whole slab requires for its slice of C. In 2D case,\\neach processor owns a patch of C and computes a pencil corresponding to it. The 3D partitioning\\ngoes beyond owner-compute rule, since no processor is responsible for all computations associated\\nwith the data it has. Owner-compute schemes are more common because they are the most intuitive\\nas we often view the output data as the unit of work. We will show why its communication costs are\\nusually suboptimal in the next paragraph.\\n\\nCommunication. Here, we focus on the number of elements that have to be transferred by a\\nprocessor. Let V be the voxel subset assigned to a processor, and VA, VB , and VC be the projections\\nof V onto the A, B, and C planes, respectively. The total number of elements a processor has to\\naccess to complete its computation is simply |VA|+ |VB |+ |VC |, where | · | denotes set cardinality.\\nSince a processor can only hold a limited amount of data in memory, the rest of the elements must\\ncome through communication. The volume of the subset designates the computational workload.\\nAs mentioned in the paper, we would like to maximize the computation-to-communication ratio,\\ntherefore we want V to have as low surface-to-volume ratio as possible. Assuming V only takes\\ncuboid shapes, then the best shape is a cube.\\n\\nOwner-compute methods fall short when it cannot partition the space into cubes. To illustrate, we\\ncompare 2D and 3D partitionings for p = 64 processors in Figure 7. When u = v = w, each pencil\\nin the 2D partitioning has a computation-to-communication ratio,\\n\\nr2D =\\n2u3/64\\n\\nu2/64 + 2u2/8\\n= 2u/17 ≈ 0.12u.\\n\\nEach cube in the 3D partitioning has a higher computation-to-communication ratio,\\n\\nr3D =\\n2u3/64\\n\\n3u2/16\\n= u/6 ≈ 0.17u.\\n\\nMesh-TensorFlow. Mesh-TensorFlow can express more fine-grained parallelism than owner-\\ncompute, even though all we have to do is just specifying the data layout for each tensor. That\\nis because our layout allows the tensor to be replicated. This, combines with multiple layouts from\\nmultiple tensors involved in an operation, can split the iteration space in as many dimensions as\\nnecessary (up to the rank of the iteration space).\\n\\nC Random Samples from Transformer Language Models Trained on\\nBillion-Word Language Modeling Benchmark\\n\\nThe following samples were randomly generated from the Transformer language models described\\nin the paper. All sentences were seeded with the initial words \"According to Ray Kurzweil\", and\\ncontinued randomly by the model. While all the models produce mostly grammatical sentences, the\\nlarger models exhibit more world knowledge.\\n\\n14\\n\\n\\n\\nC.1 Model with 0.14B Parameters, PPL=35.0\\n\\nAccording to Ray Kurzweil ...\\n\\n• ... , professor of musical economics at the University of California , Berkeley , the military\\n’s \" biggest challenge \" might have been growing the region ’s growing urban sprawl .\\n\\n• ... , the chief executive of ITC Emerging Markets , the metals sector should contribute about\\n$ 210 billion by year-end 2008 – a figure that has now risen to $ 3 billion .\\n\\n• ... , the head of PMI , he has now written off all his employees fairly .\\n• ... , senior vice president of sales and marketing at Aspen , there is a percentage of the online\\n\\nresponse for the auto company escalating to 18 customers and increasing to 30 days a year .\\n\\n• ... , director of the Economic Policy Institute , India ranks 21st out of 221 nations in the\\ncurrent budget deficit , which ranks 13th globally .\\n\\n• ... , Victor Hesketh ’s food agency that produces , sends and distributes the raw beef and\\npork through the state ’s Food and Drug Administration , and they ’re also allowed to take\\nthe lamb by their own account alongside the chicken and veal .\\n\\n• ... , the author of \" Smoking : The Letters of Hysteria and Reclining the State of South\\nCarolina \" ( 2007 ) , 30 percent of liquor ’s coconut is sold on the first batch .\\n\\n• ... , an MIT student who is not involved in anything more than a stock-market move , the\\nlatest system of debt and bankruptcy parallels the completely unregulated collection of debt\\nthat emerged in the early 1990s , when a financial industry boom brought a financial crisis\\nthat spilled almost everywhere from the United States .\\n\\nC.2 Model with 0.37B Parameters, PPL=28.9\\n\\nAccording to Ray Kurzweil ...\\n\\n• ... , the owner and web guru at Stanford University , even a single person might fall in love\\nwith the internet simultaneously .\\n\\n• ... , PhD , a professor of computer science at Princeton who has staked his reputation on the\\nability of code technicians to simultaneously amplify a cursor ’s legal weight , machines\\nwill go digital by using meta-dimensions instead of a brick , and design schemes closer to\\nthe core of GPUs .\\n\\n• ... , chief executive of the company , very few people work through chronology , and most\\npeople can ’t use tables on their machines .\\n\\n• ... , we are saving the most jobs in the world .\\n• ... , creator of the Star Wars creator and creator of the popular game , \" Indiana Jones and the\\n\\nKingdom of the Crystal Skull , \" here comes Martin Schafer ( \" Spider-Man 3 \" ) to describe\\nthe businessman as a grand master .\\n\\n• ... , a technology expert at the Massachusetts Institute of Technology and a host of from\\nacademia , Ardipithecus ramidus was frequently incubated with solar-powered cells to\\nfrighten away and frighten out the predators , and housed in them so they could damage\\nLego ’s control panels .\\n\\n• ... , the famously headstrong and egocentric stack-on-stack , a keyboard is more than a part\\nof the laptop ’s muscle when it is standing upright rather than crouching , and its outlet at\\nthe right end of the screen was probably the key to how the phone turned into its belly .\\n\\n• ... , founder of the Stanford-funded company , similar \" recycled book \" concepts are also\\nmore of an obsession , as this lets authors track their emotions in print product forms and\\nrefuse to look at one all- , -certain identity .\\n\\nC.3 Model with 1.28B Parameters, PPL=25.1\\n\\nAccording to Ray Kurzweil ...\\n\\n15\\n\\n\\n\\n• ... , a transplant surgeon and Harvard astrophysicist , the results are illuminated in Honolulu\\n, Vietnam .\\n\\n• ... of UNK , a software company in California , computer games are alive and well , with\\nmillions of gamers , but most games do not make money .\\n\\n• ... , the James Watson and James Watson Professor of Physics at MIT , if we all assume that\\nthe project will continue to go ahead , we will eventually be in an era when human beings\\nare capable of figuring out just what our genetic make-up is focused on .\\n\\n• ... , the physicist who has kept many of these principles alive , the world has vanished into \"\\nmore and more of the static world \" – and in many ways we ’re losing the earth ’s ability to\\nappreciate water .\\n\\n• ... , creator and the only original idea from the series , the tablet is expected to be a device\\nthat combines a USB 2.0 card with an iPad , a laptop and an iPod Touch – with UNK\\nsharp-wired connections to the Internet .\\n\\n• ... and a panel of experts testifying in Los Angeles , six years in Congress attempts to\\nimprove \" brain \" of Americans by hitting them with a $ 50 annual fee , then having them\\nlikely pay the company $ 3,000 for every additional year in life they are in a job .\\n\\n• ... , creator of the Review of Medical UNK , the organisation could be the \" holy grail \" of\\ndegenerative brain disease .\\n\\n• ... , music analyst and co-founder of zero-carbon quantum computing firm Redpoint , if you\\nlisten carefully , you ’ll hear a far more universal \" idea \" of how this new car is supposed to\\nbe or what it should not be , or how much going to cost .\\n\\nC.4 Model with 4.9B Parameters, PPL=24.0\\n\\nAccording to Ray Kurzweil ...\\n\\n• ... , chief technology officer for the US Department of Energy , aviation has \" potential to be\\nthe largest and fastest growing source of consumer and commercial emissions . \"\\n\\n• ... , the futurist son of the futurist who wrote The Singularity is Near , the \" early days \" of\\nGoogle are not the right time to push forward with the next great leap .\\n\\n• ... , creator of the first modern computer , the sexy cyborg was the brainchild of an MIT\\nprofessor , Thomas Harris , and a former banking entrepreneur , Henry Lee , who was\\nlooking for an UNK , a light that could be recovered and used to light up the Internet .\\n\\n• ... , the inventor of the modern personal computer , the shrinking human brain could\\neventually replace the Internet as a tool of human intelligence and imagination .\\n\\n• ... , the expert and co-author of \" The Singularity is Near : Comprehending the Technological\\nFuture of Engineering , \" people are looking for ways to protect and make their lives better .\\n\\n• ... , creator of the Gaia hypothesis , earlier computer systems should become not just more\\nefficient , but more-efficient , increasing their efficiency by reducing human errors ( the\\nunexpected , but often the regrettable ) and even the number of errors .\\n\\n• ... , who will make an appearance at this year ’s Consumer Electronics Show in Las Vegas\\nnext week , these mobile gadgets will be able to \" talk \" to each other .\\n\\n• ... , the futurist turned futurist , the onset of Alzheimer ’s coincided precisely with the rate\\nof unemployment in America .\\n\\n16\\n\\n\\n\\t1 Introduction\\n\\t2 Hardware Assumptions\\n\\t3 Inspiration: Single-Program-Multiple-Data (SPMD) Batch-Splitting\\n\\t4 Mesh-TensorFlow: Beyond Batch Splitting\\n\\t5 Tensor Representations\\n\\t6 Operation Implementation\\n\\t6.1 Reshape\\n\\n\\t7 Mesh-TensorFlow syntax\\n\\t8 Example: Two Fully-Connected Layers\\n\\t8.1 Data-Parallel Layout\\n\\t8.2 Model-Parallel Layout\\n\\t8.3 Data-Parallel, Model-Parallel Layouts\\n\\t8.4 Inefficient Layouts\\n\\t8.5 Illegal Layouts\\n\\t8.6 Performance Comparison\\n\\n\\t9 Model-Parallel \"Transformer\"\\n\\t9.1 Experiments and Results\\n\\n\\t10 Related Work\\n\\t11 Future Work\\n\\t12 Conclusion\\n\\tA Illustrations for the Two Fully-Connected Layers Example\\n\\tB Per-operation Parallelizations and Communication Costs\\n\\tC Random Samples from Transformer Language Models Trained on Billion-Word Language Modeling Benchmark\\n\\tC.1 Model with 0.14B Parameters, PPL=35.0\\n\\tC.2 Model with 0.37B Parameters, PPL=28.9\\n\\tC.3 Model with 1.28B Parameters, PPL=25.1\\n\\tC.4 Model with 4.9B Parameters, PPL=24.0\\n\\n\\n',\n",
       "  'metadata': {'Content-Type': 'application/pdf',\n",
       "   'Creation-Date': '2018-11-07T20:40:24Z',\n",
       "   'Keywords': '',\n",
       "   'Last-Modified': '2018-11-07T20:40:24Z',\n",
       "   'Last-Save-Date': '2018-11-07T20:40:24Z',\n",
       "   'PTEX.Fullbanner': 'This is pdfTeX, Version 3.14159265-2.6-1.40.17 (TeX Live 2016) kpathsea version 6.2.2',\n",
       "   'X-Parsed-By': ['org.apache.tika.parser.DefaultParser',\n",
       "    'org.apache.tika.parser.pdf.PDFParser'],\n",
       "   'X-TIKA:parse_time_millis': '722',\n",
       "   'access_permission:assemble_document': 'true',\n",
       "   'access_permission:can_modify': 'true',\n",
       "   'access_permission:can_print': 'true',\n",
       "   'access_permission:can_print_degraded': 'true',\n",
       "   'access_permission:extract_content': 'true',\n",
       "   'access_permission:extract_for_accessibility': 'true',\n",
       "   'access_permission:fill_in_form': 'true',\n",
       "   'access_permission:modify_annotations': 'true',\n",
       "   'cp:subject': '',\n",
       "   'created': '2018-11-07T20:40:24Z',\n",
       "   'date': '2018-11-07T20:40:24Z',\n",
       "   'dc:format': 'application/pdf; version=1.5',\n",
       "   'dc:subject': '',\n",
       "   'dcterms:created': '2018-11-07T20:40:24Z',\n",
       "   'dcterms:modified': '2018-11-07T20:40:24Z',\n",
       "   'meta:creation-date': '2018-11-07T20:40:24Z',\n",
       "   'meta:keyword': '',\n",
       "   'meta:save-date': '2018-11-07T20:40:24Z',\n",
       "   'modified': '2018-11-07T20:40:24Z',\n",
       "   'pdf:PDFVersion': '1.5',\n",
       "   'pdf:docinfo:created': '2018-11-07T20:40:24Z',\n",
       "   'pdf:docinfo:creator': '',\n",
       "   'pdf:docinfo:creator_tool': 'LaTeX with hyperref package',\n",
       "   'pdf:docinfo:custom:PTEX.Fullbanner': 'This is pdfTeX, Version 3.14159265-2.6-1.40.17 (TeX Live 2016) kpathsea version 6.2.2',\n",
       "   'pdf:docinfo:keywords': '',\n",
       "   'pdf:docinfo:modified': '2018-11-07T20:40:24Z',\n",
       "   'pdf:docinfo:producer': 'pdfTeX-1.40.17',\n",
       "   'pdf:docinfo:subject': '',\n",
       "   'pdf:docinfo:title': '',\n",
       "   'pdf:docinfo:trapped': 'False',\n",
       "   'pdf:encrypted': 'false',\n",
       "   'producer': 'pdfTeX-1.40.17',\n",
       "   'resourceName': 'https-arxiv-org-pdf-1811-02084v1-pdf',\n",
       "   'subject': '',\n",
       "   'trapped': 'False',\n",
       "   'xmp:CreatorTool': 'LaTeX with hyperref package',\n",
       "   'xmpTPg:NPages': '16'},\n",
       "  'status': 200}]"
      ]
     },
     "execution_count": 16,
     "metadata": {},
     "output_type": "execute_result"
    }
   ],
   "source": [
    "# bad_urls"
   ]
  },
  {
   "cell_type": "code",
   "execution_count": 14,
   "metadata": {},
   "outputs": [
    {
     "name": "stderr",
     "output_type": "stream",
     "text": [
      "2019-05-13 14:51:31,564 [MainThread  ] [INFO ]  Retrieving https://openaccess.thecvf.com/content_ECCV_2018/papers/Wei_Liu_Learning_Efficient_Single-stage_ECCV_2018_paper.pdf to /var/folders/1x/nph4r0452v1dk6t51bknf9080000gn/T/https-openaccess-thecvf-com-content_eccv_2018-papers-wei_liu_learning_efficient_single-stage_eccv_2018_paper-pdf.\n"
     ]
    },
    {
     "name": "stdout",
     "output_type": "stream",
     "text": [
      "128\n"
     ]
    }
   ],
   "source": [
    "# initializes an empty paper_content dictionary\n",
    "paper_content_2 = {}\n",
    "\n",
    "bad_urls = []\n",
    "\n",
    "try:\n",
    "    # iterates through each url in the paper_urls dataframe\n",
    "    for i in range(128, 130):\n",
    "    \n",
    "        # prints the count\n",
    "        print(i)\n",
    "        \n",
    "        # delays the script by 3 seconds\n",
    "    #     time.sleep(3)\n",
    "    \n",
    "        # parses the paper from the url\n",
    "        paper = parser.from_file(paper_urls.iloc[i][1])\n",
    "    \n",
    "        # extracts the content from the paper\n",
    "        text = paper['content']\n",
    "    \n",
    "        # splits the text by whitespace and creates a list\n",
    "        split_text = text.split(' ')\n",
    "    \n",
    "        # list comprehension that strips the \\n from the split_text list\n",
    "        split_text = [i.strip() for i in split_text]\n",
    "    \n",
    "        # assigns each paper text to the paper_content dict\n",
    "        paper_content_2[paper_urls.iloc[i][0]] = split_text\n",
    "        \n",
    "#     except urllib.URLError:\n",
    "\n",
    "#     except TimeoutError:\n",
    "      \n",
    "except Exception:\n",
    "    bad_urls.append(paper)\n",
    "        \n",
    "        "
   ]
  },
  {
   "cell_type": "code",
   "execution_count": 43,
   "metadata": {},
   "outputs": [
    {
     "data": {
      "text/html": [
       "<div>\n",
       "<style scoped>\n",
       "    .dataframe tbody tr th:only-of-type {\n",
       "        vertical-align: middle;\n",
       "    }\n",
       "\n",
       "    .dataframe tbody tr th {\n",
       "        vertical-align: top;\n",
       "    }\n",
       "\n",
       "    .dataframe thead th {\n",
       "        text-align: right;\n",
       "    }\n",
       "</style>\n",
       "<table border=\"1\" class=\"dataframe\">\n",
       "  <thead>\n",
       "    <tr style=\"text-align: right;\">\n",
       "      <th></th>\n",
       "      <th>paper_title</th>\n",
       "      <th>paper_content</th>\n",
       "    </tr>\n",
       "  </thead>\n",
       "  <tbody>\n",
       "    <tr>\n",
       "      <th>0</th>\n",
       "      <td>Detecting Oriented Text in Natural Images by L...</td>\n",
       "      <td>[Detecting, Oriented, Text, in, Natural, Image...</td>\n",
       "    </tr>\n",
       "    <tr>\n",
       "      <th>1</th>\n",
       "      <td>Neural Semantic Encoders</td>\n",
       "      <td>[Neural, Semantic, Encoders\\n\\nTsendsuren, Mun...</td>\n",
       "    </tr>\n",
       "    <tr>\n",
       "      <th>2</th>\n",
       "      <td>Pythia v0.1: the Winning Entry to the VQA Chal...</td>\n",
       "      <td>[Pythia, v0.1:, the, Winning, Entry, to, the, ...</td>\n",
       "    </tr>\n",
       "    <tr>\n",
       "      <th>3</th>\n",
       "      <td>Large Scale GAN Training for High Fidelity Nat...</td>\n",
       "      <td>[Published, as, a, conference, paper, at, ICLR...</td>\n",
       "    </tr>\n",
       "    <tr>\n",
       "      <th>4</th>\n",
       "      <td>Margin-based Parallel Corpus Mining with Multi...</td>\n",
       "      <td>[Margin-based, Parallel, Corpus, Mining\\nwith,...</td>\n",
       "    </tr>\n",
       "  </tbody>\n",
       "</table>\n",
       "</div>"
      ],
      "text/plain": [
       "                                         paper_title  \\\n",
       "0  Detecting Oriented Text in Natural Images by L...   \n",
       "1                           Neural Semantic Encoders   \n",
       "2  Pythia v0.1: the Winning Entry to the VQA Chal...   \n",
       "3  Large Scale GAN Training for High Fidelity Nat...   \n",
       "4  Margin-based Parallel Corpus Mining with Multi...   \n",
       "\n",
       "                                       paper_content  \n",
       "0  [Detecting, Oriented, Text, in, Natural, Image...  \n",
       "1  [Neural, Semantic, Encoders\\n\\nTsendsuren, Mun...  \n",
       "2  [Pythia, v0.1:, the, Winning, Entry, to, the, ...  \n",
       "3  [Published, as, a, conference, paper, at, ICLR...  \n",
       "4  [Margin-based, Parallel, Corpus, Mining\\nwith,...  "
      ]
     },
     "execution_count": 43,
     "metadata": {},
     "output_type": "execute_result"
    }
   ],
   "source": [
    "# creates the paper_data dataframe from the paper_content dict\n",
    "paper_data_1 = pd.DataFrame(list(paper_content_1.items()), columns=['paper_title', 'paper_content'])\n",
    "\n",
    "paper_data_1.head()"
   ]
  },
  {
   "cell_type": "code",
   "execution_count": 32,
   "metadata": {},
   "outputs": [
    {
     "data": {
      "text/html": [
       "<div>\n",
       "<style scoped>\n",
       "    .dataframe tbody tr th:only-of-type {\n",
       "        vertical-align: middle;\n",
       "    }\n",
       "\n",
       "    .dataframe tbody tr th {\n",
       "        vertical-align: top;\n",
       "    }\n",
       "\n",
       "    .dataframe thead th {\n",
       "        text-align: right;\n",
       "    }\n",
       "</style>\n",
       "<table border=\"1\" class=\"dataframe\">\n",
       "  <thead>\n",
       "    <tr style=\"text-align: right;\">\n",
       "      <th></th>\n",
       "      <th>paper_title</th>\n",
       "      <th>paper_content</th>\n",
       "    </tr>\n",
       "  </thead>\n",
       "  <tbody>\n",
       "    <tr>\n",
       "      <th>0</th>\n",
       "      <td>Detecting Oriented Text in Natural Images by L...</td>\n",
       "      <td>[Detecting, Oriented, Text, in, Natural, Image...</td>\n",
       "    </tr>\n",
       "    <tr>\n",
       "      <th>1</th>\n",
       "      <td>Neural Semantic Encoders</td>\n",
       "      <td>[Neural, Semantic, Encoders\\n\\nTsendsuren, Mun...</td>\n",
       "    </tr>\n",
       "    <tr>\n",
       "      <th>2</th>\n",
       "      <td>Pythia v0.1: the Winning Entry to the VQA Chal...</td>\n",
       "      <td>[Pythia, v0.1:, the, Winning, Entry, to, the, ...</td>\n",
       "    </tr>\n",
       "    <tr>\n",
       "      <th>3</th>\n",
       "      <td>Large Scale GAN Training for High Fidelity Nat...</td>\n",
       "      <td>[Published, as, a, conference, paper, at, ICLR...</td>\n",
       "    </tr>\n",
       "    <tr>\n",
       "      <th>4</th>\n",
       "      <td>Margin-based Parallel Corpus Mining with Multi...</td>\n",
       "      <td>[Margin-based, Parallel, Corpus, Mining\\nwith,...</td>\n",
       "    </tr>\n",
       "  </tbody>\n",
       "</table>\n",
       "</div>"
      ],
      "text/plain": [
       "                                         paper_title  \\\n",
       "0  Detecting Oriented Text in Natural Images by L...   \n",
       "1                           Neural Semantic Encoders   \n",
       "2  Pythia v0.1: the Winning Entry to the VQA Chal...   \n",
       "3  Large Scale GAN Training for High Fidelity Nat...   \n",
       "4  Margin-based Parallel Corpus Mining with Multi...   \n",
       "\n",
       "                                       paper_content  \n",
       "0  [Detecting, Oriented, Text, in, Natural, Image...  \n",
       "1  [Neural, Semantic, Encoders\\n\\nTsendsuren, Mun...  \n",
       "2  [Pythia, v0.1:, the, Winning, Entry, to, the, ...  \n",
       "3  [Published, as, a, conference, paper, at, ICLR...  \n",
       "4  [Margin-based, Parallel, Corpus, Mining\\nwith,...  "
      ]
     },
     "execution_count": 32,
     "metadata": {},
     "output_type": "execute_result"
    }
   ],
   "source": [
    "# creates the paper_data dataframe from the paper_content dict\n",
    "paper_data_2 = pd.DataFrame(list(paper_content_2.items()), columns=['paper_title', 'paper_content'])\n",
    "\n",
    "paper_data_2.head()"
   ]
  },
  {
   "cell_type": "code",
   "execution_count": 33,
   "metadata": {},
   "outputs": [
    {
     "data": {
      "text/html": [
       "<div>\n",
       "<style scoped>\n",
       "    .dataframe tbody tr th:only-of-type {\n",
       "        vertical-align: middle;\n",
       "    }\n",
       "\n",
       "    .dataframe tbody tr th {\n",
       "        vertical-align: top;\n",
       "    }\n",
       "\n",
       "    .dataframe thead th {\n",
       "        text-align: right;\n",
       "    }\n",
       "</style>\n",
       "<table border=\"1\" class=\"dataframe\">\n",
       "  <thead>\n",
       "    <tr style=\"text-align: right;\">\n",
       "      <th></th>\n",
       "      <th>paper_title</th>\n",
       "      <th>paper_content</th>\n",
       "    </tr>\n",
       "  </thead>\n",
       "  <tbody>\n",
       "    <tr>\n",
       "      <th>0</th>\n",
       "      <td>Detecting Oriented Text in Natural Images by L...</td>\n",
       "      <td>[Detecting, Oriented, Text, in, Natural, Image...</td>\n",
       "    </tr>\n",
       "    <tr>\n",
       "      <th>1</th>\n",
       "      <td>Neural Semantic Encoders</td>\n",
       "      <td>[Neural, Semantic, Encoders\\n\\nTsendsuren, Mun...</td>\n",
       "    </tr>\n",
       "    <tr>\n",
       "      <th>2</th>\n",
       "      <td>Pythia v0.1: the Winning Entry to the VQA Chal...</td>\n",
       "      <td>[Pythia, v0.1:, the, Winning, Entry, to, the, ...</td>\n",
       "    </tr>\n",
       "    <tr>\n",
       "      <th>3</th>\n",
       "      <td>Large Scale GAN Training for High Fidelity Nat...</td>\n",
       "      <td>[Published, as, a, conference, paper, at, ICLR...</td>\n",
       "    </tr>\n",
       "    <tr>\n",
       "      <th>4</th>\n",
       "      <td>Margin-based Parallel Corpus Mining with Multi...</td>\n",
       "      <td>[Margin-based, Parallel, Corpus, Mining\\nwith,...</td>\n",
       "    </tr>\n",
       "    <tr>\n",
       "      <th>5</th>\n",
       "      <td>Probabilistic Model-Agnostic Meta-Learning</td>\n",
       "      <td>[Probabilistic, Model-Agnostic, Meta-Learning\\...</td>\n",
       "    </tr>\n",
       "    <tr>\n",
       "      <th>6</th>\n",
       "      <td>Strong Baselines for Neural Semi-supervised Le...</td>\n",
       "      <td>[Strong, Baselines, for, Neural, Semi-supervis...</td>\n",
       "    </tr>\n",
       "    <tr>\n",
       "      <th>7</th>\n",
       "      <td>ESRGAN: Enhanced Super-Resolution Generative A...</td>\n",
       "      <td>[ESRGAN:, Enhanced, Super-Resolution\\nGenerati...</td>\n",
       "    </tr>\n",
       "    <tr>\n",
       "      <th>8</th>\n",
       "      <td>Semi-Supervised Sequence Modeling with Cross-V...</td>\n",
       "      <td>[Semi-Supervised, Sequence, Modeling, with, Cr...</td>\n",
       "    </tr>\n",
       "    <tr>\n",
       "      <th>9</th>\n",
       "      <td>Mixing Context Granularities for Improved Enti...</td>\n",
       "      <td>[Mixing, Context, Granularities, for, Improved...</td>\n",
       "    </tr>\n",
       "    <tr>\n",
       "      <th>10</th>\n",
       "      <td>Geometric Matrix Completion with Recurrent Mul...</td>\n",
       "      <td>[Geometric, Matrix, Completion, with, Recurren...</td>\n",
       "    </tr>\n",
       "    <tr>\n",
       "      <th>11</th>\n",
       "      <td>AutoAugment: Learning Augmentation Policies fr...</td>\n",
       "      <td>[AutoAugment:\\nLearning, Augmentation, Strateg...</td>\n",
       "    </tr>\n",
       "    <tr>\n",
       "      <th>12</th>\n",
       "      <td>ShuffleNet: An Extremely Efficient Convolution...</td>\n",
       "      <td>[ShuffleNet:, An, Extremely, Efficient, Convol...</td>\n",
       "    </tr>\n",
       "    <tr>\n",
       "      <th>13</th>\n",
       "      <td>Taking a Deeper Look at Pedestrians</td>\n",
       "      <td>[Taking, a, Deeper, Look, at, Pedestrians\\n\\nJ...</td>\n",
       "    </tr>\n",
       "    <tr>\n",
       "      <th>14</th>\n",
       "      <td>Linguistically-Informed Self-Attention for Sem...</td>\n",
       "      <td>[Linguistically-Informed, Self-Attention, for,...</td>\n",
       "    </tr>\n",
       "    <tr>\n",
       "      <th>15</th>\n",
       "      <td>Encoder-Decoder with Atrous Separable Convolut...</td>\n",
       "      <td>[Encoder-Decoder, with, Atrous, Separable\\nCon...</td>\n",
       "    </tr>\n",
       "    <tr>\n",
       "      <th>16</th>\n",
       "      <td>Bridging Category-level and Instance-level Sem...</td>\n",
       "      <td>[Bridging, Category-level, and, Instance-level...</td>\n",
       "    </tr>\n",
       "    <tr>\n",
       "      <th>17</th>\n",
       "      <td>Self-Adaptive Hierarchical Sentence Model</td>\n",
       "      <td>[Self-Adaptive, Hierarchical, Sentence, Model\\...</td>\n",
       "    </tr>\n",
       "    <tr>\n",
       "      <th>18</th>\n",
       "      <td>Glow: Generative Flow with Invertible 1x1 Conv...</td>\n",
       "      <td>[Glow:, Generative, Flow\\nwith, Invertible, 1×...</td>\n",
       "    </tr>\n",
       "    <tr>\n",
       "      <th>19</th>\n",
       "      <td>Structured Training for Neural Network Transit...</td>\n",
       "      <td>[Structured, Training, for, Neural, Network, T...</td>\n",
       "    </tr>\n",
       "    <tr>\n",
       "      <th>20</th>\n",
       "      <td>A Light CNN for Deep Face Representation with ...</td>\n",
       "      <td>[JOURNAL, OF, LATEX, CLASS, FILES,, VOL., 14,,...</td>\n",
       "    </tr>\n",
       "    <tr>\n",
       "      <th>21</th>\n",
       "      <td>Lightweight and Efficient Image Super-Resoluti...</td>\n",
       "      <td>[Lightweight, and, Efficient\\nImage, Super-Res...</td>\n",
       "    </tr>\n",
       "    <tr>\n",
       "      <th>22</th>\n",
       "      <td>Recurrent Highway Networks</td>\n",
       "      <td>[Recurrent, Highway, Networks\\n\\n\\nRecurrent, ...</td>\n",
       "    </tr>\n",
       "    <tr>\n",
       "      <th>23</th>\n",
       "      <td>Reasoning about Entailment with Neural Attention</td>\n",
       "      <td>[Reasoning, about, Entailment, with, Neural, A...</td>\n",
       "    </tr>\n",
       "    <tr>\n",
       "      <th>24</th>\n",
       "      <td>Compositional coding capsule network with k-me...</td>\n",
       "      <td>[COMPOSITIONAL, CODING, CAPSULE, NETWORK, WITH...</td>\n",
       "    </tr>\n",
       "    <tr>\n",
       "      <th>25</th>\n",
       "      <td>NPRF: A Neural Pseudo Relevance Feedback Frame...</td>\n",
       "      <td>[NPRF:, A, Neural, Pseudo, Relevance, Feedback...</td>\n",
       "    </tr>\n",
       "    <tr>\n",
       "      <th>26</th>\n",
       "      <td>The Neural Hype and Comparisons Against Weak B...</td>\n",
       "      <td>[Microsoft, Word, -, officers.doc\\n\\n\\nOPINION...</td>\n",
       "    </tr>\n",
       "    <tr>\n",
       "      <th>27</th>\n",
       "      <td>A large annotated corpus for learning natural ...</td>\n",
       "      <td>[A, large, annotated, corpus, for, learning, n...</td>\n",
       "    </tr>\n",
       "    <tr>\n",
       "      <th>28</th>\n",
       "      <td>Aggregate channel features for multi-view face...</td>\n",
       "      <td>[Aggregate, Channel, Features, for, Multi-view...</td>\n",
       "    </tr>\n",
       "    <tr>\n",
       "      <th>29</th>\n",
       "      <td>An All-In-One Convolutional Neural Network for...</td>\n",
       "      <td>[An, All-In-One, Convolutional, Neural, Networ...</td>\n",
       "    </tr>\n",
       "    <tr>\n",
       "      <th>...</th>\n",
       "      <td>...</td>\n",
       "      <td>...</td>\n",
       "    </tr>\n",
       "    <tr>\n",
       "      <th>329</th>\n",
       "      <td>StarMap for Category-Agnostic Keypoint and Vie...</td>\n",
       "      <td>[StarMap, for, Category-Agnostic, Keypoint, an...</td>\n",
       "    </tr>\n",
       "    <tr>\n",
       "      <th>330</th>\n",
       "      <td>Rotational Unit of Memory</td>\n",
       "      <td>[ROTATIONAL, UNIT, OF, MEMORY\\n\\nRumen, Dangov...</td>\n",
       "    </tr>\n",
       "    <tr>\n",
       "      <th>331</th>\n",
       "      <td>Rethinking Atrous Convolution for Semantic Ima...</td>\n",
       "      <td>[Rethinking, Atrous, Convolution, for, Semanti...</td>\n",
       "    </tr>\n",
       "    <tr>\n",
       "      <th>332</th>\n",
       "      <td>Towards End-to-End Lane Detection: an Instance...</td>\n",
       "      <td>[Towards, End-to-End, Lane, Detection:, an, In...</td>\n",
       "    </tr>\n",
       "    <tr>\n",
       "      <th>333</th>\n",
       "      <td>SyncSpecCNN: Synchronized Spectral CNN for 3D ...</td>\n",
       "      <td>[SyncSpecCNN:, Synchronized, Spectral, CNN, fo...</td>\n",
       "    </tr>\n",
       "    <tr>\n",
       "      <th>334</th>\n",
       "      <td>ContextLocNet: Context-Aware Deep Network Mode...</td>\n",
       "      <td>[ContextLocNet:, Context-Aware, Deep, Network\\...</td>\n",
       "    </tr>\n",
       "    <tr>\n",
       "      <th>335</th>\n",
       "      <td>Conditional Random Fields as Recurrent Neural ...</td>\n",
       "      <td>[Conditional, Random, Fields, as, Recurrent, N...</td>\n",
       "    </tr>\n",
       "    <tr>\n",
       "      <th>336</th>\n",
       "      <td>High-Fidelity Image Generation With Fewer Labels</td>\n",
       "      <td>[, High-Fidelity, Image, Generation, With, Few...</td>\n",
       "    </tr>\n",
       "    <tr>\n",
       "      <th>337</th>\n",
       "      <td>Deep Back-Projection Networks For Super-Resolu...</td>\n",
       "      <td>[Deep, Back-Projection, Networks, For, Super-R...</td>\n",
       "    </tr>\n",
       "    <tr>\n",
       "      <th>338</th>\n",
       "      <td>Multi-level Wavelet-CNN for Image Restoration</td>\n",
       "      <td>[Multi-level, Wavelet-CNN, for, Image, Restora...</td>\n",
       "    </tr>\n",
       "    <tr>\n",
       "      <th>339</th>\n",
       "      <td>Can Active Memory Replace Attention?</td>\n",
       "      <td>[()\\n\\n\\nar\\nX\\n\\niv\\n:1\\n\\n61\\n0.\\n\\n08\\n61\\n...</td>\n",
       "    </tr>\n",
       "    <tr>\n",
       "      <th>340</th>\n",
       "      <td>Graph Convolutional Matrix Completion</td>\n",
       "      <td>[Graph, Convolutional, Matrix, Completion\\n\\nR...</td>\n",
       "    </tr>\n",
       "    <tr>\n",
       "      <th>341</th>\n",
       "      <td>Global Hypothesis Generation for 6D Object Pos...</td>\n",
       "      <td>[Global, Hypothesis, Generation, for, 6D, Obje...</td>\n",
       "    </tr>\n",
       "    <tr>\n",
       "      <th>342</th>\n",
       "      <td>Viewpoints and Keypoints</td>\n",
       "      <td>[Viewpoints, and, Keypoints\\n\\nShubham, Tulsia...</td>\n",
       "    </tr>\n",
       "    <tr>\n",
       "      <th>343</th>\n",
       "      <td>Predicting Semantic Relations using Global Gra...</td>\n",
       "      <td>[ar\\nX\\n\\niv\\n:1\\n\\n80\\n8.\\n\\n08\\n64\\n\\n4v\\n1,...</td>\n",
       "    </tr>\n",
       "    <tr>\n",
       "      <th>344</th>\n",
       "      <td>Corners for Layout: End-to-End Layout Recovery...</td>\n",
       "      <td>[Corners, for, Layout:, End-to-End, Layout, Re...</td>\n",
       "    </tr>\n",
       "    <tr>\n",
       "      <th>345</th>\n",
       "      <td>A Deep Cascade Model for Multi-Document Readin...</td>\n",
       "      <td>[A, Deep, Cascade, Model, for, Multi-Document,...</td>\n",
       "    </tr>\n",
       "    <tr>\n",
       "      <th>346</th>\n",
       "      <td>Mean teachers are better role models: Weight-a...</td>\n",
       "      <td>[Mean, teachers, are, better, role, models:\\nW...</td>\n",
       "    </tr>\n",
       "    <tr>\n",
       "      <th>347</th>\n",
       "      <td>Anytime Stereo Image Depth Estimation on Mobil...</td>\n",
       "      <td>[Anytime, Stereo, Image, Depth, Estimation, on...</td>\n",
       "    </tr>\n",
       "    <tr>\n",
       "      <th>348</th>\n",
       "      <td>Effective Attention Modeling for Aspect-Level ...</td>\n",
       "      <td>[Effective, Attention, Modeling, for, Aspect-L...</td>\n",
       "    </tr>\n",
       "    <tr>\n",
       "      <th>349</th>\n",
       "      <td>Ask, Attend and Answer: Exploring Question-Gui...</td>\n",
       "      <td>[Ask,, Attend, and, Answer:, Exploring\\nQuesti...</td>\n",
       "    </tr>\n",
       "    <tr>\n",
       "      <th>350</th>\n",
       "      <td>Purely sequence-trained neural networks for AS...</td>\n",
       "      <td>[Purely, sequence-trained, neural, networks, f...</td>\n",
       "    </tr>\n",
       "    <tr>\n",
       "      <th>351</th>\n",
       "      <td>Orthogonal Deep Features Decomposition for Age...</td>\n",
       "      <td>[1\\n\\nOrthogonal, Deep, Features, Decompositio...</td>\n",
       "    </tr>\n",
       "    <tr>\n",
       "      <th>352</th>\n",
       "      <td>An Integral Pose Regression System for the ECC...</td>\n",
       "      <td>[An, Integral, Pose, Regression, System, for, ...</td>\n",
       "    </tr>\n",
       "    <tr>\n",
       "      <th>353</th>\n",
       "      <td>Brain Tumor Segmentation and Radiomics Surviva...</td>\n",
       "      <td>[Brain, Tumor, Segmentation, and, Radiomics\\nS...</td>\n",
       "    </tr>\n",
       "    <tr>\n",
       "      <th>354</th>\n",
       "      <td>DeepCut: Joint Subset Partition and Labeling f...</td>\n",
       "      <td>[DeepCut:, Joint, Subset, Partition, and, Labe...</td>\n",
       "    </tr>\n",
       "    <tr>\n",
       "      <th>355</th>\n",
       "      <td>Transfer Learning for Sequence Tagging with Hi...</td>\n",
       "      <td>[Published, as, a, conference, paper, at, ICLR...</td>\n",
       "    </tr>\n",
       "    <tr>\n",
       "      <th>356</th>\n",
       "      <td>Learning Efficient Convolutional Networks thro...</td>\n",
       "      <td>[Learning, Efficient, Convolutional, Networks,...</td>\n",
       "    </tr>\n",
       "    <tr>\n",
       "      <th>357</th>\n",
       "      <td>One Billion Word Benchmark for Measuring Progr...</td>\n",
       "      <td>[()\\n\\n\\nar\\nX\\n\\niv\\n:1\\n\\n31\\n2.\\n\\n30\\n05\\n...</td>\n",
       "    </tr>\n",
       "    <tr>\n",
       "      <th>358</th>\n",
       "      <td>Learning from Simulated and Unsupervised Image...</td>\n",
       "      <td>[This, paper, has, been, submitted, for, publi...</td>\n",
       "    </tr>\n",
       "  </tbody>\n",
       "</table>\n",
       "<p>359 rows × 2 columns</p>\n",
       "</div>"
      ],
      "text/plain": [
       "                                           paper_title  \\\n",
       "0    Detecting Oriented Text in Natural Images by L...   \n",
       "1                             Neural Semantic Encoders   \n",
       "2    Pythia v0.1: the Winning Entry to the VQA Chal...   \n",
       "3    Large Scale GAN Training for High Fidelity Nat...   \n",
       "4    Margin-based Parallel Corpus Mining with Multi...   \n",
       "5           Probabilistic Model-Agnostic Meta-Learning   \n",
       "6    Strong Baselines for Neural Semi-supervised Le...   \n",
       "7    ESRGAN: Enhanced Super-Resolution Generative A...   \n",
       "8    Semi-Supervised Sequence Modeling with Cross-V...   \n",
       "9    Mixing Context Granularities for Improved Enti...   \n",
       "10   Geometric Matrix Completion with Recurrent Mul...   \n",
       "11   AutoAugment: Learning Augmentation Policies fr...   \n",
       "12   ShuffleNet: An Extremely Efficient Convolution...   \n",
       "13                 Taking a Deeper Look at Pedestrians   \n",
       "14   Linguistically-Informed Self-Attention for Sem...   \n",
       "15   Encoder-Decoder with Atrous Separable Convolut...   \n",
       "16   Bridging Category-level and Instance-level Sem...   \n",
       "17           Self-Adaptive Hierarchical Sentence Model   \n",
       "18   Glow: Generative Flow with Invertible 1x1 Conv...   \n",
       "19   Structured Training for Neural Network Transit...   \n",
       "20   A Light CNN for Deep Face Representation with ...   \n",
       "21   Lightweight and Efficient Image Super-Resoluti...   \n",
       "22                          Recurrent Highway Networks   \n",
       "23    Reasoning about Entailment with Neural Attention   \n",
       "24   Compositional coding capsule network with k-me...   \n",
       "25   NPRF: A Neural Pseudo Relevance Feedback Frame...   \n",
       "26   The Neural Hype and Comparisons Against Weak B...   \n",
       "27   A large annotated corpus for learning natural ...   \n",
       "28   Aggregate channel features for multi-view face...   \n",
       "29   An All-In-One Convolutional Neural Network for...   \n",
       "..                                                 ...   \n",
       "329  StarMap for Category-Agnostic Keypoint and Vie...   \n",
       "330                          Rotational Unit of Memory   \n",
       "331  Rethinking Atrous Convolution for Semantic Ima...   \n",
       "332  Towards End-to-End Lane Detection: an Instance...   \n",
       "333  SyncSpecCNN: Synchronized Spectral CNN for 3D ...   \n",
       "334  ContextLocNet: Context-Aware Deep Network Mode...   \n",
       "335  Conditional Random Fields as Recurrent Neural ...   \n",
       "336   High-Fidelity Image Generation With Fewer Labels   \n",
       "337  Deep Back-Projection Networks For Super-Resolu...   \n",
       "338      Multi-level Wavelet-CNN for Image Restoration   \n",
       "339               Can Active Memory Replace Attention?   \n",
       "340              Graph Convolutional Matrix Completion   \n",
       "341  Global Hypothesis Generation for 6D Object Pos...   \n",
       "342                           Viewpoints and Keypoints   \n",
       "343  Predicting Semantic Relations using Global Gra...   \n",
       "344  Corners for Layout: End-to-End Layout Recovery...   \n",
       "345  A Deep Cascade Model for Multi-Document Readin...   \n",
       "346  Mean teachers are better role models: Weight-a...   \n",
       "347  Anytime Stereo Image Depth Estimation on Mobil...   \n",
       "348  Effective Attention Modeling for Aspect-Level ...   \n",
       "349  Ask, Attend and Answer: Exploring Question-Gui...   \n",
       "350  Purely sequence-trained neural networks for AS...   \n",
       "351  Orthogonal Deep Features Decomposition for Age...   \n",
       "352  An Integral Pose Regression System for the ECC...   \n",
       "353  Brain Tumor Segmentation and Radiomics Surviva...   \n",
       "354  DeepCut: Joint Subset Partition and Labeling f...   \n",
       "355  Transfer Learning for Sequence Tagging with Hi...   \n",
       "356  Learning Efficient Convolutional Networks thro...   \n",
       "357  One Billion Word Benchmark for Measuring Progr...   \n",
       "358  Learning from Simulated and Unsupervised Image...   \n",
       "\n",
       "                                         paper_content  \n",
       "0    [Detecting, Oriented, Text, in, Natural, Image...  \n",
       "1    [Neural, Semantic, Encoders\\n\\nTsendsuren, Mun...  \n",
       "2    [Pythia, v0.1:, the, Winning, Entry, to, the, ...  \n",
       "3    [Published, as, a, conference, paper, at, ICLR...  \n",
       "4    [Margin-based, Parallel, Corpus, Mining\\nwith,...  \n",
       "5    [Probabilistic, Model-Agnostic, Meta-Learning\\...  \n",
       "6    [Strong, Baselines, for, Neural, Semi-supervis...  \n",
       "7    [ESRGAN:, Enhanced, Super-Resolution\\nGenerati...  \n",
       "8    [Semi-Supervised, Sequence, Modeling, with, Cr...  \n",
       "9    [Mixing, Context, Granularities, for, Improved...  \n",
       "10   [Geometric, Matrix, Completion, with, Recurren...  \n",
       "11   [AutoAugment:\\nLearning, Augmentation, Strateg...  \n",
       "12   [ShuffleNet:, An, Extremely, Efficient, Convol...  \n",
       "13   [Taking, a, Deeper, Look, at, Pedestrians\\n\\nJ...  \n",
       "14   [Linguistically-Informed, Self-Attention, for,...  \n",
       "15   [Encoder-Decoder, with, Atrous, Separable\\nCon...  \n",
       "16   [Bridging, Category-level, and, Instance-level...  \n",
       "17   [Self-Adaptive, Hierarchical, Sentence, Model\\...  \n",
       "18   [Glow:, Generative, Flow\\nwith, Invertible, 1×...  \n",
       "19   [Structured, Training, for, Neural, Network, T...  \n",
       "20   [JOURNAL, OF, LATEX, CLASS, FILES,, VOL., 14,,...  \n",
       "21   [Lightweight, and, Efficient\\nImage, Super-Res...  \n",
       "22   [Recurrent, Highway, Networks\\n\\n\\nRecurrent, ...  \n",
       "23   [Reasoning, about, Entailment, with, Neural, A...  \n",
       "24   [COMPOSITIONAL, CODING, CAPSULE, NETWORK, WITH...  \n",
       "25   [NPRF:, A, Neural, Pseudo, Relevance, Feedback...  \n",
       "26   [Microsoft, Word, -, officers.doc\\n\\n\\nOPINION...  \n",
       "27   [A, large, annotated, corpus, for, learning, n...  \n",
       "28   [Aggregate, Channel, Features, for, Multi-view...  \n",
       "29   [An, All-In-One, Convolutional, Neural, Networ...  \n",
       "..                                                 ...  \n",
       "329  [StarMap, for, Category-Agnostic, Keypoint, an...  \n",
       "330  [ROTATIONAL, UNIT, OF, MEMORY\\n\\nRumen, Dangov...  \n",
       "331  [Rethinking, Atrous, Convolution, for, Semanti...  \n",
       "332  [Towards, End-to-End, Lane, Detection:, an, In...  \n",
       "333  [SyncSpecCNN:, Synchronized, Spectral, CNN, fo...  \n",
       "334  [ContextLocNet:, Context-Aware, Deep, Network\\...  \n",
       "335  [Conditional, Random, Fields, as, Recurrent, N...  \n",
       "336  [, High-Fidelity, Image, Generation, With, Few...  \n",
       "337  [Deep, Back-Projection, Networks, For, Super-R...  \n",
       "338  [Multi-level, Wavelet-CNN, for, Image, Restora...  \n",
       "339  [()\\n\\n\\nar\\nX\\n\\niv\\n:1\\n\\n61\\n0.\\n\\n08\\n61\\n...  \n",
       "340  [Graph, Convolutional, Matrix, Completion\\n\\nR...  \n",
       "341  [Global, Hypothesis, Generation, for, 6D, Obje...  \n",
       "342  [Viewpoints, and, Keypoints\\n\\nShubham, Tulsia...  \n",
       "343  [ar\\nX\\n\\niv\\n:1\\n\\n80\\n8.\\n\\n08\\n64\\n\\n4v\\n1,...  \n",
       "344  [Corners, for, Layout:, End-to-End, Layout, Re...  \n",
       "345  [A, Deep, Cascade, Model, for, Multi-Document,...  \n",
       "346  [Mean, teachers, are, better, role, models:\\nW...  \n",
       "347  [Anytime, Stereo, Image, Depth, Estimation, on...  \n",
       "348  [Effective, Attention, Modeling, for, Aspect-L...  \n",
       "349  [Ask,, Attend, and, Answer:, Exploring\\nQuesti...  \n",
       "350  [Purely, sequence-trained, neural, networks, f...  \n",
       "351  [1\\n\\nOrthogonal, Deep, Features, Decompositio...  \n",
       "352  [An, Integral, Pose, Regression, System, for, ...  \n",
       "353  [Brain, Tumor, Segmentation, and, Radiomics\\nS...  \n",
       "354  [DeepCut:, Joint, Subset, Partition, and, Labe...  \n",
       "355  [Published, as, a, conference, paper, at, ICLR...  \n",
       "356  [Learning, Efficient, Convolutional, Networks,...  \n",
       "357  [()\\n\\n\\nar\\nX\\n\\niv\\n:1\\n\\n31\\n2.\\n\\n30\\n05\\n...  \n",
       "358  [This, paper, has, been, submitted, for, publi...  \n",
       "\n",
       "[359 rows x 2 columns]"
      ]
     },
     "execution_count": 33,
     "metadata": {},
     "output_type": "execute_result"
    }
   ],
   "source": [
    "paper_data_2"
   ]
  },
  {
   "cell_type": "code",
   "execution_count": 34,
   "metadata": {},
   "outputs": [],
   "source": [
    "# exports the paper_data to csv\n",
    "paper_data_2.to_csv('/Users/nialdaly/Documents/ml_optimisation/data/pw_code_papers_text.csv', index = False)"
   ]
  },
  {
   "cell_type": "code",
   "execution_count": null,
   "metadata": {},
   "outputs": [],
   "source": []
  }
 ],
 "metadata": {
  "kernelspec": {
   "display_name": "Python 3",
   "language": "python",
   "name": "python3"
  },
  "language_info": {
   "codemirror_mode": {
    "name": "ipython",
    "version": 3
   },
   "file_extension": ".py",
   "mimetype": "text/x-python",
   "name": "python",
   "nbconvert_exporter": "python",
   "pygments_lexer": "ipython3",
   "version": "3.6.4"
  }
 },
 "nbformat": 4,
 "nbformat_minor": 2
}
