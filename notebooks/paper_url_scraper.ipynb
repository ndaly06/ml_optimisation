{
 "cells": [
  {
   "cell_type": "code",
   "execution_count": 1,
   "metadata": {},
   "outputs": [],
   "source": [
    "# imports the required packages\n",
    "from bs4 import BeautifulSoup\n",
    "from html.parser import HTMLParser\n",
    "import pandas as pd\n",
    "import pickle\n",
    "import requests"
   ]
  },
  {
   "cell_type": "code",
   "execution_count": 11,
   "metadata": {},
   "outputs": [
    {
     "data": {
      "text/plain": [
       "'/paper/detecting-oriented-text-in-natural-images-by'"
      ]
     },
     "execution_count": 11,
     "metadata": {},
     "output_type": "execute_result"
    }
   ],
   "source": [
    "# reads in the paper_paths text file\n",
    "with open ('/Users/nialdaly/Documents/ml_optimisation/data/paper_paths.txt', 'rb') as fp:\n",
    "    paper_paths = pickle.load(fp)\n",
    "\n",
    "# displays the first element in the paper_paths list\n",
    "paper_paths[0]"
   ]
  },
  {
   "cell_type": "code",
   "execution_count": null,
   "metadata": {},
   "outputs": [],
   "source": [
    "# initializes an empty paper_url_dict dict\n",
    "paper_url_dict = {}\n",
    "\n",
    "# iterates through each paper path in the paper_paths list\n",
    "for i in range(len(paper_paths)):\n",
    "    \n",
    "    url = \"https://paperswithcode.com\" + paper_paths[i]\n",
    "    html_doc = requests.get(url).content\n",
    "    soup = BeautifulSoup(html_doc, 'html.parser')\n",
    "    \n",
    "    # searches for the title of each research paper\n",
    "    paper_title_search = soup.findAll('div', attrs = {'class': 'paper-title'})\n",
    "\n",
    "    # appends each paper title to the paper_titles list\n",
    "    for title in paper_title_search:\n",
    "        \n",
    "        # extracts the paper title from each h1 html tag\n",
    "        paper_title = title.h1\n",
    "        \n",
    "#         print(i, paper_title.text)\n",
    "        \n",
    "    # extracts the url from each paper page on paperswithcode \n",
    "    url = soup.findAll(attrs={'class' : 'badge badge-light'}, href = True)[0].get('href')\n",
    "    \n",
    "    # adds each paper title and url to the paper_url_dict dict\n",
    "    paper_url_dict[paper_title.text] = url"
   ]
  },
  {
   "cell_type": "code",
   "execution_count": 44,
   "metadata": {},
   "outputs": [
    {
     "data": {
      "text/html": [
       "<div>\n",
       "<style scoped>\n",
       "    .dataframe tbody tr th:only-of-type {\n",
       "        vertical-align: middle;\n",
       "    }\n",
       "\n",
       "    .dataframe tbody tr th {\n",
       "        vertical-align: top;\n",
       "    }\n",
       "\n",
       "    .dataframe thead th {\n",
       "        text-align: right;\n",
       "    }\n",
       "</style>\n",
       "<table border=\"1\" class=\"dataframe\">\n",
       "  <thead>\n",
       "    <tr style=\"text-align: right;\">\n",
       "      <th></th>\n",
       "      <th>paper_title</th>\n",
       "      <th>paper_url</th>\n",
       "    </tr>\n",
       "  </thead>\n",
       "  <tbody>\n",
       "    <tr>\n",
       "      <th>0</th>\n",
       "      <td>Detecting Oriented Text in Natural Images by L...</td>\n",
       "      <td>https://arxiv.org/pdf/1703.06520v3.pdf</td>\n",
       "    </tr>\n",
       "    <tr>\n",
       "      <th>1</th>\n",
       "      <td>Neural Semantic Encoders</td>\n",
       "      <td>https://arxiv.org/pdf/1607.04315v3.pdf</td>\n",
       "    </tr>\n",
       "    <tr>\n",
       "      <th>2</th>\n",
       "      <td>Pythia v0.1: the Winning Entry to the VQA Chal...</td>\n",
       "      <td>https://arxiv.org/pdf/1807.09956v2.pdf</td>\n",
       "    </tr>\n",
       "    <tr>\n",
       "      <th>3</th>\n",
       "      <td>Large Scale GAN Training for High Fidelity Nat...</td>\n",
       "      <td>https://arxiv.org/pdf/1809.11096v2.pdf</td>\n",
       "    </tr>\n",
       "    <tr>\n",
       "      <th>4</th>\n",
       "      <td>Margin-based Parallel Corpus Mining with Multi...</td>\n",
       "      <td>https://arxiv.org/pdf/1811.01136v1.pdf</td>\n",
       "    </tr>\n",
       "  </tbody>\n",
       "</table>\n",
       "</div>"
      ],
      "text/plain": [
       "                                         paper_title  \\\n",
       "0  Detecting Oriented Text in Natural Images by L...   \n",
       "1                           Neural Semantic Encoders   \n",
       "2  Pythia v0.1: the Winning Entry to the VQA Chal...   \n",
       "3  Large Scale GAN Training for High Fidelity Nat...   \n",
       "4  Margin-based Parallel Corpus Mining with Multi...   \n",
       "\n",
       "                                paper_url  \n",
       "0  https://arxiv.org/pdf/1703.06520v3.pdf  \n",
       "1  https://arxiv.org/pdf/1607.04315v3.pdf  \n",
       "2  https://arxiv.org/pdf/1807.09956v2.pdf  \n",
       "3  https://arxiv.org/pdf/1809.11096v2.pdf  \n",
       "4  https://arxiv.org/pdf/1811.01136v1.pdf  "
      ]
     },
     "execution_count": 44,
     "metadata": {},
     "output_type": "execute_result"
    }
   ],
   "source": [
    "# creates a paper_urls dataframe from the paper_url_dict\n",
    "paper_urls = pd.DataFrame(list(paper_url_dict.items()), columns = ['paper_title', 'paper_url'])\n",
    "\n",
    "paper_urls.head()"
   ]
  },
  {
   "cell_type": "code",
   "execution_count": 45,
   "metadata": {},
   "outputs": [],
   "source": [
    "# exports the paper_urls dataframe to csv\n",
    "paper_urls.to_csv('/Users/nialdaly/Documents/ml_optimisation/data/pw_code_paper_urls.csv', index=False)"
   ]
  }
 ],
 "metadata": {
  "kernelspec": {
   "display_name": "Python 3",
   "language": "python",
   "name": "python3"
  },
  "language_info": {
   "codemirror_mode": {
    "name": "ipython",
    "version": 3
   },
   "file_extension": ".py",
   "mimetype": "text/x-python",
   "name": "python",
   "nbconvert_exporter": "python",
   "pygments_lexer": "ipython3",
   "version": "3.6.4"
  }
 },
 "nbformat": 4,
 "nbformat_minor": 2
}
